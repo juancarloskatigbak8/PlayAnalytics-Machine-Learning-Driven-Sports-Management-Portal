{
 "cells": [
  {
   "cell_type": "code",
   "execution_count": null,
   "id": "a7087fce-92d5-43da-8ec3-171481db1bbc",
   "metadata": {},
   "outputs": [],
   "source": [
    "import pandas as pd\n",
    "from sklearn.ensemble import RandomForestClassifier\n",
    "from sklearn.model_selection import train_test_split\n",
    "from sklearn.preprocessing import LabelEncoder\n",
    "import joblib\n",
    "\n",
    "# Load enhanced dataset\n",
    "df = pd.read_csv(\"player_data_enhanced.csv\")\n",
    "\n",
    "# Select features and target\n",
    "features = [\n",
    "    \"Minutes_per_game\", \"FG_Attempts_per_game\", \"Steals_per_game\", \"Blocks_per_game\",\n",
    "    \"Fouls_per_game\", \"Cumulative_Load\", \"Age\", \"Height_in_Inches\", \"Weight_in_Pounds\", \"Total_Injuries\"\n",
    "]\n",
    "\n",
    "df = df.dropna(subset=features + [\"Risk_Level\"])\n",
    "X = df[features]\n",
    "le = LabelEncoder()\n",
    "y = le.fit_transform(df[\"Risk_Level\"])\n",
    "\n",
    "# Split dataset\n",
    "X_train, X_test, y_train, y_test = train_test_split(X, y, stratify=y, test_size=0.2, random_state=42)\n",
    "\n",
    "# Train model\n",
    "rf_model = RandomForestClassifier(n_estimators=100, random_state=42)\n",
    "rf_model.fit(X_train, y_train)\n",
    "\n",
    "# Save model\n",
    "joblib.dump(rf_model, \"rf_injury_model.joblib\")\n",
    "print(\"✅ Model retrained and saved as rf_injury_model.joblib\")\n"
   ]
  }
 ],
 "metadata": {
  "kernelspec": {
   "display_name": "Python [conda env:base] *",
   "language": "python",
   "name": "conda-base-py"
  },
  "language_info": {
   "codemirror_mode": {
    "name": "ipython",
    "version": 3
   },
   "file_extension": ".py",
   "mimetype": "text/x-python",
   "name": "python",
   "nbconvert_exporter": "python",
   "pygments_lexer": "ipython3",
   "version": "3.12.2"
  }
 },
 "nbformat": 4,
 "nbformat_minor": 5
}
