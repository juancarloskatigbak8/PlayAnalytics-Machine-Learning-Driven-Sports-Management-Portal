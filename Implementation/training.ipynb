{
 "cells": [
  {
   "cell_type": "code",
   "execution_count": 67,
   "id": "2d9752f2-0dd6-48d7-a855-6fd06bc7a223",
   "metadata": {},
   "outputs": [],
   "source": [
    "import pandas as pd\n",
    "\n",
    "# Load your dataset\n",
    "df = pd.read_csv(\"player_data.csv\")\n"
   ]
  },
  {
   "cell_type": "code",
   "execution_count": 69,
   "id": "0b80b335-5462-493f-a64b-1b2bc3a064a8",
   "metadata": {},
   "outputs": [],
   "source": [
    "df[\"performance_load\"] = (\n",
    "    df[\"Games_Played\"] * df[\"Minutes_Played\"]\n",
    "    + df[\"Field_Goals_Attempted\"]\n",
    "    + df[\"Three_Point_Field_Goals_Attempted\"]\n",
    "    + df[\"Free_Throws_Attempted\"]\n",
    ")\n"
   ]
  },
  {
   "cell_type": "code",
   "execution_count": 71,
   "id": "322c026d-7b43-4f6d-bb40-89ad92e0ad58",
   "metadata": {},
   "outputs": [],
   "source": [
    "def assign_risk_label(row):\n",
    "    injuries = row[\"Total_Injuries\"]\n",
    "    injury_type = str(row[\"Most_Common_Injury\"]).lower()\n",
    "    perf_load = row[\"performance_load\"]\n",
    "\n",
    "    if injuries <= 2 and injury_type in [\"eye\", \"illness\", \"none\"]:\n",
    "        return \"Low\"\n",
    "    elif 3 <= injuries <= 5 and perf_load < 10000:\n",
    "        return \"Low-Medium\"\n",
    "    elif 3 <= injuries <= 5 and perf_load >= 10000:\n",
    "        return \"Medium\"\n",
    "    elif 6 <= injuries <= 10 and perf_load >= 15000:\n",
    "        return \"Medium-High\"\n",
    "    elif injuries > 10 and perf_load >= 20000:\n",
    "        return \"High\"\n",
    "    else:\n",
    "        return \"Medium\"\n"
   ]
  },
  {
   "cell_type": "code",
   "execution_count": 73,
   "id": "aa2b8b02-dd52-45c1-8bb6-e1f42e0eb218",
   "metadata": {},
   "outputs": [],
   "source": [
    "df[\"predicted_risk_label\"] = df.apply(assign_risk_label, axis=1)\n"
   ]
  },
  {
   "cell_type": "code",
   "execution_count": 75,
   "id": "9283486f-ff52-48ce-988a-c599b04d6e88",
   "metadata": {},
   "outputs": [
    {
     "name": "stdout",
     "output_type": "stream",
     "text": [
      "predicted_risk_label\n",
      "High           630\n",
      "Medium         297\n",
      "Medium-High     73\n",
      "Name: count, dtype: int64\n"
     ]
    }
   ],
   "source": [
    "print(df[\"predicted_risk_label\"].value_counts())\n"
   ]
  },
  {
   "cell_type": "code",
   "execution_count": 77,
   "id": "f41b8e1e-7325-498b-9514-115e882e83d5",
   "metadata": {},
   "outputs": [],
   "source": [
    "from sklearn.preprocessing import LabelEncoder\n",
    "\n",
    "label_encoder = LabelEncoder()\n",
    "df[\"risk_encoded\"] = label_encoder.fit_transform(df[\"predicted_risk_label\"])\n"
   ]
  },
  {
   "cell_type": "code",
   "execution_count": 79,
   "id": "3dfb389d-5029-4aeb-9670-75d60dd04ce8",
   "metadata": {},
   "outputs": [],
   "source": [
    "features = [\n",
    "    \"Age\", \"Height_in_Inches\", \"Weight_in_Pounds\", \"Games_Played\", \"Minutes_Played\",\n",
    "    \"Field_Goals_Attempted\", \"Three_Point_Field_Goals_Attempted\",\n",
    "    \"Free_Throws_Attempted\", \"Steals\", \"Blocks\", \"Fouls\"\n",
    "]\n",
    "\n",
    "X = df[features]\n",
    "y = df[\"risk_encoded\"]\n"
   ]
  },
  {
   "cell_type": "code",
   "execution_count": 81,
   "id": "e72a247b-d1cd-48ab-b476-0496a31bb897",
   "metadata": {},
   "outputs": [],
   "source": [
    "from sklearn.model_selection import train_test_split\n",
    "\n",
    "X_train, X_test, y_train, y_test = train_test_split(\n",
    "    X, y, test_size=0.2, random_state=42\n",
    ")\n"
   ]
  },
  {
   "cell_type": "code",
   "execution_count": 83,
   "id": "4c7292ad-ae63-4da4-9efd-775439555ccc",
   "metadata": {},
   "outputs": [
    {
     "name": "stdout",
     "output_type": "stream",
     "text": [
      "\n",
      "Model: Random Forest\n",
      "Accuracy: 0.965\n",
      "Classification Report:\n",
      "               precision    recall  f1-score   support\n",
      "\n",
      "        High       0.99      0.98      0.99       141\n",
      "      Medium       0.94      1.00      0.97        51\n",
      " Medium-High       0.57      0.50      0.53         8\n",
      "\n",
      "    accuracy                           0.96       200\n",
      "   macro avg       0.84      0.83      0.83       200\n",
      "weighted avg       0.96      0.96      0.96       200\n",
      "\n",
      "\n",
      "Model: SVM\n",
      "Accuracy: 0.855\n",
      "Classification Report:\n",
      "               precision    recall  f1-score   support\n",
      "\n",
      "        High       0.83      1.00      0.91       141\n",
      "      Medium       0.97      0.59      0.73        51\n",
      " Medium-High       0.00      0.00      0.00         8\n",
      "\n",
      "    accuracy                           0.85       200\n",
      "   macro avg       0.60      0.53      0.55       200\n",
      "weighted avg       0.83      0.85      0.83       200\n",
      "\n",
      "\n",
      "Model: XGBoost\n",
      "Accuracy: 0.965\n",
      "Classification Report:\n",
      "               precision    recall  f1-score   support\n",
      "\n",
      "        High       0.99      0.98      0.99       141\n",
      "      Medium       0.94      1.00      0.97        51\n",
      " Medium-High       0.57      0.50      0.53         8\n",
      "\n",
      "    accuracy                           0.96       200\n",
      "   macro avg       0.84      0.83      0.83       200\n",
      "weighted avg       0.96      0.96      0.96       200\n",
      "\n"
     ]
    },
    {
     "name": "stderr",
     "output_type": "stream",
     "text": [
      "/opt/anaconda3/lib/python3.12/site-packages/sklearn/metrics/_classification.py:1565: UndefinedMetricWarning: Precision is ill-defined and being set to 0.0 in labels with no predicted samples. Use `zero_division` parameter to control this behavior.\n",
      "  _warn_prf(average, modifier, f\"{metric.capitalize()} is\", len(result))\n",
      "/opt/anaconda3/lib/python3.12/site-packages/sklearn/metrics/_classification.py:1565: UndefinedMetricWarning: Precision is ill-defined and being set to 0.0 in labels with no predicted samples. Use `zero_division` parameter to control this behavior.\n",
      "  _warn_prf(average, modifier, f\"{metric.capitalize()} is\", len(result))\n",
      "/opt/anaconda3/lib/python3.12/site-packages/sklearn/metrics/_classification.py:1565: UndefinedMetricWarning: Precision is ill-defined and being set to 0.0 in labels with no predicted samples. Use `zero_division` parameter to control this behavior.\n",
      "  _warn_prf(average, modifier, f\"{metric.capitalize()} is\", len(result))\n"
     ]
    }
   ],
   "source": [
    "from sklearn.ensemble import RandomForestClassifier\n",
    "from sklearn.svm import SVC\n",
    "from xgboost import XGBClassifier\n",
    "from sklearn.metrics import accuracy_score, classification_report\n",
    "\n",
    "models = {\n",
    "    \"Random Forest\": RandomForestClassifier(n_estimators=100, random_state=42),\n",
    "    \"SVM\": SVC(probability=True, kernel='rbf', C=1),\n",
    "    \"XGBoost\": XGBClassifier(eval_metric='mlogloss', random_state=42)\n",
    "}\n",
    "\n",
    "for name, model in models.items():\n",
    "    model.fit(X_train, y_train)\n",
    "    preds = model.predict(X_test)\n",
    "    print(f\"\\nModel: {name}\")\n",
    "    print(\"Accuracy:\", accuracy_score(y_test, preds))\n",
    "    print(\"Classification Report:\\n\", classification_report(\n",
    "        y_test, preds, target_names=label_encoder.classes_\n",
    "    ))\n"
   ]
  },
  {
   "cell_type": "code",
   "execution_count": 85,
   "id": "7cd1d34b-b6ef-462d-939c-6a88f8bc5966",
   "metadata": {},
   "outputs": [
    {
     "name": "stdout",
     "output_type": "stream",
     "text": [
      "✅ Model and label encoder saved as .joblib files!\n"
     ]
    }
   ],
   "source": [
    "import joblib\n",
    "\n",
    "# Save the best model (Random Forest) and label encoder\n",
    "joblib.dump(models[\"Random Forest\"], \"rf_injury_model.joblib\")\n",
    "joblib.dump(label_encoder, \"risk_label_encoder.joblib\")\n",
    "\n",
    "print(\"✅ Model and label encoder saved as .joblib files!\")\n"
   ]
  },
  {
   "cell_type": "code",
   "execution_count": null,
   "id": "4c55b90a-d540-42df-9f17-6bc10502050a",
   "metadata": {},
   "outputs": [],
   "source": []
  }
 ],
 "metadata": {
  "kernelspec": {
   "display_name": "Python [conda env:base] *",
   "language": "python",
   "name": "conda-base-py"
  },
  "language_info": {
   "codemirror_mode": {
    "name": "ipython",
    "version": 3
   },
   "file_extension": ".py",
   "mimetype": "text/x-python",
   "name": "python",
   "nbconvert_exporter": "python",
   "pygments_lexer": "ipython3",
   "version": "3.12.2"
  }
 },
 "nbformat": 4,
 "nbformat_minor": 5
}
