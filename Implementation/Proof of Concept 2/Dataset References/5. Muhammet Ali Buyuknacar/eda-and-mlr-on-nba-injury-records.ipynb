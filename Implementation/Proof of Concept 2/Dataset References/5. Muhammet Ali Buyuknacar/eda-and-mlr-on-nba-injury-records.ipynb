{
 "cells": [
  {
   "cell_type": "code",
   "execution_count": 1,
   "id": "7ed3bb01",
   "metadata": {
    "_cell_guid": "b1076dfc-b9ad-4769-8c92-a6c4dae69d19",
    "_uuid": "8f2839f25d086af736a60e9eeb907d3b93b6e0e5",
    "execution": {
     "iopub.execute_input": "2021-09-18T07:40:13.753430Z",
     "iopub.status.busy": "2021-09-18T07:40:13.752749Z",
     "iopub.status.idle": "2021-09-18T07:40:13.771886Z",
     "shell.execute_reply": "2021-09-18T07:40:13.770497Z",
     "shell.execute_reply.started": "2021-09-18T06:26:16.66257Z"
    },
    "papermill": {
     "duration": 0.095956,
     "end_time": "2021-09-18T07:40:13.772213",
     "exception": false,
     "start_time": "2021-09-18T07:40:13.676257",
     "status": "completed"
    },
    "tags": []
   },
   "outputs": [
    {
     "name": "stdout",
     "output_type": "stream",
     "text": [
      "/kaggle/input/active-nba-players-10-year-injury-history/Injury_History.csv\n",
      "/kaggle/input/202122-nba-season-active-nba-players/active_players_2.csv\n"
     ]
    }
   ],
   "source": [
    "import numpy as np\n",
    "import pandas as pd \n",
    "\n",
    "import os\n",
    "for dirname, _, filenames in os.walk('/kaggle/input'):\n",
    "    for filename in filenames:\n",
    "        print(os.path.join(dirname, filename))"
   ]
  },
  {
   "cell_type": "code",
   "execution_count": 2,
   "id": "43874673",
   "metadata": {
    "execution": {
     "iopub.execute_input": "2021-09-18T07:40:13.899772Z",
     "iopub.status.busy": "2021-09-18T07:40:13.899086Z",
     "iopub.status.idle": "2021-09-18T07:40:14.049181Z",
     "shell.execute_reply": "2021-09-18T07:40:14.048600Z",
     "shell.execute_reply.started": "2021-09-18T06:26:16.689898Z"
    },
    "papermill": {
     "duration": 0.215455,
     "end_time": "2021-09-18T07:40:14.049403",
     "exception": false,
     "start_time": "2021-09-18T07:40:13.833948",
     "status": "completed"
    },
    "tags": []
   },
   "outputs": [
    {
     "data": {
      "text/html": [
       "<div>\n",
       "<style scoped>\n",
       "    .dataframe tbody tr th:only-of-type {\n",
       "        vertical-align: middle;\n",
       "    }\n",
       "\n",
       "    .dataframe tbody tr th {\n",
       "        vertical-align: top;\n",
       "    }\n",
       "\n",
       "    .dataframe thead th {\n",
       "        text-align: right;\n",
       "    }\n",
       "</style>\n",
       "<table border=\"1\" class=\"dataframe\">\n",
       "  <thead>\n",
       "    <tr style=\"text-align: right;\">\n",
       "      <th></th>\n",
       "      <th>Name</th>\n",
       "      <th>Team</th>\n",
       "      <th>Position</th>\n",
       "      <th>Date</th>\n",
       "      <th>Notes</th>\n",
       "    </tr>\n",
       "  </thead>\n",
       "  <tbody>\n",
       "    <tr>\n",
       "      <th>0</th>\n",
       "      <td>Jaylen Brown</td>\n",
       "      <td>Boston Celtics</td>\n",
       "      <td>SG</td>\n",
       "      <td>11/01/2017</td>\n",
       "      <td>sprained right ankle (DTD)</td>\n",
       "    </tr>\n",
       "    <tr>\n",
       "      <th>1</th>\n",
       "      <td>Jaylen Brown</td>\n",
       "      <td>Boston Celtics</td>\n",
       "      <td>SG</td>\n",
       "      <td>13/01/2017</td>\n",
       "      <td>returned to lineup</td>\n",
       "    </tr>\n",
       "    <tr>\n",
       "      <th>2</th>\n",
       "      <td>Jaylen Brown</td>\n",
       "      <td>Boston Celtics</td>\n",
       "      <td>SG</td>\n",
       "      <td>13/02/2017</td>\n",
       "      <td>placed on IL with strained right hip flexor</td>\n",
       "    </tr>\n",
       "    <tr>\n",
       "      <th>3</th>\n",
       "      <td>Jaylen Brown</td>\n",
       "      <td>Boston Celtics</td>\n",
       "      <td>SG</td>\n",
       "      <td>24/02/2017</td>\n",
       "      <td>activated from IL</td>\n",
       "    </tr>\n",
       "    <tr>\n",
       "      <th>4</th>\n",
       "      <td>Jaylen Brown</td>\n",
       "      <td>Boston Celtics</td>\n",
       "      <td>SG</td>\n",
       "      <td>06/12/2017</td>\n",
       "      <td>placed on IL with right eye inflammation</td>\n",
       "    </tr>\n",
       "  </tbody>\n",
       "</table>\n",
       "</div>"
      ],
      "text/plain": [
       "           Name            Team Position        Date  \\\n",
       "0  Jaylen Brown  Boston Celtics       SG  11/01/2017   \n",
       "1  Jaylen Brown  Boston Celtics       SG  13/01/2017   \n",
       "2  Jaylen Brown  Boston Celtics       SG  13/02/2017   \n",
       "3  Jaylen Brown  Boston Celtics       SG  24/02/2017   \n",
       "4  Jaylen Brown  Boston Celtics       SG  06/12/2017   \n",
       "\n",
       "                                         Notes  \n",
       "0                   sprained right ankle (DTD)  \n",
       "1                           returned to lineup  \n",
       "2  placed on IL with strained right hip flexor  \n",
       "3                            activated from IL  \n",
       "4     placed on IL with right eye inflammation  "
      ]
     },
     "execution_count": 2,
     "metadata": {},
     "output_type": "execute_result"
    }
   ],
   "source": [
    "df = pd.read_csv(\"/kaggle/input/active-nba-players-10-year-injury-history/Injury_History.csv\")\n",
    "\n",
    "df.head()"
   ]
  },
  {
   "cell_type": "code",
   "execution_count": 3,
   "id": "a55e22d8",
   "metadata": {
    "execution": {
     "iopub.execute_input": "2021-09-18T07:40:14.180814Z",
     "iopub.status.busy": "2021-09-18T07:40:14.180127Z",
     "iopub.status.idle": "2021-09-18T07:40:14.196792Z",
     "shell.execute_reply": "2021-09-18T07:40:14.197229Z",
     "shell.execute_reply.started": "2021-09-18T06:26:16.89733Z"
    },
    "papermill": {
     "duration": 0.086686,
     "end_time": "2021-09-18T07:40:14.197417",
     "exception": false,
     "start_time": "2021-09-18T07:40:14.110731",
     "status": "completed"
    },
    "tags": []
   },
   "outputs": [
    {
     "name": "stdout",
     "output_type": "stream",
     "text": [
      "<class 'pandas.core.frame.DataFrame'>\n",
      "RangeIndex: 9280 entries, 0 to 9279\n",
      "Data columns (total 5 columns):\n",
      " #   Column    Non-Null Count  Dtype \n",
      "---  ------    --------------  ----- \n",
      " 0   Name      9280 non-null   object\n",
      " 1   Team      9280 non-null   object\n",
      " 2   Position  9280 non-null   object\n",
      " 3   Date      9280 non-null   object\n",
      " 4   Notes     9280 non-null   object\n",
      "dtypes: object(5)\n",
      "memory usage: 362.6+ KB\n"
     ]
    }
   ],
   "source": [
    "df.info()"
   ]
  },
  {
   "cell_type": "markdown",
   "id": "85370cb7",
   "metadata": {
    "papermill": {
     "duration": 0.059728,
     "end_time": "2021-09-18T07:40:14.317668",
     "exception": false,
     "start_time": "2021-09-18T07:40:14.257940",
     "status": "completed"
    },
    "tags": []
   },
   "source": [
    "There are no null values in our dataset."
   ]
  },
  {
   "cell_type": "code",
   "execution_count": 4,
   "id": "e3e3f4aa",
   "metadata": {
    "execution": {
     "iopub.execute_input": "2021-09-18T07:40:14.468432Z",
     "iopub.status.busy": "2021-09-18T07:40:14.463088Z",
     "iopub.status.idle": "2021-09-18T07:40:15.381025Z",
     "shell.execute_reply": "2021-09-18T07:40:15.381642Z",
     "shell.execute_reply.started": "2021-09-18T06:26:16.92333Z"
    },
    "papermill": {
     "duration": 1.003827,
     "end_time": "2021-09-18T07:40:15.381828",
     "exception": false,
     "start_time": "2021-09-18T07:40:14.378001",
     "status": "completed"
    },
    "tags": []
   },
   "outputs": [
    {
     "name": "stdout",
     "output_type": "stream",
     "text": [
      "<class 'pandas.core.frame.DataFrame'>\n",
      "RangeIndex: 9280 entries, 0 to 9279\n",
      "Data columns (total 5 columns):\n",
      " #   Column    Non-Null Count  Dtype         \n",
      "---  ------    --------------  -----         \n",
      " 0   Name      9280 non-null   object        \n",
      " 1   Team      9280 non-null   object        \n",
      " 2   Position  9280 non-null   object        \n",
      " 3   Date      9280 non-null   datetime64[ns]\n",
      " 4   Notes     9280 non-null   object        \n",
      "dtypes: datetime64[ns](1), object(4)\n",
      "memory usage: 362.6+ KB\n"
     ]
    }
   ],
   "source": [
    "df[\"Name\"] = df[\"Name\"].astype(\"str\")\n",
    "df[\"Team\"] = df[\"Team\"].astype(\"str\")\n",
    "df[\"Position\"] = df[\"Position\"].astype(\"str\")\n",
    "df[\"Notes\"] = df[\"Notes\"].astype(\"str\")\n",
    "df[\"Date\"] = df[\"Date\"].apply(pd.to_datetime)\n",
    "\n",
    "df.info()"
   ]
  },
  {
   "cell_type": "markdown",
   "id": "bf0df993",
   "metadata": {
    "papermill": {
     "duration": 0.061389,
     "end_time": "2021-09-18T07:40:15.505673",
     "exception": false,
     "start_time": "2021-09-18T07:40:15.444284",
     "status": "completed"
    },
    "tags": []
   },
   "source": [
    "The datatypes are changed accordingly."
   ]
  },
  {
   "cell_type": "code",
   "execution_count": 5,
   "id": "4f002318",
   "metadata": {
    "execution": {
     "iopub.execute_input": "2021-09-18T07:40:15.643909Z",
     "iopub.status.busy": "2021-09-18T07:40:15.642768Z",
     "iopub.status.idle": "2021-09-18T07:40:15.648108Z",
     "shell.execute_reply": "2021-09-18T07:40:15.647261Z",
     "shell.execute_reply.started": "2021-09-18T06:26:17.859034Z"
    },
    "papermill": {
     "duration": 0.081341,
     "end_time": "2021-09-18T07:40:15.648256",
     "exception": false,
     "start_time": "2021-09-18T07:40:15.566915",
     "status": "completed"
    },
    "tags": []
   },
   "outputs": [
    {
     "data": {
      "text/html": [
       "<div>\n",
       "<style scoped>\n",
       "    .dataframe tbody tr th:only-of-type {\n",
       "        vertical-align: middle;\n",
       "    }\n",
       "\n",
       "    .dataframe tbody tr th {\n",
       "        vertical-align: top;\n",
       "    }\n",
       "\n",
       "    .dataframe thead th {\n",
       "        text-align: right;\n",
       "    }\n",
       "</style>\n",
       "<table border=\"1\" class=\"dataframe\">\n",
       "  <thead>\n",
       "    <tr style=\"text-align: right;\">\n",
       "      <th></th>\n",
       "      <th>Name</th>\n",
       "      <th>Team</th>\n",
       "      <th>Position</th>\n",
       "      <th>Date</th>\n",
       "      <th>Notes</th>\n",
       "    </tr>\n",
       "  </thead>\n",
       "  <tbody>\n",
       "    <tr>\n",
       "      <th>0</th>\n",
       "      <td>Jaylen Brown</td>\n",
       "      <td>Boston Celtics</td>\n",
       "      <td>SG</td>\n",
       "      <td>2017-11-01</td>\n",
       "      <td>sprained right ankle (DTD)</td>\n",
       "    </tr>\n",
       "    <tr>\n",
       "      <th>1</th>\n",
       "      <td>Jaylen Brown</td>\n",
       "      <td>Boston Celtics</td>\n",
       "      <td>SG</td>\n",
       "      <td>2017-01-13</td>\n",
       "      <td>returned to lineup</td>\n",
       "    </tr>\n",
       "    <tr>\n",
       "      <th>2</th>\n",
       "      <td>Jaylen Brown</td>\n",
       "      <td>Boston Celtics</td>\n",
       "      <td>SG</td>\n",
       "      <td>2017-02-13</td>\n",
       "      <td>placed on IL with strained right hip flexor</td>\n",
       "    </tr>\n",
       "    <tr>\n",
       "      <th>3</th>\n",
       "      <td>Jaylen Brown</td>\n",
       "      <td>Boston Celtics</td>\n",
       "      <td>SG</td>\n",
       "      <td>2017-02-24</td>\n",
       "      <td>activated from IL</td>\n",
       "    </tr>\n",
       "    <tr>\n",
       "      <th>4</th>\n",
       "      <td>Jaylen Brown</td>\n",
       "      <td>Boston Celtics</td>\n",
       "      <td>SG</td>\n",
       "      <td>2017-06-12</td>\n",
       "      <td>placed on IL with right eye inflammation</td>\n",
       "    </tr>\n",
       "  </tbody>\n",
       "</table>\n",
       "</div>"
      ],
      "text/plain": [
       "           Name            Team Position       Date  \\\n",
       "0  Jaylen Brown  Boston Celtics       SG 2017-11-01   \n",
       "1  Jaylen Brown  Boston Celtics       SG 2017-01-13   \n",
       "2  Jaylen Brown  Boston Celtics       SG 2017-02-13   \n",
       "3  Jaylen Brown  Boston Celtics       SG 2017-02-24   \n",
       "4  Jaylen Brown  Boston Celtics       SG 2017-06-12   \n",
       "\n",
       "                                         Notes  \n",
       "0                   sprained right ankle (DTD)  \n",
       "1                           returned to lineup  \n",
       "2  placed on IL with strained right hip flexor  \n",
       "3                            activated from IL  \n",
       "4     placed on IL with right eye inflammation  "
      ]
     },
     "execution_count": 5,
     "metadata": {},
     "output_type": "execute_result"
    }
   ],
   "source": [
    "df.head()"
   ]
  },
  {
   "cell_type": "code",
   "execution_count": 6,
   "id": "e55cf7eb",
   "metadata": {
    "execution": {
     "iopub.execute_input": "2021-09-18T07:40:15.857895Z",
     "iopub.status.busy": "2021-09-18T07:40:15.778806Z",
     "iopub.status.idle": "2021-09-18T07:40:15.869180Z",
     "shell.execute_reply": "2021-09-18T07:40:15.869810Z",
     "shell.execute_reply.started": "2021-09-18T06:26:17.873119Z"
    },
    "papermill": {
     "duration": 0.159396,
     "end_time": "2021-09-18T07:40:15.870001",
     "exception": false,
     "start_time": "2021-09-18T07:40:15.710605",
     "status": "completed"
    },
    "tags": []
   },
   "outputs": [
    {
     "data": {
      "text/html": [
       "<div>\n",
       "<style scoped>\n",
       "    .dataframe tbody tr th:only-of-type {\n",
       "        vertical-align: middle;\n",
       "    }\n",
       "\n",
       "    .dataframe tbody tr th {\n",
       "        vertical-align: top;\n",
       "    }\n",
       "\n",
       "    .dataframe thead th {\n",
       "        text-align: right;\n",
       "    }\n",
       "</style>\n",
       "<table border=\"1\" class=\"dataframe\">\n",
       "  <thead>\n",
       "    <tr style=\"text-align: right;\">\n",
       "      <th></th>\n",
       "      <th>Name</th>\n",
       "      <th>Team</th>\n",
       "      <th>Position</th>\n",
       "      <th>Date</th>\n",
       "      <th>Notes</th>\n",
       "    </tr>\n",
       "  </thead>\n",
       "  <tbody>\n",
       "    <tr>\n",
       "      <th>0</th>\n",
       "      <td>Jaylen Brown</td>\n",
       "      <td>Boston Celtics</td>\n",
       "      <td>SG</td>\n",
       "      <td>01-11-2017</td>\n",
       "      <td>sprained right ankle (DTD)</td>\n",
       "    </tr>\n",
       "    <tr>\n",
       "      <th>1</th>\n",
       "      <td>Jaylen Brown</td>\n",
       "      <td>Boston Celtics</td>\n",
       "      <td>SG</td>\n",
       "      <td>13-01-2017</td>\n",
       "      <td>returned to lineup</td>\n",
       "    </tr>\n",
       "    <tr>\n",
       "      <th>2</th>\n",
       "      <td>Jaylen Brown</td>\n",
       "      <td>Boston Celtics</td>\n",
       "      <td>SG</td>\n",
       "      <td>13-02-2017</td>\n",
       "      <td>placed on IL with strained right hip flexor</td>\n",
       "    </tr>\n",
       "    <tr>\n",
       "      <th>3</th>\n",
       "      <td>Jaylen Brown</td>\n",
       "      <td>Boston Celtics</td>\n",
       "      <td>SG</td>\n",
       "      <td>24-02-2017</td>\n",
       "      <td>activated from IL</td>\n",
       "    </tr>\n",
       "    <tr>\n",
       "      <th>4</th>\n",
       "      <td>Jaylen Brown</td>\n",
       "      <td>Boston Celtics</td>\n",
       "      <td>SG</td>\n",
       "      <td>12-06-2017</td>\n",
       "      <td>placed on IL with right eye inflammation</td>\n",
       "    </tr>\n",
       "  </tbody>\n",
       "</table>\n",
       "</div>"
      ],
      "text/plain": [
       "           Name            Team Position        Date  \\\n",
       "0  Jaylen Brown  Boston Celtics       SG  01-11-2017   \n",
       "1  Jaylen Brown  Boston Celtics       SG  13-01-2017   \n",
       "2  Jaylen Brown  Boston Celtics       SG  13-02-2017   \n",
       "3  Jaylen Brown  Boston Celtics       SG  24-02-2017   \n",
       "4  Jaylen Brown  Boston Celtics       SG  12-06-2017   \n",
       "\n",
       "                                         Notes  \n",
       "0                   sprained right ankle (DTD)  \n",
       "1                           returned to lineup  \n",
       "2  placed on IL with strained right hip flexor  \n",
       "3                            activated from IL  \n",
       "4     placed on IL with right eye inflammation  "
      ]
     },
     "execution_count": 6,
     "metadata": {},
     "output_type": "execute_result"
    }
   ],
   "source": [
    "df['Date'] = df[\"Date\"].dt.strftime('%d-%m-%Y')\n",
    "\n",
    "df.head()"
   ]
  },
  {
   "cell_type": "markdown",
   "id": "5ee2309f",
   "metadata": {
    "papermill": {
     "duration": 0.063379,
     "end_time": "2021-09-18T07:40:15.995730",
     "exception": false,
     "start_time": "2021-09-18T07:40:15.932351",
     "status": "completed"
    },
    "tags": []
   },
   "source": [
    "Changed the date to day-month-year format."
   ]
  },
  {
   "cell_type": "code",
   "execution_count": 7,
   "id": "f67a8e6a",
   "metadata": {
    "execution": {
     "iopub.execute_input": "2021-09-18T07:40:16.123143Z",
     "iopub.status.busy": "2021-09-18T07:40:16.122519Z",
     "iopub.status.idle": "2021-09-18T07:40:16.179806Z",
     "shell.execute_reply": "2021-09-18T07:40:16.179247Z",
     "shell.execute_reply.started": "2021-09-18T06:26:17.964266Z"
    },
    "papermill": {
     "duration": 0.122139,
     "end_time": "2021-09-18T07:40:16.179959",
     "exception": false,
     "start_time": "2021-09-18T07:40:16.057820",
     "status": "completed"
    },
    "tags": []
   },
   "outputs": [
    {
     "data": {
      "text/html": [
       "<div>\n",
       "<style scoped>\n",
       "    .dataframe tbody tr th:only-of-type {\n",
       "        vertical-align: middle;\n",
       "    }\n",
       "\n",
       "    .dataframe tbody tr th {\n",
       "        vertical-align: top;\n",
       "    }\n",
       "\n",
       "    .dataframe thead th {\n",
       "        text-align: right;\n",
       "    }\n",
       "</style>\n",
       "<table border=\"1\" class=\"dataframe\">\n",
       "  <thead>\n",
       "    <tr style=\"text-align: right;\">\n",
       "      <th></th>\n",
       "      <th>Name</th>\n",
       "      <th>Team</th>\n",
       "      <th>Position</th>\n",
       "      <th>Date</th>\n",
       "      <th>Notes</th>\n",
       "    </tr>\n",
       "  </thead>\n",
       "  <tbody>\n",
       "    <tr>\n",
       "      <th>count</th>\n",
       "      <td>9280</td>\n",
       "      <td>9280</td>\n",
       "      <td>9280</td>\n",
       "      <td>9280</td>\n",
       "      <td>9280</td>\n",
       "    </tr>\n",
       "    <tr>\n",
       "      <th>unique</th>\n",
       "      <td>344</td>\n",
       "      <td>30</td>\n",
       "      <td>7</td>\n",
       "      <td>1734</td>\n",
       "      <td>1552</td>\n",
       "    </tr>\n",
       "    <tr>\n",
       "      <th>top</th>\n",
       "      <td>Kevin Love</td>\n",
       "      <td>Los Angeles Lakers</td>\n",
       "      <td>C</td>\n",
       "      <td>04-12-2017</td>\n",
       "      <td>activated from IL</td>\n",
       "    </tr>\n",
       "    <tr>\n",
       "      <th>freq</th>\n",
       "      <td>139</td>\n",
       "      <td>715</td>\n",
       "      <td>1943</td>\n",
       "      <td>35</td>\n",
       "      <td>2480</td>\n",
       "    </tr>\n",
       "  </tbody>\n",
       "</table>\n",
       "</div>"
      ],
      "text/plain": [
       "              Name                Team Position        Date              Notes\n",
       "count         9280                9280     9280        9280               9280\n",
       "unique         344                  30        7        1734               1552\n",
       "top     Kevin Love  Los Angeles Lakers        C  04-12-2017  activated from IL\n",
       "freq           139                 715     1943          35               2480"
      ]
     },
     "execution_count": 7,
     "metadata": {},
     "output_type": "execute_result"
    }
   ],
   "source": [
    "df.describe()"
   ]
  },
  {
   "cell_type": "markdown",
   "id": "19215f85",
   "metadata": {
    "papermill": {
     "duration": 0.062364,
     "end_time": "2021-09-18T07:40:16.305181",
     "exception": false,
     "start_time": "2021-09-18T07:40:16.242817",
     "status": "completed"
    },
    "tags": []
   },
   "source": [
    "There are 344 unique NBA players who are actively playing in the 2021-22 NBA season.\n",
    "\n",
    "These 344 players have 9280 injury updates.\n",
    "\n",
    "There are 30 NBA teams as expected.\n",
    "\n",
    "Only 1552 notes are unique from the 9280."
   ]
  },
  {
   "cell_type": "code",
   "execution_count": 8,
   "id": "fe099c77",
   "metadata": {
    "execution": {
     "iopub.execute_input": "2021-09-18T07:40:16.442797Z",
     "iopub.status.busy": "2021-09-18T07:40:16.439435Z",
     "iopub.status.idle": "2021-09-18T07:40:16.446952Z",
     "shell.execute_reply": "2021-09-18T07:40:16.446473Z",
     "shell.execute_reply.started": "2021-09-18T06:26:18.029578Z"
    },
    "papermill": {
     "duration": 0.079594,
     "end_time": "2021-09-18T07:40:16.447092",
     "exception": false,
     "start_time": "2021-09-18T07:40:16.367498",
     "status": "completed"
    },
    "tags": []
   },
   "outputs": [
    {
     "data": {
      "text/plain": [
       "activated from IL                                                             2480\n",
       "returned to lineup                                                            1035\n",
       "placed on IL                                                                   627\n",
       "rest (DTD)                                                                     147\n",
       "placed on IL with illness                                                      117\n",
       "                                                                              ... \n",
       "arthroscopic surgery on right hip to repair torn labrum (out indefinitely)       1\n",
       "sore left shoulder (out for season)                                              1\n",
       "placed on IL with illness (F)                                                    1\n",
       "left thigh injury (out for season)                                               1\n",
       "sore chest (P) / shoulder injury (CBC) (DNP)                                     1\n",
       "Name: Notes, Length: 1552, dtype: int64"
      ]
     },
     "execution_count": 8,
     "metadata": {},
     "output_type": "execute_result"
    }
   ],
   "source": [
    "df[\"Notes\"].value_counts()"
   ]
  },
  {
   "cell_type": "markdown",
   "id": "a4317604",
   "metadata": {
    "papermill": {
     "duration": 0.062131,
     "end_time": "2021-09-18T07:40:16.572045",
     "exception": false,
     "start_time": "2021-09-18T07:40:16.509914",
     "status": "completed"
    },
    "tags": []
   },
   "source": [
    "From this line of code we can see the most common injury notes. They are mostly about the IL spot's status."
   ]
  },
  {
   "cell_type": "code",
   "execution_count": 9,
   "id": "220bfcb2",
   "metadata": {
    "execution": {
     "iopub.execute_input": "2021-09-18T07:40:16.722981Z",
     "iopub.status.busy": "2021-09-18T07:40:16.721947Z",
     "iopub.status.idle": "2021-09-18T07:40:16.726337Z",
     "shell.execute_reply": "2021-09-18T07:40:16.726873Z",
     "shell.execute_reply.started": "2021-09-18T06:26:18.044568Z"
    },
    "papermill": {
     "duration": 0.092052,
     "end_time": "2021-09-18T07:40:16.727042",
     "exception": false,
     "start_time": "2021-09-18T07:40:16.634990",
     "status": "completed"
    },
    "tags": []
   },
   "outputs": [
    {
     "data": {
      "text/html": [
       "<div>\n",
       "<style scoped>\n",
       "    .dataframe tbody tr th:only-of-type {\n",
       "        vertical-align: middle;\n",
       "    }\n",
       "\n",
       "    .dataframe tbody tr th {\n",
       "        vertical-align: top;\n",
       "    }\n",
       "\n",
       "    .dataframe thead th {\n",
       "        text-align: right;\n",
       "    }\n",
       "</style>\n",
       "<table border=\"1\" class=\"dataframe\">\n",
       "  <thead>\n",
       "    <tr style=\"text-align: right;\">\n",
       "      <th></th>\n",
       "      <th>Name</th>\n",
       "      <th>Team</th>\n",
       "      <th>Position</th>\n",
       "      <th>Date</th>\n",
       "      <th>Notes</th>\n",
       "    </tr>\n",
       "  </thead>\n",
       "  <tbody>\n",
       "    <tr>\n",
       "      <th>5365</th>\n",
       "      <td>Paul George</td>\n",
       "      <td>Los Angeles Clippers</td>\n",
       "      <td>SG</td>\n",
       "      <td>28-11-2010</td>\n",
       "      <td>placed on IL</td>\n",
       "    </tr>\n",
       "    <tr>\n",
       "      <th>5366</th>\n",
       "      <td>Paul George</td>\n",
       "      <td>Los Angeles Clippers</td>\n",
       "      <td>SG</td>\n",
       "      <td>13-12-2010</td>\n",
       "      <td>activated from IL</td>\n",
       "    </tr>\n",
       "    <tr>\n",
       "      <th>5367</th>\n",
       "      <td>Paul George</td>\n",
       "      <td>Los Angeles Clippers</td>\n",
       "      <td>SG</td>\n",
       "      <td>17-12-2010</td>\n",
       "      <td>placed on IL</td>\n",
       "    </tr>\n",
       "    <tr>\n",
       "      <th>5368</th>\n",
       "      <td>Paul George</td>\n",
       "      <td>Los Angeles Clippers</td>\n",
       "      <td>SG</td>\n",
       "      <td>29-12-2010</td>\n",
       "      <td>activated from IL</td>\n",
       "    </tr>\n",
       "    <tr>\n",
       "      <th>5369</th>\n",
       "      <td>Paul George</td>\n",
       "      <td>Los Angeles Clippers</td>\n",
       "      <td>SG</td>\n",
       "      <td>01-12-2013</td>\n",
       "      <td>placed on IL with illness</td>\n",
       "    </tr>\n",
       "    <tr>\n",
       "      <th>5370</th>\n",
       "      <td>Paul George</td>\n",
       "      <td>Los Angeles Clippers</td>\n",
       "      <td>SG</td>\n",
       "      <td>13-01-2013</td>\n",
       "      <td>activated from IL</td>\n",
       "    </tr>\n",
       "    <tr>\n",
       "      <th>5371</th>\n",
       "      <td>Paul George</td>\n",
       "      <td>Los Angeles Clippers</td>\n",
       "      <td>SG</td>\n",
       "      <td>17-04-2013</td>\n",
       "      <td>DNP</td>\n",
       "    </tr>\n",
       "    <tr>\n",
       "      <th>5372</th>\n",
       "      <td>Paul George</td>\n",
       "      <td>Los Angeles Clippers</td>\n",
       "      <td>SG</td>\n",
       "      <td>04-09-2014</td>\n",
       "      <td>rest (DNP)</td>\n",
       "    </tr>\n",
       "    <tr>\n",
       "      <th>5373</th>\n",
       "      <td>Paul George</td>\n",
       "      <td>Los Angeles Clippers</td>\n",
       "      <td>SG</td>\n",
       "      <td>08-01-2014</td>\n",
       "      <td>surgery on right leg to repair fractured tibia...</td>\n",
       "    </tr>\n",
       "    <tr>\n",
       "      <th>5374</th>\n",
       "      <td>Paul George</td>\n",
       "      <td>Los Angeles Clippers</td>\n",
       "      <td>SG</td>\n",
       "      <td>29-10-2014</td>\n",
       "      <td>placed on IL recovering from surgery on right ...</td>\n",
       "    </tr>\n",
       "    <tr>\n",
       "      <th>5375</th>\n",
       "      <td>Paul George</td>\n",
       "      <td>Los Angeles Clippers</td>\n",
       "      <td>SG</td>\n",
       "      <td>04-05-2015</td>\n",
       "      <td>activated from IL</td>\n",
       "    </tr>\n",
       "    <tr>\n",
       "      <th>5376</th>\n",
       "      <td>Paul George</td>\n",
       "      <td>Los Angeles Clippers</td>\n",
       "      <td>SG</td>\n",
       "      <td>24-03-2016</td>\n",
       "      <td>bruised lower right leg (DTD)</td>\n",
       "    </tr>\n",
       "    <tr>\n",
       "      <th>5377</th>\n",
       "      <td>Paul George</td>\n",
       "      <td>Los Angeles Clippers</td>\n",
       "      <td>SG</td>\n",
       "      <td>13-04-2016</td>\n",
       "      <td>rest (DTD)</td>\n",
       "    </tr>\n",
       "    <tr>\n",
       "      <th>5378</th>\n",
       "      <td>Paul George</td>\n",
       "      <td>Los Angeles Clippers</td>\n",
       "      <td>SG</td>\n",
       "      <td>11-12-2016</td>\n",
       "      <td>placed on IL with sprained left ankle</td>\n",
       "    </tr>\n",
       "    <tr>\n",
       "      <th>5379</th>\n",
       "      <td>Paul George</td>\n",
       "      <td>Los Angeles Clippers</td>\n",
       "      <td>SG</td>\n",
       "      <td>14-11-2016</td>\n",
       "      <td>activated from IL</td>\n",
       "    </tr>\n",
       "    <tr>\n",
       "      <th>5380</th>\n",
       "      <td>Paul George</td>\n",
       "      <td>Los Angeles Clippers</td>\n",
       "      <td>SG</td>\n",
       "      <td>18-11-2016</td>\n",
       "      <td>placed on IL with sore left ankle</td>\n",
       "    </tr>\n",
       "    <tr>\n",
       "      <th>5381</th>\n",
       "      <td>Paul George</td>\n",
       "      <td>Los Angeles Clippers</td>\n",
       "      <td>SG</td>\n",
       "      <td>23-11-2016</td>\n",
       "      <td>activated from IL</td>\n",
       "    </tr>\n",
       "    <tr>\n",
       "      <th>5382</th>\n",
       "      <td>Paul George</td>\n",
       "      <td>Los Angeles Clippers</td>\n",
       "      <td>SG</td>\n",
       "      <td>25-11-2016</td>\n",
       "      <td>sore back / left ankle (DTD)</td>\n",
       "    </tr>\n",
       "    <tr>\n",
       "      <th>5383</th>\n",
       "      <td>Paul George</td>\n",
       "      <td>Los Angeles Clippers</td>\n",
       "      <td>SG</td>\n",
       "      <td>12-04-2016</td>\n",
       "      <td>returned to lineup</td>\n",
       "    </tr>\n",
       "    <tr>\n",
       "      <th>5384</th>\n",
       "      <td>Paul George</td>\n",
       "      <td>Los Angeles Clippers</td>\n",
       "      <td>SG</td>\n",
       "      <td>12-07-2017</td>\n",
       "      <td>placed on IL with bruised right calf</td>\n",
       "    </tr>\n",
       "    <tr>\n",
       "      <th>5385</th>\n",
       "      <td>Paul George</td>\n",
       "      <td>Los Angeles Clippers</td>\n",
       "      <td>SG</td>\n",
       "      <td>12-11-2017</td>\n",
       "      <td>activated from IL</td>\n",
       "    </tr>\n",
       "    <tr>\n",
       "      <th>5386</th>\n",
       "      <td>Paul George</td>\n",
       "      <td>Los Angeles Clippers</td>\n",
       "      <td>SG</td>\n",
       "      <td>29-12-2017</td>\n",
       "      <td>placed on IL with sore left knee</td>\n",
       "    </tr>\n",
       "    <tr>\n",
       "      <th>5387</th>\n",
       "      <td>Paul George</td>\n",
       "      <td>Los Angeles Clippers</td>\n",
       "      <td>SG</td>\n",
       "      <td>29-12-2017</td>\n",
       "      <td>sore left knee (DTD)</td>\n",
       "    </tr>\n",
       "    <tr>\n",
       "      <th>5388</th>\n",
       "      <td>Paul George</td>\n",
       "      <td>Los Angeles Clippers</td>\n",
       "      <td>SG</td>\n",
       "      <td>31-12-2017</td>\n",
       "      <td>activated from IL</td>\n",
       "    </tr>\n",
       "    <tr>\n",
       "      <th>5389</th>\n",
       "      <td>Paul George</td>\n",
       "      <td>Los Angeles Clippers</td>\n",
       "      <td>SG</td>\n",
       "      <td>05-09-2018</td>\n",
       "      <td>arthroscopic surgery on right knee (out indefi...</td>\n",
       "    </tr>\n",
       "    <tr>\n",
       "      <th>5390</th>\n",
       "      <td>Paul George</td>\n",
       "      <td>Los Angeles Clippers</td>\n",
       "      <td>SG</td>\n",
       "      <td>28-12-2018</td>\n",
       "      <td>bruised right quadriceps (DTD)</td>\n",
       "    </tr>\n",
       "    <tr>\n",
       "      <th>5391</th>\n",
       "      <td>Paul George</td>\n",
       "      <td>Los Angeles Clippers</td>\n",
       "      <td>SG</td>\n",
       "      <td>30-12-2018</td>\n",
       "      <td>returned to lineup</td>\n",
       "    </tr>\n",
       "    <tr>\n",
       "      <th>5392</th>\n",
       "      <td>Paul George</td>\n",
       "      <td>Los Angeles Clippers</td>\n",
       "      <td>SG</td>\n",
       "      <td>28-02-2019</td>\n",
       "      <td>sore right shoulder (DTD)</td>\n",
       "    </tr>\n",
       "    <tr>\n",
       "      <th>5393</th>\n",
       "      <td>Paul George</td>\n",
       "      <td>Los Angeles Clippers</td>\n",
       "      <td>SG</td>\n",
       "      <td>03-05-2019</td>\n",
       "      <td>returned to lineup</td>\n",
       "    </tr>\n",
       "    <tr>\n",
       "      <th>5394</th>\n",
       "      <td>Paul George</td>\n",
       "      <td>Los Angeles Clippers</td>\n",
       "      <td>SG</td>\n",
       "      <td>04-10-2019</td>\n",
       "      <td>placed on IL with sore right shoulder</td>\n",
       "    </tr>\n",
       "    <tr>\n",
       "      <th>5395</th>\n",
       "      <td>Paul George</td>\n",
       "      <td>Los Angeles Clippers</td>\n",
       "      <td>SG</td>\n",
       "      <td>14-04-2019</td>\n",
       "      <td>activated from IL</td>\n",
       "    </tr>\n",
       "    <tr>\n",
       "      <th>5396</th>\n",
       "      <td>Paul George</td>\n",
       "      <td>Los Angeles Clippers</td>\n",
       "      <td>SG</td>\n",
       "      <td>22-10-2019</td>\n",
       "      <td>placed on IL with right shoulder injury</td>\n",
       "    </tr>\n",
       "    <tr>\n",
       "      <th>5397</th>\n",
       "      <td>Paul George</td>\n",
       "      <td>Los Angeles Clippers</td>\n",
       "      <td>SG</td>\n",
       "      <td>14-11-2019</td>\n",
       "      <td>activated from IL</td>\n",
       "    </tr>\n",
       "    <tr>\n",
       "      <th>5398</th>\n",
       "      <td>Paul George</td>\n",
       "      <td>Los Angeles Clippers</td>\n",
       "      <td>SG</td>\n",
       "      <td>01-04-2020</td>\n",
       "      <td>placed on IL with left hamstring injury</td>\n",
       "    </tr>\n",
       "    <tr>\n",
       "      <th>5399</th>\n",
       "      <td>Paul George</td>\n",
       "      <td>Los Angeles Clippers</td>\n",
       "      <td>SG</td>\n",
       "      <td>01-05-2020</td>\n",
       "      <td>activated from IL</td>\n",
       "    </tr>\n",
       "    <tr>\n",
       "      <th>5400</th>\n",
       "      <td>Paul George</td>\n",
       "      <td>Los Angeles Clippers</td>\n",
       "      <td>SG</td>\n",
       "      <td>01-09-2020</td>\n",
       "      <td>strained left hamstring (DTD)</td>\n",
       "    </tr>\n",
       "    <tr>\n",
       "      <th>5401</th>\n",
       "      <td>Paul George</td>\n",
       "      <td>Los Angeles Clippers</td>\n",
       "      <td>SG</td>\n",
       "      <td>01-10-2020</td>\n",
       "      <td>placed on IL with strained left hamstring</td>\n",
       "    </tr>\n",
       "    <tr>\n",
       "      <th>5402</th>\n",
       "      <td>Paul George</td>\n",
       "      <td>Los Angeles Clippers</td>\n",
       "      <td>SG</td>\n",
       "      <td>30-01-2020</td>\n",
       "      <td>activated from IL</td>\n",
       "    </tr>\n",
       "    <tr>\n",
       "      <th>5403</th>\n",
       "      <td>Paul George</td>\n",
       "      <td>Los Angeles Clippers</td>\n",
       "      <td>SG</td>\n",
       "      <td>21-02-2020</td>\n",
       "      <td>strained left hamstring (DTD)</td>\n",
       "    </tr>\n",
       "    <tr>\n",
       "      <th>5404</th>\n",
       "      <td>Paul George</td>\n",
       "      <td>Los Angeles Clippers</td>\n",
       "      <td>SG</td>\n",
       "      <td>22-02-2020</td>\n",
       "      <td>placed on IL with strained left hamstring</td>\n",
       "    </tr>\n",
       "    <tr>\n",
       "      <th>5405</th>\n",
       "      <td>Paul George</td>\n",
       "      <td>Los Angeles Clippers</td>\n",
       "      <td>SG</td>\n",
       "      <td>24-02-2020</td>\n",
       "      <td>activated from IL</td>\n",
       "    </tr>\n",
       "  </tbody>\n",
       "</table>\n",
       "</div>"
      ],
      "text/plain": [
       "             Name                  Team Position        Date  \\\n",
       "5365  Paul George  Los Angeles Clippers       SG  28-11-2010   \n",
       "5366  Paul George  Los Angeles Clippers       SG  13-12-2010   \n",
       "5367  Paul George  Los Angeles Clippers       SG  17-12-2010   \n",
       "5368  Paul George  Los Angeles Clippers       SG  29-12-2010   \n",
       "5369  Paul George  Los Angeles Clippers       SG  01-12-2013   \n",
       "5370  Paul George  Los Angeles Clippers       SG  13-01-2013   \n",
       "5371  Paul George  Los Angeles Clippers       SG  17-04-2013   \n",
       "5372  Paul George  Los Angeles Clippers       SG  04-09-2014   \n",
       "5373  Paul George  Los Angeles Clippers       SG  08-01-2014   \n",
       "5374  Paul George  Los Angeles Clippers       SG  29-10-2014   \n",
       "5375  Paul George  Los Angeles Clippers       SG  04-05-2015   \n",
       "5376  Paul George  Los Angeles Clippers       SG  24-03-2016   \n",
       "5377  Paul George  Los Angeles Clippers       SG  13-04-2016   \n",
       "5378  Paul George  Los Angeles Clippers       SG  11-12-2016   \n",
       "5379  Paul George  Los Angeles Clippers       SG  14-11-2016   \n",
       "5380  Paul George  Los Angeles Clippers       SG  18-11-2016   \n",
       "5381  Paul George  Los Angeles Clippers       SG  23-11-2016   \n",
       "5382  Paul George  Los Angeles Clippers       SG  25-11-2016   \n",
       "5383  Paul George  Los Angeles Clippers       SG  12-04-2016   \n",
       "5384  Paul George  Los Angeles Clippers       SG  12-07-2017   \n",
       "5385  Paul George  Los Angeles Clippers       SG  12-11-2017   \n",
       "5386  Paul George  Los Angeles Clippers       SG  29-12-2017   \n",
       "5387  Paul George  Los Angeles Clippers       SG  29-12-2017   \n",
       "5388  Paul George  Los Angeles Clippers       SG  31-12-2017   \n",
       "5389  Paul George  Los Angeles Clippers       SG  05-09-2018   \n",
       "5390  Paul George  Los Angeles Clippers       SG  28-12-2018   \n",
       "5391  Paul George  Los Angeles Clippers       SG  30-12-2018   \n",
       "5392  Paul George  Los Angeles Clippers       SG  28-02-2019   \n",
       "5393  Paul George  Los Angeles Clippers       SG  03-05-2019   \n",
       "5394  Paul George  Los Angeles Clippers       SG  04-10-2019   \n",
       "5395  Paul George  Los Angeles Clippers       SG  14-04-2019   \n",
       "5396  Paul George  Los Angeles Clippers       SG  22-10-2019   \n",
       "5397  Paul George  Los Angeles Clippers       SG  14-11-2019   \n",
       "5398  Paul George  Los Angeles Clippers       SG  01-04-2020   \n",
       "5399  Paul George  Los Angeles Clippers       SG  01-05-2020   \n",
       "5400  Paul George  Los Angeles Clippers       SG  01-09-2020   \n",
       "5401  Paul George  Los Angeles Clippers       SG  01-10-2020   \n",
       "5402  Paul George  Los Angeles Clippers       SG  30-01-2020   \n",
       "5403  Paul George  Los Angeles Clippers       SG  21-02-2020   \n",
       "5404  Paul George  Los Angeles Clippers       SG  22-02-2020   \n",
       "5405  Paul George  Los Angeles Clippers       SG  24-02-2020   \n",
       "\n",
       "                                                  Notes  \n",
       "5365                                       placed on IL  \n",
       "5366                                  activated from IL  \n",
       "5367                                       placed on IL  \n",
       "5368                                  activated from IL  \n",
       "5369                          placed on IL with illness  \n",
       "5370                                  activated from IL  \n",
       "5371                                                DNP  \n",
       "5372                                         rest (DNP)  \n",
       "5373  surgery on right leg to repair fractured tibia...  \n",
       "5374  placed on IL recovering from surgery on right ...  \n",
       "5375                                  activated from IL  \n",
       "5376                      bruised lower right leg (DTD)  \n",
       "5377                                         rest (DTD)  \n",
       "5378              placed on IL with sprained left ankle  \n",
       "5379                                  activated from IL  \n",
       "5380                  placed on IL with sore left ankle  \n",
       "5381                                  activated from IL  \n",
       "5382                       sore back / left ankle (DTD)  \n",
       "5383                                 returned to lineup  \n",
       "5384               placed on IL with bruised right calf  \n",
       "5385                                  activated from IL  \n",
       "5386                   placed on IL with sore left knee  \n",
       "5387                               sore left knee (DTD)  \n",
       "5388                                  activated from IL  \n",
       "5389  arthroscopic surgery on right knee (out indefi...  \n",
       "5390                     bruised right quadriceps (DTD)  \n",
       "5391                                 returned to lineup  \n",
       "5392                          sore right shoulder (DTD)  \n",
       "5393                                 returned to lineup  \n",
       "5394              placed on IL with sore right shoulder  \n",
       "5395                                  activated from IL  \n",
       "5396            placed on IL with right shoulder injury  \n",
       "5397                                  activated from IL  \n",
       "5398            placed on IL with left hamstring injury  \n",
       "5399                                  activated from IL  \n",
       "5400                      strained left hamstring (DTD)  \n",
       "5401          placed on IL with strained left hamstring  \n",
       "5402                                  activated from IL  \n",
       "5403                      strained left hamstring (DTD)  \n",
       "5404          placed on IL with strained left hamstring  \n",
       "5405                                  activated from IL  "
      ]
     },
     "execution_count": 9,
     "metadata": {},
     "output_type": "execute_result"
    }
   ],
   "source": [
    "df[df[\"Name\"] == \"Paul George\"]"
   ]
  },
  {
   "cell_type": "markdown",
   "id": "49c99c30",
   "metadata": {
    "papermill": {
     "duration": 0.065212,
     "end_time": "2021-09-18T07:40:16.856507",
     "exception": false,
     "start_time": "2021-09-18T07:40:16.791295",
     "status": "completed"
    },
    "tags": []
   },
   "source": [
    "With boolean masking, we can look for a specific player's injury records.\n",
    "\n",
    "In this example, we can see Paul George's injury records from 2010 to 2020 as he had many injury updates."
   ]
  },
  {
   "cell_type": "markdown",
   "id": "1a798b26",
   "metadata": {
    "papermill": {
     "duration": 0.065749,
     "end_time": "2021-09-18T07:40:16.986518",
     "exception": false,
     "start_time": "2021-09-18T07:40:16.920769",
     "status": "completed"
    },
    "tags": []
   },
   "source": [
    "Players with most injury updates."
   ]
  },
  {
   "cell_type": "code",
   "execution_count": 10,
   "id": "3564d2d7",
   "metadata": {
    "execution": {
     "iopub.execute_input": "2021-09-18T07:40:17.119471Z",
     "iopub.status.busy": "2021-09-18T07:40:17.118473Z",
     "iopub.status.idle": "2021-09-18T07:40:17.128948Z",
     "shell.execute_reply": "2021-09-18T07:40:17.129452Z",
     "shell.execute_reply.started": "2021-09-18T06:26:18.070709Z"
    },
    "papermill": {
     "duration": 0.078756,
     "end_time": "2021-09-18T07:40:17.129623",
     "exception": false,
     "start_time": "2021-09-18T07:40:17.050867",
     "status": "completed"
    },
    "tags": []
   },
   "outputs": [
    {
     "data": {
      "text/plain": [
       "Kevin Love        139\n",
       "Eric Gordon       127\n",
       "Derrick Rose      124\n",
       "Kawhi Leonard     118\n",
       "Kyrie Irving      112\n",
       "                 ... \n",
       "Justin James        1\n",
       "Wenyen Gabriel      1\n",
       "Jontay Porter       1\n",
       "Darius Garland      1\n",
       "Kelan Martin        1\n",
       "Name: Name, Length: 344, dtype: int64"
      ]
     },
     "execution_count": 10,
     "metadata": {},
     "output_type": "execute_result"
    }
   ],
   "source": [
    "df[\"Name\"].value_counts()"
   ]
  },
  {
   "cell_type": "code",
   "execution_count": 11,
   "id": "9a90e26e",
   "metadata": {
    "execution": {
     "iopub.execute_input": "2021-09-18T07:40:17.260892Z",
     "iopub.status.busy": "2021-09-18T07:40:17.259951Z",
     "iopub.status.idle": "2021-09-18T07:40:17.269589Z",
     "shell.execute_reply": "2021-09-18T07:40:17.270158Z",
     "shell.execute_reply.started": "2021-09-18T06:26:18.090121Z"
    },
    "papermill": {
     "duration": 0.077277,
     "end_time": "2021-09-18T07:40:17.270341",
     "exception": false,
     "start_time": "2021-09-18T07:40:17.193064",
     "status": "completed"
    },
    "tags": []
   },
   "outputs": [
    {
     "data": {
      "text/plain": [
       "C     1943\n",
       "PF    1835\n",
       "PG    1823\n",
       "SG    1634\n",
       "SF    1562\n",
       "F      278\n",
       "G      205\n",
       "Name: Position, dtype: int64"
      ]
     },
     "execution_count": 11,
     "metadata": {},
     "output_type": "execute_result"
    }
   ],
   "source": [
    "df[\"Position\"].value_counts()"
   ]
  },
  {
   "cell_type": "markdown",
   "id": "9b16c603",
   "metadata": {
    "papermill": {
     "duration": 0.063964,
     "end_time": "2021-09-18T07:40:17.398032",
     "exception": false,
     "start_time": "2021-09-18T07:40:17.334068",
     "status": "completed"
    },
    "tags": []
   },
   "source": [
    "We can see that there are 7 positions. Since there are forwards (F) and guards(G) that has no specific position, we can convert other specific positions to general positions.\n",
    "\n",
    "PG, SG --> G\n",
    "\n",
    "SF,PF --> F"
   ]
  },
  {
   "cell_type": "code",
   "execution_count": 12,
   "id": "fb017c50",
   "metadata": {
    "execution": {
     "iopub.execute_input": "2021-09-18T07:40:17.531383Z",
     "iopub.status.busy": "2021-09-18T07:40:17.530449Z",
     "iopub.status.idle": "2021-09-18T07:40:17.539218Z",
     "shell.execute_reply": "2021-09-18T07:40:17.539677Z",
     "shell.execute_reply.started": "2021-09-18T06:26:18.106491Z"
    },
    "papermill": {
     "duration": 0.076467,
     "end_time": "2021-09-18T07:40:17.539847",
     "exception": false,
     "start_time": "2021-09-18T07:40:17.463380",
     "status": "completed"
    },
    "tags": []
   },
   "outputs": [],
   "source": [
    "df[\"Position\"] = df[\"Position\"].replace({'PG':'G','SG':'G','SF':'F','PF':'F'})"
   ]
  },
  {
   "cell_type": "code",
   "execution_count": 13,
   "id": "cfab4ea5",
   "metadata": {
    "execution": {
     "iopub.execute_input": "2021-09-18T07:40:17.672528Z",
     "iopub.status.busy": "2021-09-18T07:40:17.671352Z",
     "iopub.status.idle": "2021-09-18T07:40:17.846228Z",
     "shell.execute_reply": "2021-09-18T07:40:17.845592Z",
     "shell.execute_reply.started": "2021-09-18T06:26:18.121558Z"
    },
    "papermill": {
     "duration": 0.241951,
     "end_time": "2021-09-18T07:40:17.846392",
     "exception": false,
     "start_time": "2021-09-18T07:40:17.604441",
     "status": "completed"
    },
    "tags": []
   },
   "outputs": [
    {
     "data": {
      "text/plain": [
       "<AxesSubplot:ylabel='Notes'>"
      ]
     },
     "execution_count": 13,
     "metadata": {},
     "output_type": "execute_result"
    },
    {
     "data": {
      "image/png": "[encoded data removed]",
      "text/plain": [
       "<Figure size 864x576 with 1 Axes>"
      ]
     },
     "metadata": {},
     "output_type": "display_data"
    }
   ],
   "source": [
    "import matplotlib.pyplot as plt\n",
    "\n",
    "plt.figure(figsize=(12,8))\n",
    "\n",
    "df.groupby('Position')['Notes'].count().plot(kind=\"pie\",autopct='%1.0f%%', pctdistance=1.1, labeldistance=1.2)"
   ]
  },
  {
   "cell_type": "markdown",
   "id": "4e6f855a",
   "metadata": {
    "papermill": {
     "duration": 0.065766,
     "end_time": "2021-09-18T07:40:17.977677",
     "exception": false,
     "start_time": "2021-09-18T07:40:17.911911",
     "status": "completed"
    },
    "tags": []
   },
   "source": [
    "From this pie chart, we can see how the total injury updates are distributed.\n",
    "\n",
    "Forwards and Guards have almost the same amount of injury updates, as it is more than the Center's. "
   ]
  },
  {
   "cell_type": "markdown",
   "id": "8860427e",
   "metadata": {
    "papermill": {
     "duration": 0.067593,
     "end_time": "2021-09-18T07:40:18.111879",
     "exception": false,
     "start_time": "2021-09-18T07:40:18.044286",
     "status": "completed"
    },
    "tags": []
   },
   "source": [
    "Let's look at the distribution of the teams."
   ]
  },
  {
   "cell_type": "code",
   "execution_count": 14,
   "id": "ad9d9e3f",
   "metadata": {
    "execution": {
     "iopub.execute_input": "2021-09-18T07:40:18.251736Z",
     "iopub.status.busy": "2021-09-18T07:40:18.250812Z",
     "iopub.status.idle": "2021-09-18T07:40:18.855257Z",
     "shell.execute_reply": "2021-09-18T07:40:18.855767Z",
     "shell.execute_reply.started": "2021-09-18T06:26:18.312033Z"
    },
    "papermill": {
     "duration": 0.677857,
     "end_time": "2021-09-18T07:40:18.855937",
     "exception": false,
     "start_time": "2021-09-18T07:40:18.178080",
     "status": "completed"
    },
    "tags": []
   },
   "outputs": [
    {
     "data": {
      "text/plain": [
       "<AxesSubplot:ylabel='Notes'>"
      ]
     },
     "execution_count": 14,
     "metadata": {},
     "output_type": "execute_result"
    },
    {
     "data": {
      "image/png": "[encoded data removed]",
      "text/plain": [
       "<Figure size 1080x720 with 1 Axes>"
      ]
     },
     "metadata": {},
     "output_type": "display_data"
    }
   ],
   "source": [
    "plt.figure(figsize=(15,10))\n",
    "\n",
    "df.groupby('Team')['Notes'].count().plot(kind=\"pie\",autopct='%1.0f%%', pctdistance=1.1, labeldistance=1.25)"
   ]
  },
  {
   "cell_type": "markdown",
   "id": "28809d98",
   "metadata": {
    "papermill": {
     "duration": 0.072354,
     "end_time": "2021-09-18T07:40:18.998078",
     "exception": false,
     "start_time": "2021-09-18T07:40:18.925724",
     "status": "completed"
    },
    "tags": []
   },
   "source": [
    "It seems like Lakers, Nets and Clippers have the most amount of injury updates."
   ]
  },
  {
   "cell_type": "code",
   "execution_count": 15,
   "id": "7cc2b1ad",
   "metadata": {
    "execution": {
     "iopub.execute_input": "2021-09-18T07:40:19.140735Z",
     "iopub.status.busy": "2021-09-18T07:40:19.139757Z",
     "iopub.status.idle": "2021-09-18T07:40:19.464942Z",
     "shell.execute_reply": "2021-09-18T07:40:19.465401Z",
     "shell.execute_reply.started": "2021-09-18T06:26:18.946371Z"
    },
    "papermill": {
     "duration": 0.398071,
     "end_time": "2021-09-18T07:40:19.465586",
     "exception": false,
     "start_time": "2021-09-18T07:40:19.067515",
     "status": "completed"
    },
    "tags": []
   },
   "outputs": [
    {
     "data": {
      "text/plain": [
       "<AxesSubplot:xlabel='Date'>"
      ]
     },
     "execution_count": 15,
     "metadata": {},
     "output_type": "execute_result"
    },
    {
     "data": {
      "image/png": "[encoded data removed]",
      "text/plain": [
       "<Figure size 864x576 with 1 Axes>"
      ]
     },
     "metadata": {
      "needs_background": "light"
     },
     "output_type": "display_data"
    }
   ],
   "source": [
    "df['Date'] = pd.to_datetime(df['Date'])\n",
    "plt.figure(figsize=(12,8))\n",
    "\n",
    "months = ['January', 'February', 'March', 'April',\n",
    "          'May', 'June', 'July', 'August',\n",
    "          'September', 'October', 'November', 'December']\n",
    "\n",
    "df.groupby(df[\"Date\"].dt.strftime(\"%B\"))[\"Notes\"].count().reindex(months).plot(kind=\"bar\")"
   ]
  },
  {
   "cell_type": "markdown",
   "id": "b58a92e3",
   "metadata": {
    "papermill": {
     "duration": 0.07018,
     "end_time": "2021-09-18T07:40:19.605730",
     "exception": false,
     "start_time": "2021-09-18T07:40:19.535550",
     "status": "completed"
    },
    "tags": []
   },
   "source": [
    "From this bar graph graph, we can see that May, June, July, August and September has the least amount of injury updates.\n",
    "\n",
    "Usually the regular NBA season starts mid-October and finishes mid-April. From mid-April to mid-June the NBA playoffs take place. Only 16 teams from 30 remains in the playoffs which shows the reason why the numbers decline starting from April.\n",
    "\n",
    "It seems like with the start of the season in mid-October, the players are not quite warmed up and ready for NBA action. Even though there are no matches played in first weeks of the month, the injury update number is still a bit high.\n",
    "\n",
    "The NBA All-Star break is usually mid-February. This might be the reason why the highest number of injury reports happen as the players wants to show their performances to fight for a spot in the all-star roster.\n",
    "\n",
    "March is also a critical month to secure a place in the NBA playoffs and we can see that the number of injury updates increase substantially after February. The teams force their best players to play very high minutes to get the best result in playoff matchups."
   ]
  },
  {
   "cell_type": "code",
   "execution_count": 16,
   "id": "629f8f40",
   "metadata": {
    "execution": {
     "iopub.execute_input": "2021-09-18T07:40:19.825151Z",
     "iopub.status.busy": "2021-09-18T07:40:19.754897Z",
     "iopub.status.idle": "2021-09-18T07:40:20.051468Z",
     "shell.execute_reply": "2021-09-18T07:40:20.050884Z",
     "shell.execute_reply.started": "2021-09-18T06:26:19.304118Z"
    },
    "papermill": {
     "duration": 0.374833,
     "end_time": "2021-09-18T07:40:20.051614",
     "exception": false,
     "start_time": "2021-09-18T07:40:19.676781",
     "status": "completed"
    },
    "tags": []
   },
   "outputs": [
    {
     "data": {
      "text/plain": [
       "<AxesSubplot:xlabel='Date'>"
      ]
     },
     "execution_count": 16,
     "metadata": {},
     "output_type": "execute_result"
    },
    {
     "data": {
      "image/png": "[encoded data removed]",
      "text/plain": [
       "<Figure size 864x576 with 1 Axes>"
      ]
     },
     "metadata": {
      "needs_background": "light"
     },
     "output_type": "display_data"
    }
   ],
   "source": [
    "plt.figure(figsize=(12,8))\n",
    "\n",
    "df.groupby(df[\"Date\"].dt.strftime(\"%Y\"))[\"Notes\"].count().plot(kind=\"bar\")"
   ]
  },
  {
   "cell_type": "markdown",
   "id": "d3652b6e",
   "metadata": {
    "papermill": {
     "duration": 0.07158,
     "end_time": "2021-09-18T07:40:20.194805",
     "exception": false,
     "start_time": "2021-09-18T07:40:20.123225",
     "status": "completed"
    },
    "tags": []
   },
   "source": [
    "According to this dataset, the amount of injury updates has increased gradually over the years. This reason to that might be the fact that players these days are resting more and doing load management to stay healthy until the playoffs. Another reason could be that the creator of the \"NBA Injuries from 2010 to 2020\" dataset has included more data from these years.\n",
    "\n",
    "The reason why the amount of updates have plummeted right after gradually increasing until 2019 is that the 2020 NBA season was suspended on March 11 because of the pandemic. The season resumed on July 30."
   ]
  },
  {
   "cell_type": "markdown",
   "id": "fea5571f",
   "metadata": {
    "papermill": {
     "duration": 0.071743,
     "end_time": "2021-09-18T07:40:20.338349",
     "exception": false,
     "start_time": "2021-09-18T07:40:20.266606",
     "status": "completed"
    },
    "tags": []
   },
   "source": [
    "Let's try to look for certain injury types such as ankle, harmstring, achilles, shoulder, knee.\n",
    "\n",
    "Creating new columns to map the injury type as True and False, later changed to 1 and 0."
   ]
  },
  {
   "cell_type": "code",
   "execution_count": 17,
   "id": "b88690fc",
   "metadata": {
    "execution": {
     "iopub.execute_input": "2021-09-18T07:40:20.526094Z",
     "iopub.status.busy": "2021-09-18T07:40:20.524976Z",
     "iopub.status.idle": "2021-09-18T07:40:20.529520Z",
     "shell.execute_reply": "2021-09-18T07:40:20.528873Z",
     "shell.execute_reply.started": "2021-09-18T06:26:19.617688Z"
    },
    "papermill": {
     "duration": 0.119464,
     "end_time": "2021-09-18T07:40:20.529664",
     "exception": false,
     "start_time": "2021-09-18T07:40:20.410200",
     "status": "completed"
    },
    "tags": []
   },
   "outputs": [
    {
     "data": {
      "text/html": [
       "<div>\n",
       "<style scoped>\n",
       "    .dataframe tbody tr th:only-of-type {\n",
       "        vertical-align: middle;\n",
       "    }\n",
       "\n",
       "    .dataframe tbody tr th {\n",
       "        vertical-align: top;\n",
       "    }\n",
       "\n",
       "    .dataframe thead th {\n",
       "        text-align: right;\n",
       "    }\n",
       "</style>\n",
       "<table border=\"1\" class=\"dataframe\">\n",
       "  <thead>\n",
       "    <tr style=\"text-align: right;\">\n",
       "      <th></th>\n",
       "      <th>Name</th>\n",
       "      <th>Team</th>\n",
       "      <th>Position</th>\n",
       "      <th>Date</th>\n",
       "      <th>Notes</th>\n",
       "      <th>Ankle</th>\n",
       "      <th>Hamstring</th>\n",
       "      <th>Shoulder</th>\n",
       "      <th>Knee</th>\n",
       "    </tr>\n",
       "  </thead>\n",
       "  <tbody>\n",
       "    <tr>\n",
       "      <th>0</th>\n",
       "      <td>Jaylen Brown</td>\n",
       "      <td>Boston Celtics</td>\n",
       "      <td>G</td>\n",
       "      <td>2017-01-11</td>\n",
       "      <td>sprained right ankle (DTD)</td>\n",
       "      <td>1</td>\n",
       "      <td>0</td>\n",
       "      <td>0</td>\n",
       "      <td>0</td>\n",
       "    </tr>\n",
       "    <tr>\n",
       "      <th>1</th>\n",
       "      <td>Jaylen Brown</td>\n",
       "      <td>Boston Celtics</td>\n",
       "      <td>G</td>\n",
       "      <td>2017-01-13</td>\n",
       "      <td>returned to lineup</td>\n",
       "      <td>0</td>\n",
       "      <td>0</td>\n",
       "      <td>0</td>\n",
       "      <td>0</td>\n",
       "    </tr>\n",
       "    <tr>\n",
       "      <th>2</th>\n",
       "      <td>Jaylen Brown</td>\n",
       "      <td>Boston Celtics</td>\n",
       "      <td>G</td>\n",
       "      <td>2017-02-13</td>\n",
       "      <td>placed on IL with strained right hip flexor</td>\n",
       "      <td>0</td>\n",
       "      <td>0</td>\n",
       "      <td>0</td>\n",
       "      <td>0</td>\n",
       "    </tr>\n",
       "    <tr>\n",
       "      <th>3</th>\n",
       "      <td>Jaylen Brown</td>\n",
       "      <td>Boston Celtics</td>\n",
       "      <td>G</td>\n",
       "      <td>2017-02-24</td>\n",
       "      <td>activated from IL</td>\n",
       "      <td>0</td>\n",
       "      <td>0</td>\n",
       "      <td>0</td>\n",
       "      <td>0</td>\n",
       "    </tr>\n",
       "    <tr>\n",
       "      <th>4</th>\n",
       "      <td>Jaylen Brown</td>\n",
       "      <td>Boston Celtics</td>\n",
       "      <td>G</td>\n",
       "      <td>2017-12-06</td>\n",
       "      <td>placed on IL with right eye inflammation</td>\n",
       "      <td>0</td>\n",
       "      <td>0</td>\n",
       "      <td>0</td>\n",
       "      <td>0</td>\n",
       "    </tr>\n",
       "  </tbody>\n",
       "</table>\n",
       "</div>"
      ],
      "text/plain": [
       "           Name            Team Position       Date  \\\n",
       "0  Jaylen Brown  Boston Celtics        G 2017-01-11   \n",
       "1  Jaylen Brown  Boston Celtics        G 2017-01-13   \n",
       "2  Jaylen Brown  Boston Celtics        G 2017-02-13   \n",
       "3  Jaylen Brown  Boston Celtics        G 2017-02-24   \n",
       "4  Jaylen Brown  Boston Celtics        G 2017-12-06   \n",
       "\n",
       "                                         Notes  Ankle  Hamstring  Shoulder  \\\n",
       "0                   sprained right ankle (DTD)      1          0         0   \n",
       "1                           returned to lineup      0          0         0   \n",
       "2  placed on IL with strained right hip flexor      0          0         0   \n",
       "3                            activated from IL      0          0         0   \n",
       "4     placed on IL with right eye inflammation      0          0         0   \n",
       "\n",
       "   Knee  \n",
       "0     0  \n",
       "1     0  \n",
       "2     0  \n",
       "3     0  \n",
       "4     0  "
      ]
     },
     "execution_count": 17,
     "metadata": {},
     "output_type": "execute_result"
    }
   ],
   "source": [
    "df[\"Ankle\"] = df[\"Notes\"].str.contains(\"ankle\").astype(\"int\")\n",
    "df[\"Hamstring\"] = df[\"Notes\"].str.contains(\"hamstring\").astype(\"int\")\n",
    "df[\"Shoulder\"] = df[\"Notes\"].str.contains(\"shoulder\").astype(\"int\")\n",
    "df[\"Knee\"] = df[\"Notes\"].str.contains(\"knee\").astype(\"int\")\n",
    "\n",
    "df.head()"
   ]
  },
  {
   "cell_type": "markdown",
   "id": "2534bded",
   "metadata": {
    "papermill": {
     "duration": 0.072729,
     "end_time": "2021-09-18T07:40:20.675847",
     "exception": false,
     "start_time": "2021-09-18T07:40:20.603118",
     "status": "completed"
    },
    "tags": []
   },
   "source": [
    "Creating a sub dataframe to work on our injury types.\n",
    "\n",
    "Creating a new column named \"Injury\" to map the type of the injury. Injuries other than ankle, hamstring, shoulder and knee are mapped as Other."
   ]
  },
  {
   "cell_type": "code",
   "execution_count": 18,
   "id": "22ea1d38",
   "metadata": {
    "execution": {
     "iopub.execute_input": "2021-09-18T07:40:20.832331Z",
     "iopub.status.busy": "2021-09-18T07:40:20.831582Z",
     "iopub.status.idle": "2021-09-18T07:40:20.862571Z",
     "shell.execute_reply": "2021-09-18T07:40:20.863057Z",
     "shell.execute_reply.started": "2021-09-18T06:26:19.663942Z"
    },
    "papermill": {
     "duration": 0.113294,
     "end_time": "2021-09-18T07:40:20.863230",
     "exception": false,
     "start_time": "2021-09-18T07:40:20.749936",
     "status": "completed"
    },
    "tags": []
   },
   "outputs": [
    {
     "name": "stderr",
     "output_type": "stream",
     "text": [
      "/opt/conda/lib/python3.7/site-packages/ipykernel_launcher.py:13: SettingWithCopyWarning: \n",
      "A value is trying to be set on a copy of a slice from a DataFrame.\n",
      "Try using .loc[row_indexer,col_indexer] = value instead\n",
      "\n",
      "See the caveats in the documentation: https://pandas.pydata.org/pandas-docs/stable/user_guide/indexing.html#returning-a-view-versus-a-copy\n",
      "  del sys.path[0]\n",
      "/opt/conda/lib/python3.7/site-packages/pandas/core/frame.py:4315: SettingWithCopyWarning: \n",
      "A value is trying to be set on a copy of a slice from a DataFrame\n",
      "\n",
      "See the caveats in the documentation: https://pandas.pydata.org/pandas-docs/stable/user_guide/indexing.html#returning-a-view-versus-a-copy\n",
      "  errors=errors,\n",
      "/opt/conda/lib/python3.7/site-packages/ipykernel_launcher.py:20: SettingWithCopyWarning: \n",
      "A value is trying to be set on a copy of a slice from a DataFrame.\n",
      "Try using .loc[row_indexer,col_indexer] = value instead\n",
      "\n",
      "See the caveats in the documentation: https://pandas.pydata.org/pandas-docs/stable/user_guide/indexing.html#returning-a-view-versus-a-copy\n"
     ]
    },
    {
     "data": {
      "text/html": [
       "<div>\n",
       "<style scoped>\n",
       "    .dataframe tbody tr th:only-of-type {\n",
       "        vertical-align: middle;\n",
       "    }\n",
       "\n",
       "    .dataframe tbody tr th {\n",
       "        vertical-align: top;\n",
       "    }\n",
       "\n",
       "    .dataframe thead th {\n",
       "        text-align: right;\n",
       "    }\n",
       "</style>\n",
       "<table border=\"1\" class=\"dataframe\">\n",
       "  <thead>\n",
       "    <tr style=\"text-align: right;\">\n",
       "      <th></th>\n",
       "      <th>Position</th>\n",
       "      <th>Injury</th>\n",
       "    </tr>\n",
       "  </thead>\n",
       "  <tbody>\n",
       "    <tr>\n",
       "      <th>0</th>\n",
       "      <td>G</td>\n",
       "      <td>Ankle</td>\n",
       "    </tr>\n",
       "    <tr>\n",
       "      <th>1</th>\n",
       "      <td>G</td>\n",
       "      <td>Other</td>\n",
       "    </tr>\n",
       "    <tr>\n",
       "      <th>2</th>\n",
       "      <td>G</td>\n",
       "      <td>Other</td>\n",
       "    </tr>\n",
       "    <tr>\n",
       "      <th>3</th>\n",
       "      <td>G</td>\n",
       "      <td>Other</td>\n",
       "    </tr>\n",
       "    <tr>\n",
       "      <th>4</th>\n",
       "      <td>G</td>\n",
       "      <td>Other</td>\n",
       "    </tr>\n",
       "    <tr>\n",
       "      <th>5</th>\n",
       "      <td>G</td>\n",
       "      <td>Other</td>\n",
       "    </tr>\n",
       "    <tr>\n",
       "      <th>6</th>\n",
       "      <td>G</td>\n",
       "      <td>Other</td>\n",
       "    </tr>\n",
       "    <tr>\n",
       "      <th>7</th>\n",
       "      <td>G</td>\n",
       "      <td>Other</td>\n",
       "    </tr>\n",
       "    <tr>\n",
       "      <th>8</th>\n",
       "      <td>G</td>\n",
       "      <td>Other</td>\n",
       "    </tr>\n",
       "    <tr>\n",
       "      <th>9</th>\n",
       "      <td>G</td>\n",
       "      <td>Knee</td>\n",
       "    </tr>\n",
       "    <tr>\n",
       "      <th>10</th>\n",
       "      <td>G</td>\n",
       "      <td>Other</td>\n",
       "    </tr>\n",
       "    <tr>\n",
       "      <th>11</th>\n",
       "      <td>G</td>\n",
       "      <td>Other</td>\n",
       "    </tr>\n",
       "    <tr>\n",
       "      <th>12</th>\n",
       "      <td>G</td>\n",
       "      <td>Other</td>\n",
       "    </tr>\n",
       "    <tr>\n",
       "      <th>13</th>\n",
       "      <td>G</td>\n",
       "      <td>Other</td>\n",
       "    </tr>\n",
       "    <tr>\n",
       "      <th>14</th>\n",
       "      <td>G</td>\n",
       "      <td>Hamstring</td>\n",
       "    </tr>\n",
       "    <tr>\n",
       "      <th>15</th>\n",
       "      <td>G</td>\n",
       "      <td>Other</td>\n",
       "    </tr>\n",
       "    <tr>\n",
       "      <th>16</th>\n",
       "      <td>G</td>\n",
       "      <td>Other</td>\n",
       "    </tr>\n",
       "    <tr>\n",
       "      <th>17</th>\n",
       "      <td>G</td>\n",
       "      <td>Other</td>\n",
       "    </tr>\n",
       "    <tr>\n",
       "      <th>18</th>\n",
       "      <td>G</td>\n",
       "      <td>Other</td>\n",
       "    </tr>\n",
       "    <tr>\n",
       "      <th>19</th>\n",
       "      <td>G</td>\n",
       "      <td>Other</td>\n",
       "    </tr>\n",
       "  </tbody>\n",
       "</table>\n",
       "</div>"
      ],
      "text/plain": [
       "   Position     Injury\n",
       "0         G      Ankle\n",
       "1         G      Other\n",
       "2         G      Other\n",
       "3         G      Other\n",
       "4         G      Other\n",
       "5         G      Other\n",
       "6         G      Other\n",
       "7         G      Other\n",
       "8         G      Other\n",
       "9         G       Knee\n",
       "10        G      Other\n",
       "11        G      Other\n",
       "12        G      Other\n",
       "13        G      Other\n",
       "14        G  Hamstring\n",
       "15        G      Other\n",
       "16        G      Other\n",
       "17        G      Other\n",
       "18        G      Other\n",
       "19        G      Other"
      ]
     },
     "execution_count": 18,
     "metadata": {},
     "output_type": "execute_result"
    }
   ],
   "source": [
    "\n",
    "df_inj = df[[\"Position\",\"Ankle\",\"Hamstring\",\"Shoulder\",\"Knee\"]]\n",
    "\n",
    "\n",
    "conditions = [\n",
    "    df_inj[\"Ankle\"] == 1,\n",
    "    df_inj[\"Hamstring\"] == 1,\n",
    "    df_inj[\"Shoulder\"] == 1,\n",
    "    df_inj[\"Knee\"] == 1    \n",
    "]\n",
    "\n",
    "categories = [\"Ankle\",\"Hamstring\",\"Shoulder\",\"Knee\"]\n",
    "\n",
    "df_inj[\"Injury\"] = np.select(conditions, categories)\n",
    "\n",
    "df_inj.drop([\"Ankle\"], axis=1, inplace=True)\n",
    "df_inj.drop([\"Hamstring\"], axis=1, inplace=True)\n",
    "df_inj.drop([\"Shoulder\"], axis=1, inplace=True)\n",
    "df_inj.drop([\"Knee\"], axis=1, inplace=True)\n",
    "\n",
    "df_inj[\"Injury\"] = df_inj[\"Injury\"].replace({\"0\":\"Other\"})\n",
    "\n",
    "df_inj.head(20)\n",
    "\n",
    "\n"
   ]
  },
  {
   "cell_type": "code",
   "execution_count": 19,
   "id": "28e12a0c",
   "metadata": {
    "execution": {
     "iopub.execute_input": "2021-09-18T07:40:21.020278Z",
     "iopub.status.busy": "2021-09-18T07:40:21.019279Z",
     "iopub.status.idle": "2021-09-18T07:40:21.023698Z",
     "shell.execute_reply": "2021-09-18T07:40:21.023154Z",
     "shell.execute_reply.started": "2021-09-18T06:26:19.703012Z"
    },
    "papermill": {
     "duration": 0.087091,
     "end_time": "2021-09-18T07:40:21.023837",
     "exception": false,
     "start_time": "2021-09-18T07:40:20.936746",
     "status": "completed"
    },
    "tags": []
   },
   "outputs": [
    {
     "data": {
      "text/plain": [
       "Other        7030\n",
       "Ankle         922\n",
       "Knee          885\n",
       "Shoulder      245\n",
       "Hamstring     198\n",
       "Name: Injury, dtype: int64"
      ]
     },
     "execution_count": 19,
     "metadata": {},
     "output_type": "execute_result"
    }
   ],
   "source": [
    "df_inj[\"Injury\"].value_counts()"
   ]
  },
  {
   "cell_type": "code",
   "execution_count": 20,
   "id": "85475ae8",
   "metadata": {
    "execution": {
     "iopub.execute_input": "2021-09-18T07:40:21.179012Z",
     "iopub.status.busy": "2021-09-18T07:40:21.178255Z",
     "iopub.status.idle": "2021-09-18T07:40:22.386687Z",
     "shell.execute_reply": "2021-09-18T07:40:22.386162Z",
     "shell.execute_reply.started": "2021-09-18T06:26:19.714969Z"
    },
    "papermill": {
     "duration": 1.288906,
     "end_time": "2021-09-18T07:40:22.386830",
     "exception": false,
     "start_time": "2021-09-18T07:40:21.097924",
     "status": "completed"
    },
    "tags": []
   },
   "outputs": [
    {
     "data": {
      "image/png": "[encoded data removed]",
      "text/plain": [
       "<Figure size 864x576 with 1 Axes>"
      ]
     },
     "metadata": {},
     "output_type": "display_data"
    }
   ],
   "source": [
    "import seaborn as sns\n",
    "\n",
    "sns.set_theme(style=\"whitegrid\")\n",
    "\n",
    "plt.figure(figsize=(12,8))\n",
    "ax = sns.countplot(x=\"Injury\", data=df_inj, hue=\"Position\")"
   ]
  },
  {
   "cell_type": "markdown",
   "id": "2e5cb65d",
   "metadata": {
    "papermill": {
     "duration": 0.074057,
     "end_time": "2021-09-18T07:40:22.536256",
     "exception": false,
     "start_time": "2021-09-18T07:40:22.462199",
     "status": "completed"
    },
    "tags": []
   },
   "source": [
    "As we saw earlier, most of the injury updates were about the changes in the IL spot. Therefore, the injury types that we are looking for are much less than the \"other\" injury types.\n",
    "\n",
    "Bear in mind that the percentages of the positions\n",
    "- F : 40%\n",
    "- G : 39%\n",
    "- C : 21%\n",
    "\n",
    "From the countplot above, we can see that there are nothing out of the ordinary. The distribution is as expected. We can say that forwards face less hamstring injuries than guards but because the sample size is only 198, it might not be a solid guess."
   ]
  },
  {
   "cell_type": "markdown",
   "id": "ac724d51",
   "metadata": {
    "papermill": {
     "duration": 0.074447,
     "end_time": "2021-09-18T07:40:22.688572",
     "exception": false,
     "start_time": "2021-09-18T07:40:22.614125",
     "status": "completed"
    },
    "tags": []
   },
   "source": [
    "Let's check back our main dataframe."
   ]
  },
  {
   "cell_type": "code",
   "execution_count": 21,
   "id": "b8628a28",
   "metadata": {
    "execution": {
     "iopub.execute_input": "2021-09-18T07:40:22.854109Z",
     "iopub.status.busy": "2021-09-18T07:40:22.853462Z",
     "iopub.status.idle": "2021-09-18T07:40:22.857801Z",
     "shell.execute_reply": "2021-09-18T07:40:22.857267Z",
     "shell.execute_reply.started": "2021-09-18T06:26:21.014585Z"
    },
    "papermill": {
     "duration": 0.093662,
     "end_time": "2021-09-18T07:40:22.857943",
     "exception": false,
     "start_time": "2021-09-18T07:40:22.764281",
     "status": "completed"
    },
    "tags": []
   },
   "outputs": [
    {
     "data": {
      "text/html": [
       "<div>\n",
       "<style scoped>\n",
       "    .dataframe tbody tr th:only-of-type {\n",
       "        vertical-align: middle;\n",
       "    }\n",
       "\n",
       "    .dataframe tbody tr th {\n",
       "        vertical-align: top;\n",
       "    }\n",
       "\n",
       "    .dataframe thead th {\n",
       "        text-align: right;\n",
       "    }\n",
       "</style>\n",
       "<table border=\"1\" class=\"dataframe\">\n",
       "  <thead>\n",
       "    <tr style=\"text-align: right;\">\n",
       "      <th></th>\n",
       "      <th>Name</th>\n",
       "      <th>Team</th>\n",
       "      <th>Position</th>\n",
       "      <th>Date</th>\n",
       "      <th>Notes</th>\n",
       "      <th>Ankle</th>\n",
       "      <th>Hamstring</th>\n",
       "      <th>Shoulder</th>\n",
       "      <th>Knee</th>\n",
       "    </tr>\n",
       "  </thead>\n",
       "  <tbody>\n",
       "    <tr>\n",
       "      <th>0</th>\n",
       "      <td>Jaylen Brown</td>\n",
       "      <td>Boston Celtics</td>\n",
       "      <td>G</td>\n",
       "      <td>2017-01-11</td>\n",
       "      <td>sprained right ankle (DTD)</td>\n",
       "      <td>1</td>\n",
       "      <td>0</td>\n",
       "      <td>0</td>\n",
       "      <td>0</td>\n",
       "    </tr>\n",
       "    <tr>\n",
       "      <th>1</th>\n",
       "      <td>Jaylen Brown</td>\n",
       "      <td>Boston Celtics</td>\n",
       "      <td>G</td>\n",
       "      <td>2017-01-13</td>\n",
       "      <td>returned to lineup</td>\n",
       "      <td>0</td>\n",
       "      <td>0</td>\n",
       "      <td>0</td>\n",
       "      <td>0</td>\n",
       "    </tr>\n",
       "    <tr>\n",
       "      <th>2</th>\n",
       "      <td>Jaylen Brown</td>\n",
       "      <td>Boston Celtics</td>\n",
       "      <td>G</td>\n",
       "      <td>2017-02-13</td>\n",
       "      <td>placed on IL with strained right hip flexor</td>\n",
       "      <td>0</td>\n",
       "      <td>0</td>\n",
       "      <td>0</td>\n",
       "      <td>0</td>\n",
       "    </tr>\n",
       "    <tr>\n",
       "      <th>3</th>\n",
       "      <td>Jaylen Brown</td>\n",
       "      <td>Boston Celtics</td>\n",
       "      <td>G</td>\n",
       "      <td>2017-02-24</td>\n",
       "      <td>activated from IL</td>\n",
       "      <td>0</td>\n",
       "      <td>0</td>\n",
       "      <td>0</td>\n",
       "      <td>0</td>\n",
       "    </tr>\n",
       "    <tr>\n",
       "      <th>4</th>\n",
       "      <td>Jaylen Brown</td>\n",
       "      <td>Boston Celtics</td>\n",
       "      <td>G</td>\n",
       "      <td>2017-12-06</td>\n",
       "      <td>placed on IL with right eye inflammation</td>\n",
       "      <td>0</td>\n",
       "      <td>0</td>\n",
       "      <td>0</td>\n",
       "      <td>0</td>\n",
       "    </tr>\n",
       "  </tbody>\n",
       "</table>\n",
       "</div>"
      ],
      "text/plain": [
       "           Name            Team Position       Date  \\\n",
       "0  Jaylen Brown  Boston Celtics        G 2017-01-11   \n",
       "1  Jaylen Brown  Boston Celtics        G 2017-01-13   \n",
       "2  Jaylen Brown  Boston Celtics        G 2017-02-13   \n",
       "3  Jaylen Brown  Boston Celtics        G 2017-02-24   \n",
       "4  Jaylen Brown  Boston Celtics        G 2017-12-06   \n",
       "\n",
       "                                         Notes  Ankle  Hamstring  Shoulder  \\\n",
       "0                   sprained right ankle (DTD)      1          0         0   \n",
       "1                           returned to lineup      0          0         0   \n",
       "2  placed on IL with strained right hip flexor      0          0         0   \n",
       "3                            activated from IL      0          0         0   \n",
       "4     placed on IL with right eye inflammation      0          0         0   \n",
       "\n",
       "   Knee  \n",
       "0     0  \n",
       "1     0  \n",
       "2     0  \n",
       "3     0  \n",
       "4     0  "
      ]
     },
     "execution_count": 21,
     "metadata": {},
     "output_type": "execute_result"
    }
   ],
   "source": [
    "df.head()"
   ]
  },
  {
   "cell_type": "markdown",
   "id": "6ef2bb3f",
   "metadata": {
    "papermill": {
     "duration": 0.07591,
     "end_time": "2021-09-18T07:40:23.008857",
     "exception": false,
     "start_time": "2021-09-18T07:40:22.932947",
     "status": "completed"
    },
    "tags": []
   },
   "source": [
    "Dropping the injury columns."
   ]
  },
  {
   "cell_type": "code",
   "execution_count": 22,
   "id": "b983bca7",
   "metadata": {
    "execution": {
     "iopub.execute_input": "2021-09-18T07:40:23.179546Z",
     "iopub.status.busy": "2021-09-18T07:40:23.165627Z",
     "iopub.status.idle": "2021-09-18T07:40:23.182983Z",
     "shell.execute_reply": "2021-09-18T07:40:23.183584Z",
     "shell.execute_reply.started": "2021-09-18T06:26:21.031963Z"
    },
    "papermill": {
     "duration": 0.099694,
     "end_time": "2021-09-18T07:40:23.183753",
     "exception": false,
     "start_time": "2021-09-18T07:40:23.084059",
     "status": "completed"
    },
    "tags": []
   },
   "outputs": [
    {
     "data": {
      "text/html": [
       "<div>\n",
       "<style scoped>\n",
       "    .dataframe tbody tr th:only-of-type {\n",
       "        vertical-align: middle;\n",
       "    }\n",
       "\n",
       "    .dataframe tbody tr th {\n",
       "        vertical-align: top;\n",
       "    }\n",
       "\n",
       "    .dataframe thead th {\n",
       "        text-align: right;\n",
       "    }\n",
       "</style>\n",
       "<table border=\"1\" class=\"dataframe\">\n",
       "  <thead>\n",
       "    <tr style=\"text-align: right;\">\n",
       "      <th></th>\n",
       "      <th>Name</th>\n",
       "      <th>Team</th>\n",
       "      <th>Position</th>\n",
       "      <th>Date</th>\n",
       "      <th>Notes</th>\n",
       "    </tr>\n",
       "  </thead>\n",
       "  <tbody>\n",
       "    <tr>\n",
       "      <th>0</th>\n",
       "      <td>Jaylen Brown</td>\n",
       "      <td>Boston Celtics</td>\n",
       "      <td>G</td>\n",
       "      <td>2017-01-11</td>\n",
       "      <td>sprained right ankle (DTD)</td>\n",
       "    </tr>\n",
       "    <tr>\n",
       "      <th>1</th>\n",
       "      <td>Jaylen Brown</td>\n",
       "      <td>Boston Celtics</td>\n",
       "      <td>G</td>\n",
       "      <td>2017-01-13</td>\n",
       "      <td>returned to lineup</td>\n",
       "    </tr>\n",
       "    <tr>\n",
       "      <th>2</th>\n",
       "      <td>Jaylen Brown</td>\n",
       "      <td>Boston Celtics</td>\n",
       "      <td>G</td>\n",
       "      <td>2017-02-13</td>\n",
       "      <td>placed on IL with strained right hip flexor</td>\n",
       "    </tr>\n",
       "    <tr>\n",
       "      <th>3</th>\n",
       "      <td>Jaylen Brown</td>\n",
       "      <td>Boston Celtics</td>\n",
       "      <td>G</td>\n",
       "      <td>2017-02-24</td>\n",
       "      <td>activated from IL</td>\n",
       "    </tr>\n",
       "    <tr>\n",
       "      <th>4</th>\n",
       "      <td>Jaylen Brown</td>\n",
       "      <td>Boston Celtics</td>\n",
       "      <td>G</td>\n",
       "      <td>2017-12-06</td>\n",
       "      <td>placed on IL with right eye inflammation</td>\n",
       "    </tr>\n",
       "  </tbody>\n",
       "</table>\n",
       "</div>"
      ],
      "text/plain": [
       "           Name            Team Position       Date  \\\n",
       "0  Jaylen Brown  Boston Celtics        G 2017-01-11   \n",
       "1  Jaylen Brown  Boston Celtics        G 2017-01-13   \n",
       "2  Jaylen Brown  Boston Celtics        G 2017-02-13   \n",
       "3  Jaylen Brown  Boston Celtics        G 2017-02-24   \n",
       "4  Jaylen Brown  Boston Celtics        G 2017-12-06   \n",
       "\n",
       "                                         Notes  \n",
       "0                   sprained right ankle (DTD)  \n",
       "1                           returned to lineup  \n",
       "2  placed on IL with strained right hip flexor  \n",
       "3                            activated from IL  \n",
       "4     placed on IL with right eye inflammation  "
      ]
     },
     "execution_count": 22,
     "metadata": {},
     "output_type": "execute_result"
    }
   ],
   "source": [
    "df.drop([\"Ankle\"], axis=1, inplace=True)\n",
    "df.drop([\"Hamstring\"], axis=1, inplace=True)\n",
    "df.drop([\"Shoulder\"], axis=1, inplace=True)\n",
    "df.drop([\"Knee\"], axis=1, inplace=True)\n",
    "\n",
    "df.head()"
   ]
  },
  {
   "cell_type": "markdown",
   "id": "d34c6795",
   "metadata": {
    "papermill": {
     "duration": 0.075426,
     "end_time": "2021-09-18T07:40:23.334870",
     "exception": false,
     "start_time": "2021-09-18T07:40:23.259444",
     "status": "completed"
    },
    "tags": []
   },
   "source": [
    "We have done data analysis on teams, positions, dates and notes. To do further analysis, let's import a new dataset.\n",
    "\n",
    "The active players dataset is a dataset that I have prepared by using the information on ESPN. It also includes Age, Height, Weight, College and Salary as in 2021."
   ]
  },
  {
   "cell_type": "code",
   "execution_count": 23,
   "id": "057a3770",
   "metadata": {
    "execution": {
     "iopub.execute_input": "2021-09-18T07:40:23.490835Z",
     "iopub.status.busy": "2021-09-18T07:40:23.489826Z",
     "iopub.status.idle": "2021-09-18T07:40:23.517323Z",
     "shell.execute_reply": "2021-09-18T07:40:23.517846Z",
     "shell.execute_reply.started": "2021-09-18T06:26:21.061825Z"
    },
    "papermill": {
     "duration": 0.107261,
     "end_time": "2021-09-18T07:40:23.518024",
     "exception": false,
     "start_time": "2021-09-18T07:40:23.410763",
     "status": "completed"
    },
    "tags": []
   },
   "outputs": [
    {
     "data": {
      "text/html": [
       "<div>\n",
       "<style scoped>\n",
       "    .dataframe tbody tr th:only-of-type {\n",
       "        vertical-align: middle;\n",
       "    }\n",
       "\n",
       "    .dataframe tbody tr th {\n",
       "        vertical-align: top;\n",
       "    }\n",
       "\n",
       "    .dataframe thead th {\n",
       "        text-align: right;\n",
       "    }\n",
       "</style>\n",
       "<table border=\"1\" class=\"dataframe\">\n",
       "  <thead>\n",
       "    <tr style=\"text-align: right;\">\n",
       "      <th></th>\n",
       "      <th>Name</th>\n",
       "      <th>Team</th>\n",
       "      <th>Position</th>\n",
       "      <th>Age</th>\n",
       "      <th>Height</th>\n",
       "      <th>Height_i</th>\n",
       "      <th>Weight</th>\n",
       "      <th>College</th>\n",
       "      <th>Salary</th>\n",
       "    </tr>\n",
       "  </thead>\n",
       "  <tbody>\n",
       "    <tr>\n",
       "      <th>0</th>\n",
       "      <td>Juhann Begarin</td>\n",
       "      <td>Boston Celtics</td>\n",
       "      <td>SG</td>\n",
       "      <td>19</td>\n",
       "      <td>6' 5\"</td>\n",
       "      <td>6.50</td>\n",
       "      <td>185</td>\n",
       "      <td>NaN</td>\n",
       "      <td>NaN</td>\n",
       "    </tr>\n",
       "    <tr>\n",
       "      <th>1</th>\n",
       "      <td>Jaylen Brown</td>\n",
       "      <td>Boston Celtics</td>\n",
       "      <td>SG</td>\n",
       "      <td>24</td>\n",
       "      <td>6' 6\"</td>\n",
       "      <td>6.60</td>\n",
       "      <td>223</td>\n",
       "      <td>California</td>\n",
       "      <td>26758928.0</td>\n",
       "    </tr>\n",
       "    <tr>\n",
       "      <th>2</th>\n",
       "      <td>Kris Dunn</td>\n",
       "      <td>Boston Celtics</td>\n",
       "      <td>PG</td>\n",
       "      <td>27</td>\n",
       "      <td>6' 3\"</td>\n",
       "      <td>6.30</td>\n",
       "      <td>205</td>\n",
       "      <td>Providence</td>\n",
       "      <td>5005350.0</td>\n",
       "    </tr>\n",
       "    <tr>\n",
       "      <th>3</th>\n",
       "      <td>Carsen Edwards</td>\n",
       "      <td>Boston Celtics</td>\n",
       "      <td>PG</td>\n",
       "      <td>23</td>\n",
       "      <td>5' 11\"</td>\n",
       "      <td>5.11</td>\n",
       "      <td>200</td>\n",
       "      <td>Purdue</td>\n",
       "      <td>1782621.0</td>\n",
       "    </tr>\n",
       "    <tr>\n",
       "      <th>4</th>\n",
       "      <td>Tacko Fall</td>\n",
       "      <td>Boston Celtics</td>\n",
       "      <td>C</td>\n",
       "      <td>25</td>\n",
       "      <td>7' 5\"</td>\n",
       "      <td>7.50</td>\n",
       "      <td>311</td>\n",
       "      <td>UCF</td>\n",
       "      <td>NaN</td>\n",
       "    </tr>\n",
       "  </tbody>\n",
       "</table>\n",
       "</div>"
      ],
      "text/plain": [
       "             Name            Team Position  Age  Height  Height_i  Weight  \\\n",
       "0  Juhann Begarin  Boston Celtics       SG   19   6' 5\"      6.50     185   \n",
       "1    Jaylen Brown  Boston Celtics       SG   24   6' 6\"      6.60     223   \n",
       "2       Kris Dunn  Boston Celtics       PG   27   6' 3\"      6.30     205   \n",
       "3  Carsen Edwards  Boston Celtics       PG   23  5' 11\"      5.11     200   \n",
       "4      Tacko Fall  Boston Celtics        C   25   7' 5\"      7.50     311   \n",
       "\n",
       "      College      Salary  \n",
       "0         NaN         NaN  \n",
       "1  California  26758928.0  \n",
       "2  Providence   5005350.0  \n",
       "3      Purdue   1782621.0  \n",
       "4         UCF         NaN  "
      ]
     },
     "execution_count": 23,
     "metadata": {},
     "output_type": "execute_result"
    }
   ],
   "source": [
    "df2 = pd.read_csv(\"/kaggle/input/202122-nba-season-active-nba-players/active_players_2.csv\")\n",
    "\n",
    "df2.head()"
   ]
  },
  {
   "cell_type": "code",
   "execution_count": 24,
   "id": "67b52eba",
   "metadata": {
    "execution": {
     "iopub.execute_input": "2021-09-18T07:40:23.674553Z",
     "iopub.status.busy": "2021-09-18T07:40:23.673572Z",
     "iopub.status.idle": "2021-09-18T07:40:23.687143Z",
     "shell.execute_reply": "2021-09-18T07:40:23.686523Z",
     "shell.execute_reply.started": "2021-09-18T06:26:21.090989Z"
    },
    "papermill": {
     "duration": 0.092666,
     "end_time": "2021-09-18T07:40:23.687281",
     "exception": false,
     "start_time": "2021-09-18T07:40:23.594615",
     "status": "completed"
    },
    "tags": []
   },
   "outputs": [
    {
     "data": {
      "text/html": [
       "<div>\n",
       "<style scoped>\n",
       "    .dataframe tbody tr th:only-of-type {\n",
       "        vertical-align: middle;\n",
       "    }\n",
       "\n",
       "    .dataframe tbody tr th {\n",
       "        vertical-align: top;\n",
       "    }\n",
       "\n",
       "    .dataframe thead th {\n",
       "        text-align: right;\n",
       "    }\n",
       "</style>\n",
       "<table border=\"1\" class=\"dataframe\">\n",
       "  <thead>\n",
       "    <tr style=\"text-align: right;\">\n",
       "      <th></th>\n",
       "      <th>Name</th>\n",
       "      <th>Team</th>\n",
       "      <th>Position</th>\n",
       "      <th>Date</th>\n",
       "      <th>Notes</th>\n",
       "    </tr>\n",
       "  </thead>\n",
       "  <tbody>\n",
       "    <tr>\n",
       "      <th>0</th>\n",
       "      <td>Jaylen Brown</td>\n",
       "      <td>Boston Celtics</td>\n",
       "      <td>G</td>\n",
       "      <td>2017-01-11</td>\n",
       "      <td>sprained right ankle (DTD)</td>\n",
       "    </tr>\n",
       "    <tr>\n",
       "      <th>1</th>\n",
       "      <td>Jaylen Brown</td>\n",
       "      <td>Boston Celtics</td>\n",
       "      <td>G</td>\n",
       "      <td>2017-01-13</td>\n",
       "      <td>returned to lineup</td>\n",
       "    </tr>\n",
       "    <tr>\n",
       "      <th>2</th>\n",
       "      <td>Jaylen Brown</td>\n",
       "      <td>Boston Celtics</td>\n",
       "      <td>G</td>\n",
       "      <td>2017-02-13</td>\n",
       "      <td>placed on IL with strained right hip flexor</td>\n",
       "    </tr>\n",
       "    <tr>\n",
       "      <th>3</th>\n",
       "      <td>Jaylen Brown</td>\n",
       "      <td>Boston Celtics</td>\n",
       "      <td>G</td>\n",
       "      <td>2017-02-24</td>\n",
       "      <td>activated from IL</td>\n",
       "    </tr>\n",
       "    <tr>\n",
       "      <th>4</th>\n",
       "      <td>Jaylen Brown</td>\n",
       "      <td>Boston Celtics</td>\n",
       "      <td>G</td>\n",
       "      <td>2017-12-06</td>\n",
       "      <td>placed on IL with right eye inflammation</td>\n",
       "    </tr>\n",
       "  </tbody>\n",
       "</table>\n",
       "</div>"
      ],
      "text/plain": [
       "           Name            Team Position       Date  \\\n",
       "0  Jaylen Brown  Boston Celtics        G 2017-01-11   \n",
       "1  Jaylen Brown  Boston Celtics        G 2017-01-13   \n",
       "2  Jaylen Brown  Boston Celtics        G 2017-02-13   \n",
       "3  Jaylen Brown  Boston Celtics        G 2017-02-24   \n",
       "4  Jaylen Brown  Boston Celtics        G 2017-12-06   \n",
       "\n",
       "                                         Notes  \n",
       "0                   sprained right ankle (DTD)  \n",
       "1                           returned to lineup  \n",
       "2  placed on IL with strained right hip flexor  \n",
       "3                            activated from IL  \n",
       "4     placed on IL with right eye inflammation  "
      ]
     },
     "execution_count": 24,
     "metadata": {},
     "output_type": "execute_result"
    }
   ],
   "source": [
    "df.head()"
   ]
  },
  {
   "cell_type": "markdown",
   "id": "5e36496e",
   "metadata": {
    "papermill": {
     "duration": 0.076208,
     "end_time": "2021-09-18T07:40:23.840283",
     "exception": false,
     "start_time": "2021-09-18T07:40:23.764075",
     "status": "completed"
    },
    "tags": []
   },
   "source": [
    "We have Name, Team and Position as common columns for these datasets. Let's try to merge them into a one dataset."
   ]
  },
  {
   "cell_type": "code",
   "execution_count": 25,
   "id": "c05ecaee",
   "metadata": {
    "execution": {
     "iopub.execute_input": "2021-09-18T07:40:24.003236Z",
     "iopub.status.busy": "2021-09-18T07:40:24.002588Z",
     "iopub.status.idle": "2021-09-18T07:40:24.035449Z",
     "shell.execute_reply": "2021-09-18T07:40:24.034865Z",
     "shell.execute_reply.started": "2021-09-18T06:26:21.1072Z"
    },
    "papermill": {
     "duration": 0.119502,
     "end_time": "2021-09-18T07:40:24.035593",
     "exception": false,
     "start_time": "2021-09-18T07:40:23.916091",
     "status": "completed"
    },
    "tags": []
   },
   "outputs": [
    {
     "data": {
      "text/html": [
       "<div>\n",
       "<style scoped>\n",
       "    .dataframe tbody tr th:only-of-type {\n",
       "        vertical-align: middle;\n",
       "    }\n",
       "\n",
       "    .dataframe tbody tr th {\n",
       "        vertical-align: top;\n",
       "    }\n",
       "\n",
       "    .dataframe thead th {\n",
       "        text-align: right;\n",
       "    }\n",
       "</style>\n",
       "<table border=\"1\" class=\"dataframe\">\n",
       "  <thead>\n",
       "    <tr style=\"text-align: right;\">\n",
       "      <th></th>\n",
       "      <th>Name</th>\n",
       "      <th>Position</th>\n",
       "      <th>Age</th>\n",
       "      <th>Height_i</th>\n",
       "      <th>Weight</th>\n",
       "      <th>Team</th>\n",
       "      <th>Salary</th>\n",
       "      <th>College</th>\n",
       "      <th>Date</th>\n",
       "      <th>Notes</th>\n",
       "    </tr>\n",
       "  </thead>\n",
       "  <tbody>\n",
       "    <tr>\n",
       "      <th>0</th>\n",
       "      <td>Jaylen Brown</td>\n",
       "      <td>G</td>\n",
       "      <td>24</td>\n",
       "      <td>6.6</td>\n",
       "      <td>223</td>\n",
       "      <td>Boston Celtics</td>\n",
       "      <td>26758928.0</td>\n",
       "      <td>California</td>\n",
       "      <td>2017-01-11</td>\n",
       "      <td>sprained right ankle (DTD)</td>\n",
       "    </tr>\n",
       "    <tr>\n",
       "      <th>1</th>\n",
       "      <td>Jaylen Brown</td>\n",
       "      <td>G</td>\n",
       "      <td>24</td>\n",
       "      <td>6.6</td>\n",
       "      <td>223</td>\n",
       "      <td>Boston Celtics</td>\n",
       "      <td>26758928.0</td>\n",
       "      <td>California</td>\n",
       "      <td>2017-01-13</td>\n",
       "      <td>returned to lineup</td>\n",
       "    </tr>\n",
       "    <tr>\n",
       "      <th>2</th>\n",
       "      <td>Jaylen Brown</td>\n",
       "      <td>G</td>\n",
       "      <td>24</td>\n",
       "      <td>6.6</td>\n",
       "      <td>223</td>\n",
       "      <td>Boston Celtics</td>\n",
       "      <td>26758928.0</td>\n",
       "      <td>California</td>\n",
       "      <td>2017-02-13</td>\n",
       "      <td>placed on IL with strained right hip flexor</td>\n",
       "    </tr>\n",
       "    <tr>\n",
       "      <th>3</th>\n",
       "      <td>Jaylen Brown</td>\n",
       "      <td>G</td>\n",
       "      <td>24</td>\n",
       "      <td>6.6</td>\n",
       "      <td>223</td>\n",
       "      <td>Boston Celtics</td>\n",
       "      <td>26758928.0</td>\n",
       "      <td>California</td>\n",
       "      <td>2017-02-24</td>\n",
       "      <td>activated from IL</td>\n",
       "    </tr>\n",
       "    <tr>\n",
       "      <th>4</th>\n",
       "      <td>Jaylen Brown</td>\n",
       "      <td>G</td>\n",
       "      <td>24</td>\n",
       "      <td>6.6</td>\n",
       "      <td>223</td>\n",
       "      <td>Boston Celtics</td>\n",
       "      <td>26758928.0</td>\n",
       "      <td>California</td>\n",
       "      <td>2017-12-06</td>\n",
       "      <td>placed on IL with right eye inflammation</td>\n",
       "    </tr>\n",
       "  </tbody>\n",
       "</table>\n",
       "</div>"
      ],
      "text/plain": [
       "           Name Position  Age  Height_i  Weight            Team      Salary  \\\n",
       "0  Jaylen Brown        G   24       6.6     223  Boston Celtics  26758928.0   \n",
       "1  Jaylen Brown        G   24       6.6     223  Boston Celtics  26758928.0   \n",
       "2  Jaylen Brown        G   24       6.6     223  Boston Celtics  26758928.0   \n",
       "3  Jaylen Brown        G   24       6.6     223  Boston Celtics  26758928.0   \n",
       "4  Jaylen Brown        G   24       6.6     223  Boston Celtics  26758928.0   \n",
       "\n",
       "      College       Date                                        Notes  \n",
       "0  California 2017-01-11                   sprained right ankle (DTD)  \n",
       "1  California 2017-01-13                           returned to lineup  \n",
       "2  California 2017-02-13  placed on IL with strained right hip flexor  \n",
       "3  California 2017-02-24                            activated from IL  \n",
       "4  California 2017-12-06     placed on IL with right eye inflammation  "
      ]
     },
     "execution_count": 25,
     "metadata": {},
     "output_type": "execute_result"
    }
   ],
   "source": [
    "df2 = df2[[\"Name\",\"Age\",\"Height_i\",\"Weight\",\"College\",\"Salary\"]]\n",
    "\n",
    "df_f = pd.merge(df, df2, how= \"left\", on=[\"Name\"])\n",
    "\n",
    "df_f = df_f[[\"Name\",\"Position\",\"Age\", \"Height_i\", \"Weight\", \"Team\", \"Salary\", \"College\", \"Date\", \"Notes\"]]\n",
    "\n",
    "df_f.head()"
   ]
  },
  {
   "cell_type": "markdown",
   "id": "0346da45",
   "metadata": {
    "papermill": {
     "duration": 0.076383,
     "end_time": "2021-09-18T07:40:24.188901",
     "exception": false,
     "start_time": "2021-09-18T07:40:24.112518",
     "status": "completed"
    },
    "tags": []
   },
   "source": [
    "Height_i column represents the player's height in inches but it is represented with a dot to be an integer. This way it would be easier to analyze.\n",
    "\n",
    "Salary is player's salary as US Dollars on 2021.\n",
    "\n",
    "Weight is represented in lbs."
   ]
  },
  {
   "cell_type": "markdown",
   "id": "6a6b47af",
   "metadata": {
    "papermill": {
     "duration": 0.076493,
     "end_time": "2021-09-18T07:40:24.342277",
     "exception": false,
     "start_time": "2021-09-18T07:40:24.265784",
     "status": "completed"
    },
    "tags": []
   },
   "source": [
    "Creating a new df named df_u to see unique entries of players.\n",
    "Dropping the duplicate names to have players with 1 unique entry."
   ]
  },
  {
   "cell_type": "code",
   "execution_count": 26,
   "id": "dca3617d",
   "metadata": {
    "execution": {
     "iopub.execute_input": "2021-09-18T07:40:24.504801Z",
     "iopub.status.busy": "2021-09-18T07:40:24.504100Z",
     "iopub.status.idle": "2021-09-18T07:40:24.521820Z",
     "shell.execute_reply": "2021-09-18T07:40:24.522317Z",
     "shell.execute_reply.started": "2021-09-18T06:26:21.14778Z"
    },
    "papermill": {
     "duration": 0.103278,
     "end_time": "2021-09-18T07:40:24.522493",
     "exception": false,
     "start_time": "2021-09-18T07:40:24.419215",
     "status": "completed"
    },
    "tags": []
   },
   "outputs": [
    {
     "data": {
      "text/html": [
       "<div>\n",
       "<style scoped>\n",
       "    .dataframe tbody tr th:only-of-type {\n",
       "        vertical-align: middle;\n",
       "    }\n",
       "\n",
       "    .dataframe tbody tr th {\n",
       "        vertical-align: top;\n",
       "    }\n",
       "\n",
       "    .dataframe thead th {\n",
       "        text-align: right;\n",
       "    }\n",
       "</style>\n",
       "<table border=\"1\" class=\"dataframe\">\n",
       "  <thead>\n",
       "    <tr style=\"text-align: right;\">\n",
       "      <th></th>\n",
       "      <th>Name</th>\n",
       "      <th>Position</th>\n",
       "      <th>Age</th>\n",
       "      <th>Height_i</th>\n",
       "      <th>Weight</th>\n",
       "      <th>Team</th>\n",
       "      <th>Salary</th>\n",
       "      <th>College</th>\n",
       "      <th>Date</th>\n",
       "      <th>Notes</th>\n",
       "    </tr>\n",
       "  </thead>\n",
       "  <tbody>\n",
       "    <tr>\n",
       "      <th>0</th>\n",
       "      <td>Jaylen Brown</td>\n",
       "      <td>G</td>\n",
       "      <td>24</td>\n",
       "      <td>6.6</td>\n",
       "      <td>223</td>\n",
       "      <td>Boston Celtics</td>\n",
       "      <td>26758928.0</td>\n",
       "      <td>California</td>\n",
       "      <td>2017-01-11</td>\n",
       "      <td>sprained right ankle (DTD)</td>\n",
       "    </tr>\n",
       "    <tr>\n",
       "      <th>39</th>\n",
       "      <td>Kris Dunn</td>\n",
       "      <td>G</td>\n",
       "      <td>27</td>\n",
       "      <td>6.3</td>\n",
       "      <td>205</td>\n",
       "      <td>Boston Celtics</td>\n",
       "      <td>5005350.0</td>\n",
       "      <td>Providence</td>\n",
       "      <td>2017-02-03</td>\n",
       "      <td>right hand injury (DTD)</td>\n",
       "    </tr>\n",
       "    <tr>\n",
       "      <th>61</th>\n",
       "      <td>Tacko Fall</td>\n",
       "      <td>C</td>\n",
       "      <td>25</td>\n",
       "      <td>7.5</td>\n",
       "      <td>311</td>\n",
       "      <td>Boston Celtics</td>\n",
       "      <td>NaN</td>\n",
       "      <td>UCF</td>\n",
       "      <td>2019-10-22</td>\n",
       "      <td>concussion (DTD)</td>\n",
       "    </tr>\n",
       "    <tr>\n",
       "      <th>64</th>\n",
       "      <td>Bruno Fernando</td>\n",
       "      <td>F</td>\n",
       "      <td>23</td>\n",
       "      <td>6.9</td>\n",
       "      <td>240</td>\n",
       "      <td>Boston Celtics</td>\n",
       "      <td>1782621.0</td>\n",
       "      <td>Maryland</td>\n",
       "      <td>2020-01-08</td>\n",
       "      <td>placed on IL with strained left calf</td>\n",
       "    </tr>\n",
       "    <tr>\n",
       "      <th>69</th>\n",
       "      <td>Al Horford</td>\n",
       "      <td>C</td>\n",
       "      <td>35</td>\n",
       "      <td>6.9</td>\n",
       "      <td>240</td>\n",
       "      <td>Boston Celtics</td>\n",
       "      <td>27000000.0</td>\n",
       "      <td>Florida</td>\n",
       "      <td>2011-01-21</td>\n",
       "      <td>placed on IL with sore right ankle</td>\n",
       "    </tr>\n",
       "  </tbody>\n",
       "</table>\n",
       "</div>"
      ],
      "text/plain": [
       "              Name Position  Age  Height_i  Weight            Team  \\\n",
       "0     Jaylen Brown        G   24       6.6     223  Boston Celtics   \n",
       "39       Kris Dunn        G   27       6.3     205  Boston Celtics   \n",
       "61      Tacko Fall        C   25       7.5     311  Boston Celtics   \n",
       "64  Bruno Fernando        F   23       6.9     240  Boston Celtics   \n",
       "69      Al Horford        C   35       6.9     240  Boston Celtics   \n",
       "\n",
       "        Salary     College       Date                                 Notes  \n",
       "0   26758928.0  California 2017-01-11            sprained right ankle (DTD)  \n",
       "39   5005350.0  Providence 2017-02-03               right hand injury (DTD)  \n",
       "61         NaN         UCF 2019-10-22                      concussion (DTD)  \n",
       "64   1782621.0    Maryland 2020-01-08  placed on IL with strained left calf  \n",
       "69  27000000.0     Florida 2011-01-21    placed on IL with sore right ankle  "
      ]
     },
     "execution_count": 26,
     "metadata": {},
     "output_type": "execute_result"
    }
   ],
   "source": [
    "df_u = df_f.drop_duplicates(subset=[\"Name\"], keep=\"first\")\n",
    "\n",
    "df_u.reset_index(inplace=False)\n",
    "\n",
    "df_u.head()"
   ]
  },
  {
   "cell_type": "code",
   "execution_count": 27,
   "id": "f3023f12",
   "metadata": {
    "execution": {
     "iopub.execute_input": "2021-09-18T07:40:24.680236Z",
     "iopub.status.busy": "2021-09-18T07:40:24.679606Z",
     "iopub.status.idle": "2021-09-18T07:40:24.684157Z",
     "shell.execute_reply": "2021-09-18T07:40:24.684694Z",
     "shell.execute_reply.started": "2021-09-18T06:26:21.174487Z"
    },
    "papermill": {
     "duration": 0.085023,
     "end_time": "2021-09-18T07:40:24.684872",
     "exception": false,
     "start_time": "2021-09-18T07:40:24.599849",
     "status": "completed"
    },
    "tags": []
   },
   "outputs": [
    {
     "data": {
      "text/plain": [
       "(344, 10)"
      ]
     },
     "execution_count": 27,
     "metadata": {},
     "output_type": "execute_result"
    }
   ],
   "source": [
    "df_u.shape"
   ]
  },
  {
   "cell_type": "markdown",
   "id": "23c29c55",
   "metadata": {
    "papermill": {
     "duration": 0.077611,
     "end_time": "2021-09-18T07:40:24.841735",
     "exception": false,
     "start_time": "2021-09-18T07:40:24.764124",
     "status": "completed"
    },
    "tags": []
   },
   "source": [
    "We have 344 player left in the unique player dataframe."
   ]
  },
  {
   "cell_type": "code",
   "execution_count": 28,
   "id": "0650208e",
   "metadata": {
    "execution": {
     "iopub.execute_input": "2021-09-18T07:40:25.000274Z",
     "iopub.status.busy": "2021-09-18T07:40:24.999661Z",
     "iopub.status.idle": "2021-09-18T07:40:25.024146Z",
     "shell.execute_reply": "2021-09-18T07:40:25.024608Z",
     "shell.execute_reply.started": "2021-09-18T06:26:21.182889Z"
    },
    "papermill": {
     "duration": 0.10531,
     "end_time": "2021-09-18T07:40:25.024786",
     "exception": false,
     "start_time": "2021-09-18T07:40:24.919476",
     "status": "completed"
    },
    "tags": []
   },
   "outputs": [
    {
     "data": {
      "text/html": [
       "<div>\n",
       "<style scoped>\n",
       "    .dataframe tbody tr th:only-of-type {\n",
       "        vertical-align: middle;\n",
       "    }\n",
       "\n",
       "    .dataframe tbody tr th {\n",
       "        vertical-align: top;\n",
       "    }\n",
       "\n",
       "    .dataframe thead th {\n",
       "        text-align: right;\n",
       "    }\n",
       "</style>\n",
       "<table border=\"1\" class=\"dataframe\">\n",
       "  <thead>\n",
       "    <tr style=\"text-align: right;\">\n",
       "      <th></th>\n",
       "      <th>Age</th>\n",
       "      <th>Height_i</th>\n",
       "      <th>Weight</th>\n",
       "      <th>Salary</th>\n",
       "    </tr>\n",
       "  </thead>\n",
       "  <tbody>\n",
       "    <tr>\n",
       "      <th>count</th>\n",
       "      <td>344.000000</td>\n",
       "      <td>344.000000</td>\n",
       "      <td>344.000000</td>\n",
       "      <td>3.010000e+02</td>\n",
       "    </tr>\n",
       "    <tr>\n",
       "      <th>mean</th>\n",
       "      <td>27.313953</td>\n",
       "      <td>6.489767</td>\n",
       "      <td>219.017442</td>\n",
       "      <td>1.094308e+07</td>\n",
       "    </tr>\n",
       "    <tr>\n",
       "      <th>std</th>\n",
       "      <td>3.907865</td>\n",
       "      <td>0.326224</td>\n",
       "      <td>25.238102</td>\n",
       "      <td>1.076599e+07</td>\n",
       "    </tr>\n",
       "    <tr>\n",
       "      <th>min</th>\n",
       "      <td>20.000000</td>\n",
       "      <td>5.100000</td>\n",
       "      <td>170.000000</td>\n",
       "      <td>1.669178e+06</td>\n",
       "    </tr>\n",
       "    <tr>\n",
       "      <th>25%</th>\n",
       "      <td>24.000000</td>\n",
       "      <td>6.200000</td>\n",
       "      <td>200.000000</td>\n",
       "      <td>2.283034e+06</td>\n",
       "    </tr>\n",
       "    <tr>\n",
       "      <th>50%</th>\n",
       "      <td>27.000000</td>\n",
       "      <td>6.500000</td>\n",
       "      <td>215.500000</td>\n",
       "      <td>7.000000e+06</td>\n",
       "    </tr>\n",
       "    <tr>\n",
       "      <th>75%</th>\n",
       "      <td>30.000000</td>\n",
       "      <td>6.700000</td>\n",
       "      <td>235.000000</td>\n",
       "      <td>1.562500e+07</td>\n",
       "    </tr>\n",
       "    <tr>\n",
       "      <th>max</th>\n",
       "      <td>41.000000</td>\n",
       "      <td>7.500000</td>\n",
       "      <td>311.000000</td>\n",
       "      <td>4.578097e+07</td>\n",
       "    </tr>\n",
       "  </tbody>\n",
       "</table>\n",
       "</div>"
      ],
      "text/plain": [
       "              Age    Height_i      Weight        Salary\n",
       "count  344.000000  344.000000  344.000000  3.010000e+02\n",
       "mean    27.313953    6.489767  219.017442  1.094308e+07\n",
       "std      3.907865    0.326224   25.238102  1.076599e+07\n",
       "min     20.000000    5.100000  170.000000  1.669178e+06\n",
       "25%     24.000000    6.200000  200.000000  2.283034e+06\n",
       "50%     27.000000    6.500000  215.500000  7.000000e+06\n",
       "75%     30.000000    6.700000  235.000000  1.562500e+07\n",
       "max     41.000000    7.500000  311.000000  4.578097e+07"
      ]
     },
     "execution_count": 28,
     "metadata": {},
     "output_type": "execute_result"
    }
   ],
   "source": [
    "df_u.describe()"
   ]
  },
  {
   "cell_type": "code",
   "execution_count": 29,
   "id": "213d157c",
   "metadata": {
    "execution": {
     "iopub.execute_input": "2021-09-18T07:40:25.215080Z",
     "iopub.status.busy": "2021-09-18T07:40:25.206031Z",
     "iopub.status.idle": "2021-09-18T07:40:25.544691Z",
     "shell.execute_reply": "2021-09-18T07:40:25.545167Z",
     "shell.execute_reply.started": "2021-09-18T06:26:21.219986Z"
    },
    "papermill": {
     "duration": 0.442116,
     "end_time": "2021-09-18T07:40:25.545362",
     "exception": false,
     "start_time": "2021-09-18T07:40:25.103246",
     "status": "completed"
    },
    "tags": []
   },
   "outputs": [
    {
     "data": {
      "text/plain": [
       "<AxesSubplot:xlabel='Age'>"
      ]
     },
     "execution_count": 29,
     "metadata": {},
     "output_type": "execute_result"
    },
    {
     "data": {
      "image/png": "[encoded data removed]",
      "text/plain": [
       "<Figure size 864x576 with 1 Axes>"
      ]
     },
     "metadata": {},
     "output_type": "display_data"
    }
   ],
   "source": [
    "plt.figure(figsize=(12,8))\n",
    "df_u.groupby(\"Age\")[\"Notes\"].count().plot(kind=\"bar\", color=\"red\")"
   ]
  },
  {
   "cell_type": "markdown",
   "id": "14ea7947",
   "metadata": {
    "papermill": {
     "duration": 0.100196,
     "end_time": "2021-09-18T07:40:25.744901",
     "exception": false,
     "start_time": "2021-09-18T07:40:25.644705",
     "status": "completed"
    },
    "tags": []
   },
   "source": [
    "The distributions is close to a normal distribution other than the 34 year olds.\n",
    "\n",
    "Let's find the 41 year old player."
   ]
  },
  {
   "cell_type": "code",
   "execution_count": 30,
   "id": "6e26af84",
   "metadata": {
    "execution": {
     "iopub.execute_input": "2021-09-18T07:40:25.907007Z",
     "iopub.status.busy": "2021-09-18T07:40:25.906362Z",
     "iopub.status.idle": "2021-09-18T07:40:25.921389Z",
     "shell.execute_reply": "2021-09-18T07:40:25.921845Z",
     "shell.execute_reply.started": "2021-09-18T06:26:21.585343Z"
    },
    "papermill": {
     "duration": 0.097105,
     "end_time": "2021-09-18T07:40:25.922030",
     "exception": false,
     "start_time": "2021-09-18T07:40:25.824925",
     "status": "completed"
    },
    "tags": []
   },
   "outputs": [
    {
     "data": {
      "text/html": [
       "<div>\n",
       "<style scoped>\n",
       "    .dataframe tbody tr th:only-of-type {\n",
       "        vertical-align: middle;\n",
       "    }\n",
       "\n",
       "    .dataframe tbody tr th {\n",
       "        vertical-align: top;\n",
       "    }\n",
       "\n",
       "    .dataframe thead th {\n",
       "        text-align: right;\n",
       "    }\n",
       "</style>\n",
       "<table border=\"1\" class=\"dataframe\">\n",
       "  <thead>\n",
       "    <tr style=\"text-align: right;\">\n",
       "      <th></th>\n",
       "      <th>Name</th>\n",
       "      <th>Position</th>\n",
       "      <th>Age</th>\n",
       "      <th>Height_i</th>\n",
       "      <th>Weight</th>\n",
       "      <th>Team</th>\n",
       "      <th>Salary</th>\n",
       "      <th>College</th>\n",
       "      <th>Date</th>\n",
       "      <th>Notes</th>\n",
       "    </tr>\n",
       "  </thead>\n",
       "  <tbody>\n",
       "    <tr>\n",
       "      <th>4086</th>\n",
       "      <td>Udonis Haslem</td>\n",
       "      <td>F</td>\n",
       "      <td>41</td>\n",
       "      <td>6.8</td>\n",
       "      <td>235</td>\n",
       "      <td>Miami Heat</td>\n",
       "      <td>1669178.0</td>\n",
       "      <td>Florida</td>\n",
       "      <td>2010-11-22</td>\n",
       "      <td>placed on IL with torn ligament in left foot (...</td>\n",
       "    </tr>\n",
       "  </tbody>\n",
       "</table>\n",
       "</div>"
      ],
      "text/plain": [
       "               Name Position  Age  Height_i  Weight        Team     Salary  \\\n",
       "4086  Udonis Haslem        F   41       6.8     235  Miami Heat  1669178.0   \n",
       "\n",
       "      College       Date                                              Notes  \n",
       "4086  Florida 2010-11-22  placed on IL with torn ligament in left foot (...  "
      ]
     },
     "execution_count": 30,
     "metadata": {},
     "output_type": "execute_result"
    }
   ],
   "source": [
    "df_u[df_u[\"Age\"]==41]"
   ]
  },
  {
   "cell_type": "code",
   "execution_count": 31,
   "id": "d5ddb825",
   "metadata": {
    "execution": {
     "iopub.execute_input": "2021-09-18T07:40:26.085826Z",
     "iopub.status.busy": "2021-09-18T07:40:26.085178Z",
     "iopub.status.idle": "2021-09-18T07:40:26.425088Z",
     "shell.execute_reply": "2021-09-18T07:40:26.425611Z",
     "shell.execute_reply.started": "2021-09-18T06:26:21.603186Z"
    },
    "papermill": {
     "duration": 0.423646,
     "end_time": "2021-09-18T07:40:26.425783",
     "exception": false,
     "start_time": "2021-09-18T07:40:26.002137",
     "status": "completed"
    },
    "tags": []
   },
   "outputs": [
    {
     "data": {
      "text/plain": [
       "<AxesSubplot:xlabel='Height_i'>"
      ]
     },
     "execution_count": 31,
     "metadata": {},
     "output_type": "execute_result"
    },
    {
     "data": {
      "image/png": "[encoded data removed]",
      "text/plain": [
       "<Figure size 864x576 with 1 Axes>"
      ]
     },
     "metadata": {},
     "output_type": "display_data"
    }
   ],
   "source": [
    "plt.figure(figsize=(12,8))\n",
    "df_u.groupby(\"Height_i\")[\"Notes\"].count().plot(kind=\"bar\")"
   ]
  },
  {
   "cell_type": "markdown",
   "id": "47ca3a11",
   "metadata": {
    "papermill": {
     "duration": 0.08035,
     "end_time": "2021-09-18T07:40:26.587997",
     "exception": false,
     "start_time": "2021-09-18T07:40:26.507647",
     "status": "completed"
    },
    "tags": []
   },
   "source": [
    "The distribution is similar to a bimodal distribution."
   ]
  },
  {
   "cell_type": "code",
   "execution_count": 32,
   "id": "a2e92937",
   "metadata": {
    "execution": {
     "iopub.execute_input": "2021-09-18T07:40:26.752639Z",
     "iopub.status.busy": "2021-09-18T07:40:26.751999Z",
     "iopub.status.idle": "2021-09-18T07:40:27.157063Z",
     "shell.execute_reply": "2021-09-18T07:40:27.157548Z",
     "shell.execute_reply.started": "2021-09-18T06:26:21.956058Z"
    },
    "papermill": {
     "duration": 0.488804,
     "end_time": "2021-09-18T07:40:27.157728",
     "exception": false,
     "start_time": "2021-09-18T07:40:26.668924",
     "status": "completed"
    },
    "tags": []
   },
   "outputs": [
    {
     "data": {
      "text/plain": [
       "<seaborn.axisgrid.FacetGrid at 0x7f50582dc650>"
      ]
     },
     "execution_count": 32,
     "metadata": {},
     "output_type": "execute_result"
    },
    {
     "data": {
      "image/png": "[encoded data removed]",
      "text/plain": [
       "<Figure size 720x720 with 1 Axes>"
      ]
     },
     "metadata": {},
     "output_type": "display_data"
    }
   ],
   "source": [
    "weight_plot = sns.FacetGrid(df_u, height = 10)\n",
    "weight_plot.map(plt.hist,\"Weight\",bins = 20, color = \"green\")"
   ]
  },
  {
   "cell_type": "markdown",
   "id": "d959c3c3",
   "metadata": {
    "papermill": {
     "duration": 0.082005,
     "end_time": "2021-09-18T07:40:27.321715",
     "exception": false,
     "start_time": "2021-09-18T07:40:27.239710",
     "status": "completed"
    },
    "tags": []
   },
   "source": [
    "The weight distribution is right skewed."
   ]
  },
  {
   "cell_type": "markdown",
   "id": "782c1cf2",
   "metadata": {
    "papermill": {
     "duration": 0.083072,
     "end_time": "2021-09-18T07:40:27.486867",
     "exception": false,
     "start_time": "2021-09-18T07:40:27.403795",
     "status": "completed"
    },
    "tags": []
   },
   "source": [
    "Changing Salary to million dollars to have a better plot."
   ]
  },
  {
   "cell_type": "code",
   "execution_count": 33,
   "id": "2c062096",
   "metadata": {
    "execution": {
     "iopub.execute_input": "2021-09-18T07:40:27.654779Z",
     "iopub.status.busy": "2021-09-18T07:40:27.654147Z",
     "iopub.status.idle": "2021-09-18T07:40:27.674787Z",
     "shell.execute_reply": "2021-09-18T07:40:27.675270Z",
     "shell.execute_reply.started": "2021-09-18T06:26:22.370026Z"
    },
    "papermill": {
     "duration": 0.105893,
     "end_time": "2021-09-18T07:40:27.675456",
     "exception": false,
     "start_time": "2021-09-18T07:40:27.569563",
     "status": "completed"
    },
    "tags": []
   },
   "outputs": [
    {
     "name": "stderr",
     "output_type": "stream",
     "text": [
      "/opt/conda/lib/python3.7/site-packages/ipykernel_launcher.py:2: SettingWithCopyWarning: \n",
      "A value is trying to be set on a copy of a slice from a DataFrame.\n",
      "Try using .loc[row_indexer,col_indexer] = value instead\n",
      "\n",
      "See the caveats in the documentation: https://pandas.pydata.org/pandas-docs/stable/user_guide/indexing.html#returning-a-view-versus-a-copy\n",
      "  \n"
     ]
    },
    {
     "data": {
      "text/html": [
       "<div>\n",
       "<style scoped>\n",
       "    .dataframe tbody tr th:only-of-type {\n",
       "        vertical-align: middle;\n",
       "    }\n",
       "\n",
       "    .dataframe tbody tr th {\n",
       "        vertical-align: top;\n",
       "    }\n",
       "\n",
       "    .dataframe thead th {\n",
       "        text-align: right;\n",
       "    }\n",
       "</style>\n",
       "<table border=\"1\" class=\"dataframe\">\n",
       "  <thead>\n",
       "    <tr style=\"text-align: right;\">\n",
       "      <th></th>\n",
       "      <th>Name</th>\n",
       "      <th>Position</th>\n",
       "      <th>Age</th>\n",
       "      <th>Height_i</th>\n",
       "      <th>Weight</th>\n",
       "      <th>Team</th>\n",
       "      <th>Salary</th>\n",
       "      <th>College</th>\n",
       "      <th>Date</th>\n",
       "      <th>Notes</th>\n",
       "    </tr>\n",
       "  </thead>\n",
       "  <tbody>\n",
       "    <tr>\n",
       "      <th>0</th>\n",
       "      <td>Jaylen Brown</td>\n",
       "      <td>G</td>\n",
       "      <td>24</td>\n",
       "      <td>6.6</td>\n",
       "      <td>223</td>\n",
       "      <td>Boston Celtics</td>\n",
       "      <td>26.758928</td>\n",
       "      <td>California</td>\n",
       "      <td>2017-01-11</td>\n",
       "      <td>sprained right ankle (DTD)</td>\n",
       "    </tr>\n",
       "    <tr>\n",
       "      <th>39</th>\n",
       "      <td>Kris Dunn</td>\n",
       "      <td>G</td>\n",
       "      <td>27</td>\n",
       "      <td>6.3</td>\n",
       "      <td>205</td>\n",
       "      <td>Boston Celtics</td>\n",
       "      <td>5.005350</td>\n",
       "      <td>Providence</td>\n",
       "      <td>2017-02-03</td>\n",
       "      <td>right hand injury (DTD)</td>\n",
       "    </tr>\n",
       "    <tr>\n",
       "      <th>61</th>\n",
       "      <td>Tacko Fall</td>\n",
       "      <td>C</td>\n",
       "      <td>25</td>\n",
       "      <td>7.5</td>\n",
       "      <td>311</td>\n",
       "      <td>Boston Celtics</td>\n",
       "      <td>NaN</td>\n",
       "      <td>UCF</td>\n",
       "      <td>2019-10-22</td>\n",
       "      <td>concussion (DTD)</td>\n",
       "    </tr>\n",
       "    <tr>\n",
       "      <th>64</th>\n",
       "      <td>Bruno Fernando</td>\n",
       "      <td>F</td>\n",
       "      <td>23</td>\n",
       "      <td>6.9</td>\n",
       "      <td>240</td>\n",
       "      <td>Boston Celtics</td>\n",
       "      <td>1.782621</td>\n",
       "      <td>Maryland</td>\n",
       "      <td>2020-01-08</td>\n",
       "      <td>placed on IL with strained left calf</td>\n",
       "    </tr>\n",
       "    <tr>\n",
       "      <th>69</th>\n",
       "      <td>Al Horford</td>\n",
       "      <td>C</td>\n",
       "      <td>35</td>\n",
       "      <td>6.9</td>\n",
       "      <td>240</td>\n",
       "      <td>Boston Celtics</td>\n",
       "      <td>27.000000</td>\n",
       "      <td>Florida</td>\n",
       "      <td>2011-01-21</td>\n",
       "      <td>placed on IL with sore right ankle</td>\n",
       "    </tr>\n",
       "  </tbody>\n",
       "</table>\n",
       "</div>"
      ],
      "text/plain": [
       "              Name Position  Age  Height_i  Weight            Team     Salary  \\\n",
       "0     Jaylen Brown        G   24       6.6     223  Boston Celtics  26.758928   \n",
       "39       Kris Dunn        G   27       6.3     205  Boston Celtics   5.005350   \n",
       "61      Tacko Fall        C   25       7.5     311  Boston Celtics        NaN   \n",
       "64  Bruno Fernando        F   23       6.9     240  Boston Celtics   1.782621   \n",
       "69      Al Horford        C   35       6.9     240  Boston Celtics  27.000000   \n",
       "\n",
       "       College       Date                                 Notes  \n",
       "0   California 2017-01-11            sprained right ankle (DTD)  \n",
       "39  Providence 2017-02-03               right hand injury (DTD)  \n",
       "61         UCF 2019-10-22                      concussion (DTD)  \n",
       "64    Maryland 2020-01-08  placed on IL with strained left calf  \n",
       "69     Florida 2011-01-21    placed on IL with sore right ankle  "
      ]
     },
     "execution_count": 33,
     "metadata": {},
     "output_type": "execute_result"
    }
   ],
   "source": [
    "df_f[\"Salary\"] = df_f[\"Salary\"] / 1000000\n",
    "df_u[\"Salary\"] = df_u[\"Salary\"] / 1000000\n",
    "\n",
    "\n",
    "df_u.head()"
   ]
  },
  {
   "cell_type": "code",
   "execution_count": 34,
   "id": "b320eadf",
   "metadata": {
    "execution": {
     "iopub.execute_input": "2021-09-18T07:40:27.846275Z",
     "iopub.status.busy": "2021-09-18T07:40:27.845546Z",
     "iopub.status.idle": "2021-09-18T07:40:28.256197Z",
     "shell.execute_reply": "2021-09-18T07:40:28.255569Z",
     "shell.execute_reply.started": "2021-09-18T06:26:22.39199Z"
    },
    "papermill": {
     "duration": 0.498358,
     "end_time": "2021-09-18T07:40:28.256353",
     "exception": false,
     "start_time": "2021-09-18T07:40:27.757995",
     "status": "completed"
    },
    "tags": []
   },
   "outputs": [
    {
     "data": {
      "text/plain": [
       "<seaborn.axisgrid.FacetGrid at 0x7f505821ff50>"
      ]
     },
     "execution_count": 34,
     "metadata": {},
     "output_type": "execute_result"
    },
    {
     "data": {
      "image/png": "[encoded data removed]",
      "text/plain": [
       "<Figure size 720x720 with 1 Axes>"
      ]
     },
     "metadata": {},
     "output_type": "display_data"
    }
   ],
   "source": [
    "salary_plot = sns.FacetGrid(df_u, height = 10)\n",
    "salary_plot.map(plt.hist,\"Salary\",bins = 20, color = \"orange\")"
   ]
  },
  {
   "cell_type": "markdown",
   "id": "5e182442",
   "metadata": {
    "papermill": {
     "duration": 0.083218,
     "end_time": "2021-09-18T07:40:28.422982",
     "exception": false,
     "start_time": "2021-09-18T07:40:28.339764",
     "status": "completed"
    },
    "tags": []
   },
   "source": [
    "The salary distribution is right skewed and it shows the income inequeality in the NBA."
   ]
  },
  {
   "cell_type": "code",
   "execution_count": 35,
   "id": "c6091922",
   "metadata": {
    "execution": {
     "iopub.execute_input": "2021-09-18T07:40:28.601099Z",
     "iopub.status.busy": "2021-09-18T07:40:28.600461Z",
     "iopub.status.idle": "2021-09-18T07:40:28.603519Z",
     "shell.execute_reply": "2021-09-18T07:40:28.604031Z",
     "shell.execute_reply.started": "2021-09-18T06:26:22.758566Z"
    },
    "papermill": {
     "duration": 0.096461,
     "end_time": "2021-09-18T07:40:28.604206",
     "exception": false,
     "start_time": "2021-09-18T07:40:28.507745",
     "status": "completed"
    },
    "tags": []
   },
   "outputs": [
    {
     "data": {
      "text/plain": [
       "Kentucky                     622\n",
       "Duke                         550\n",
       "UCLA                         475\n",
       "Texas                        343\n",
       "Indiana                      266\n",
       "                            ... \n",
       "David Lipscomb University      2\n",
       "Minnesota                      2\n",
       "Texas Tech                     2\n",
       "Tulsa                          2\n",
       "Belmont                        1\n",
       "Name: College, Length: 106, dtype: int64"
      ]
     },
     "execution_count": 35,
     "metadata": {},
     "output_type": "execute_result"
    }
   ],
   "source": [
    "df_f[\"College\"].value_counts()"
   ]
  },
  {
   "cell_type": "code",
   "execution_count": 36,
   "id": "adcf9cab",
   "metadata": {
    "execution": {
     "iopub.execute_input": "2021-09-18T07:40:28.777549Z",
     "iopub.status.busy": "2021-09-18T07:40:28.776893Z",
     "iopub.status.idle": "2021-09-18T07:40:28.784365Z",
     "shell.execute_reply": "2021-09-18T07:40:28.784889Z",
     "shell.execute_reply.started": "2021-09-18T06:26:22.77225Z"
    },
    "papermill": {
     "duration": 0.094997,
     "end_time": "2021-09-18T07:40:28.785053",
     "exception": false,
     "start_time": "2021-09-18T07:40:28.690056",
     "status": "completed"
    },
    "tags": []
   },
   "outputs": [
    {
     "data": {
      "text/plain": [
       "Kentucky           22\n",
       "Duke               19\n",
       "UCLA               10\n",
       "Texas               9\n",
       "Kansas              8\n",
       "                   ..\n",
       "San Diego State     1\n",
       "Oklahoma State      1\n",
       "Providence          1\n",
       "Dayton              1\n",
       "Texas Tech          1\n",
       "Name: College, Length: 106, dtype: int64"
      ]
     },
     "execution_count": 36,
     "metadata": {},
     "output_type": "execute_result"
    }
   ],
   "source": [
    "df_u[\"College\"].value_counts()"
   ]
  },
  {
   "cell_type": "markdown",
   "id": "53bcae35",
   "metadata": {
    "papermill": {
     "duration": 0.083956,
     "end_time": "2021-09-18T07:40:28.956497",
     "exception": false,
     "start_time": "2021-09-18T07:40:28.872541",
     "status": "completed"
    },
    "tags": []
   },
   "source": [
    "The last 2 outputs look correlated as colleges sending more players to the NBA would result in more injury updates. So, it would not be correct to say that player's from Kentucky or Duke are more prone to injuries. They have more injury updates since they are the colleges that sends the most players to the NBA."
   ]
  },
  {
   "cell_type": "code",
   "execution_count": 37,
   "id": "62e27e32",
   "metadata": {
    "execution": {
     "iopub.execute_input": "2021-09-18T07:40:29.129479Z",
     "iopub.status.busy": "2021-09-18T07:40:29.128868Z",
     "iopub.status.idle": "2021-09-18T07:40:29.144618Z",
     "shell.execute_reply": "2021-09-18T07:40:29.145073Z",
     "shell.execute_reply.started": "2021-09-18T06:26:22.789843Z"
    },
    "papermill": {
     "duration": 0.103491,
     "end_time": "2021-09-18T07:40:29.145255",
     "exception": false,
     "start_time": "2021-09-18T07:40:29.041764",
     "status": "completed"
    },
    "tags": []
   },
   "outputs": [
    {
     "data": {
      "text/html": [
       "<div>\n",
       "<style scoped>\n",
       "    .dataframe tbody tr th:only-of-type {\n",
       "        vertical-align: middle;\n",
       "    }\n",
       "\n",
       "    .dataframe tbody tr th {\n",
       "        vertical-align: top;\n",
       "    }\n",
       "\n",
       "    .dataframe thead th {\n",
       "        text-align: right;\n",
       "    }\n",
       "</style>\n",
       "<table border=\"1\" class=\"dataframe\">\n",
       "  <thead>\n",
       "    <tr style=\"text-align: right;\">\n",
       "      <th></th>\n",
       "      <th>Name</th>\n",
       "      <th>Position</th>\n",
       "      <th>Age</th>\n",
       "      <th>Height_i</th>\n",
       "      <th>Weight</th>\n",
       "      <th>Team</th>\n",
       "      <th>Salary</th>\n",
       "      <th>College</th>\n",
       "      <th>Date</th>\n",
       "      <th>Notes</th>\n",
       "    </tr>\n",
       "  </thead>\n",
       "  <tbody>\n",
       "    <tr>\n",
       "      <th>0</th>\n",
       "      <td>Jaylen Brown</td>\n",
       "      <td>G</td>\n",
       "      <td>24</td>\n",
       "      <td>6.6</td>\n",
       "      <td>223</td>\n",
       "      <td>Boston Celtics</td>\n",
       "      <td>26.758928</td>\n",
       "      <td>California</td>\n",
       "      <td>2017-01-11</td>\n",
       "      <td>sprained right ankle (DTD)</td>\n",
       "    </tr>\n",
       "    <tr>\n",
       "      <th>1</th>\n",
       "      <td>Jaylen Brown</td>\n",
       "      <td>G</td>\n",
       "      <td>24</td>\n",
       "      <td>6.6</td>\n",
       "      <td>223</td>\n",
       "      <td>Boston Celtics</td>\n",
       "      <td>26.758928</td>\n",
       "      <td>California</td>\n",
       "      <td>2017-01-13</td>\n",
       "      <td>returned to lineup</td>\n",
       "    </tr>\n",
       "    <tr>\n",
       "      <th>2</th>\n",
       "      <td>Jaylen Brown</td>\n",
       "      <td>G</td>\n",
       "      <td>24</td>\n",
       "      <td>6.6</td>\n",
       "      <td>223</td>\n",
       "      <td>Boston Celtics</td>\n",
       "      <td>26.758928</td>\n",
       "      <td>California</td>\n",
       "      <td>2017-02-13</td>\n",
       "      <td>placed on IL with strained right hip flexor</td>\n",
       "    </tr>\n",
       "    <tr>\n",
       "      <th>3</th>\n",
       "      <td>Jaylen Brown</td>\n",
       "      <td>G</td>\n",
       "      <td>24</td>\n",
       "      <td>6.6</td>\n",
       "      <td>223</td>\n",
       "      <td>Boston Celtics</td>\n",
       "      <td>26.758928</td>\n",
       "      <td>California</td>\n",
       "      <td>2017-02-24</td>\n",
       "      <td>activated from IL</td>\n",
       "    </tr>\n",
       "    <tr>\n",
       "      <th>4</th>\n",
       "      <td>Jaylen Brown</td>\n",
       "      <td>G</td>\n",
       "      <td>24</td>\n",
       "      <td>6.6</td>\n",
       "      <td>223</td>\n",
       "      <td>Boston Celtics</td>\n",
       "      <td>26.758928</td>\n",
       "      <td>California</td>\n",
       "      <td>2017-12-06</td>\n",
       "      <td>placed on IL with right eye inflammation</td>\n",
       "    </tr>\n",
       "  </tbody>\n",
       "</table>\n",
       "</div>"
      ],
      "text/plain": [
       "           Name Position  Age  Height_i  Weight            Team     Salary  \\\n",
       "0  Jaylen Brown        G   24       6.6     223  Boston Celtics  26.758928   \n",
       "1  Jaylen Brown        G   24       6.6     223  Boston Celtics  26.758928   \n",
       "2  Jaylen Brown        G   24       6.6     223  Boston Celtics  26.758928   \n",
       "3  Jaylen Brown        G   24       6.6     223  Boston Celtics  26.758928   \n",
       "4  Jaylen Brown        G   24       6.6     223  Boston Celtics  26.758928   \n",
       "\n",
       "      College       Date                                        Notes  \n",
       "0  California 2017-01-11                   sprained right ankle (DTD)  \n",
       "1  California 2017-01-13                           returned to lineup  \n",
       "2  California 2017-02-13  placed on IL with strained right hip flexor  \n",
       "3  California 2017-02-24                            activated from IL  \n",
       "4  California 2017-12-06     placed on IL with right eye inflammation  "
      ]
     },
     "execution_count": 37,
     "metadata": {},
     "output_type": "execute_result"
    }
   ],
   "source": [
    "df_f.head()"
   ]
  },
  {
   "cell_type": "markdown",
   "id": "058fb0a6",
   "metadata": {
    "papermill": {
     "duration": 0.134387,
     "end_time": "2021-09-18T07:40:29.365561",
     "exception": false,
     "start_time": "2021-09-18T07:40:29.231174",
     "status": "completed"
    },
    "tags": []
   },
   "source": [
    "Creating a new column named Count to have the amount of injury updates a player has."
   ]
  },
  {
   "cell_type": "code",
   "execution_count": 38,
   "id": "1993539e",
   "metadata": {
    "execution": {
     "iopub.execute_input": "2021-09-18T07:40:29.540566Z",
     "iopub.status.busy": "2021-09-18T07:40:29.539958Z",
     "iopub.status.idle": "2021-09-18T07:40:29.560912Z",
     "shell.execute_reply": "2021-09-18T07:40:29.560406Z",
     "shell.execute_reply.started": "2021-09-18T06:26:22.817978Z"
    },
    "papermill": {
     "duration": 0.110115,
     "end_time": "2021-09-18T07:40:29.561062",
     "exception": false,
     "start_time": "2021-09-18T07:40:29.450947",
     "status": "completed"
    },
    "tags": []
   },
   "outputs": [
    {
     "data": {
      "text/html": [
       "<div>\n",
       "<style scoped>\n",
       "    .dataframe tbody tr th:only-of-type {\n",
       "        vertical-align: middle;\n",
       "    }\n",
       "\n",
       "    .dataframe tbody tr th {\n",
       "        vertical-align: top;\n",
       "    }\n",
       "\n",
       "    .dataframe thead th {\n",
       "        text-align: right;\n",
       "    }\n",
       "</style>\n",
       "<table border=\"1\" class=\"dataframe\">\n",
       "  <thead>\n",
       "    <tr style=\"text-align: right;\">\n",
       "      <th></th>\n",
       "      <th>Name</th>\n",
       "      <th>Position</th>\n",
       "      <th>Age</th>\n",
       "      <th>Height_i</th>\n",
       "      <th>Weight</th>\n",
       "      <th>Team</th>\n",
       "      <th>Salary</th>\n",
       "      <th>College</th>\n",
       "      <th>Date</th>\n",
       "      <th>Notes</th>\n",
       "      <th>Count</th>\n",
       "    </tr>\n",
       "  </thead>\n",
       "  <tbody>\n",
       "    <tr>\n",
       "      <th>0</th>\n",
       "      <td>Jaylen Brown</td>\n",
       "      <td>G</td>\n",
       "      <td>24</td>\n",
       "      <td>6.6</td>\n",
       "      <td>223</td>\n",
       "      <td>Boston Celtics</td>\n",
       "      <td>26.758928</td>\n",
       "      <td>California</td>\n",
       "      <td>2017-01-11</td>\n",
       "      <td>sprained right ankle (DTD)</td>\n",
       "      <td>39</td>\n",
       "    </tr>\n",
       "    <tr>\n",
       "      <th>1</th>\n",
       "      <td>Jaylen Brown</td>\n",
       "      <td>G</td>\n",
       "      <td>24</td>\n",
       "      <td>6.6</td>\n",
       "      <td>223</td>\n",
       "      <td>Boston Celtics</td>\n",
       "      <td>26.758928</td>\n",
       "      <td>California</td>\n",
       "      <td>2017-01-13</td>\n",
       "      <td>returned to lineup</td>\n",
       "      <td>39</td>\n",
       "    </tr>\n",
       "    <tr>\n",
       "      <th>2</th>\n",
       "      <td>Jaylen Brown</td>\n",
       "      <td>G</td>\n",
       "      <td>24</td>\n",
       "      <td>6.6</td>\n",
       "      <td>223</td>\n",
       "      <td>Boston Celtics</td>\n",
       "      <td>26.758928</td>\n",
       "      <td>California</td>\n",
       "      <td>2017-02-13</td>\n",
       "      <td>placed on IL with strained right hip flexor</td>\n",
       "      <td>39</td>\n",
       "    </tr>\n",
       "    <tr>\n",
       "      <th>3</th>\n",
       "      <td>Jaylen Brown</td>\n",
       "      <td>G</td>\n",
       "      <td>24</td>\n",
       "      <td>6.6</td>\n",
       "      <td>223</td>\n",
       "      <td>Boston Celtics</td>\n",
       "      <td>26.758928</td>\n",
       "      <td>California</td>\n",
       "      <td>2017-02-24</td>\n",
       "      <td>activated from IL</td>\n",
       "      <td>39</td>\n",
       "    </tr>\n",
       "    <tr>\n",
       "      <th>4</th>\n",
       "      <td>Jaylen Brown</td>\n",
       "      <td>G</td>\n",
       "      <td>24</td>\n",
       "      <td>6.6</td>\n",
       "      <td>223</td>\n",
       "      <td>Boston Celtics</td>\n",
       "      <td>26.758928</td>\n",
       "      <td>California</td>\n",
       "      <td>2017-12-06</td>\n",
       "      <td>placed on IL with right eye inflammation</td>\n",
       "      <td>39</td>\n",
       "    </tr>\n",
       "  </tbody>\n",
       "</table>\n",
       "</div>"
      ],
      "text/plain": [
       "           Name Position  Age  Height_i  Weight            Team     Salary  \\\n",
       "0  Jaylen Brown        G   24       6.6     223  Boston Celtics  26.758928   \n",
       "1  Jaylen Brown        G   24       6.6     223  Boston Celtics  26.758928   \n",
       "2  Jaylen Brown        G   24       6.6     223  Boston Celtics  26.758928   \n",
       "3  Jaylen Brown        G   24       6.6     223  Boston Celtics  26.758928   \n",
       "4  Jaylen Brown        G   24       6.6     223  Boston Celtics  26.758928   \n",
       "\n",
       "      College       Date                                        Notes  Count  \n",
       "0  California 2017-01-11                   sprained right ankle (DTD)     39  \n",
       "1  California 2017-01-13                           returned to lineup     39  \n",
       "2  California 2017-02-13  placed on IL with strained right hip flexor     39  \n",
       "3  California 2017-02-24                            activated from IL     39  \n",
       "4  California 2017-12-06     placed on IL with right eye inflammation     39  "
      ]
     },
     "execution_count": 38,
     "metadata": {},
     "output_type": "execute_result"
    }
   ],
   "source": [
    "df_f[\"Count\"] = df_f.groupby(\"Name\")[\"Name\"].transform(\"count\")\n",
    "\n",
    "df_f.head()"
   ]
  },
  {
   "cell_type": "code",
   "execution_count": 39,
   "id": "82afd39e",
   "metadata": {
    "execution": {
     "iopub.execute_input": "2021-09-18T07:40:29.739396Z",
     "iopub.status.busy": "2021-09-18T07:40:29.738766Z",
     "iopub.status.idle": "2021-09-18T07:40:29.756456Z",
     "shell.execute_reply": "2021-09-18T07:40:29.757039Z",
     "shell.execute_reply.started": "2021-09-18T06:26:22.843764Z"
    },
    "papermill": {
     "duration": 0.110052,
     "end_time": "2021-09-18T07:40:29.757204",
     "exception": false,
     "start_time": "2021-09-18T07:40:29.647152",
     "status": "completed"
    },
    "tags": []
   },
   "outputs": [
    {
     "data": {
      "text/html": [
       "<div>\n",
       "<style scoped>\n",
       "    .dataframe tbody tr th:only-of-type {\n",
       "        vertical-align: middle;\n",
       "    }\n",
       "\n",
       "    .dataframe tbody tr th {\n",
       "        vertical-align: top;\n",
       "    }\n",
       "\n",
       "    .dataframe thead th {\n",
       "        text-align: right;\n",
       "    }\n",
       "</style>\n",
       "<table border=\"1\" class=\"dataframe\">\n",
       "  <thead>\n",
       "    <tr style=\"text-align: right;\">\n",
       "      <th></th>\n",
       "      <th>Name</th>\n",
       "      <th>Position</th>\n",
       "      <th>Age</th>\n",
       "      <th>Height_i</th>\n",
       "      <th>Weight</th>\n",
       "      <th>Team</th>\n",
       "      <th>College</th>\n",
       "      <th>Count</th>\n",
       "    </tr>\n",
       "  </thead>\n",
       "  <tbody>\n",
       "    <tr>\n",
       "      <th>0</th>\n",
       "      <td>Jaylen Brown</td>\n",
       "      <td>G</td>\n",
       "      <td>24</td>\n",
       "      <td>6.6</td>\n",
       "      <td>223</td>\n",
       "      <td>Boston Celtics</td>\n",
       "      <td>California</td>\n",
       "      <td>39</td>\n",
       "    </tr>\n",
       "    <tr>\n",
       "      <th>39</th>\n",
       "      <td>Kris Dunn</td>\n",
       "      <td>G</td>\n",
       "      <td>27</td>\n",
       "      <td>6.3</td>\n",
       "      <td>205</td>\n",
       "      <td>Boston Celtics</td>\n",
       "      <td>Providence</td>\n",
       "      <td>22</td>\n",
       "    </tr>\n",
       "    <tr>\n",
       "      <th>61</th>\n",
       "      <td>Tacko Fall</td>\n",
       "      <td>C</td>\n",
       "      <td>25</td>\n",
       "      <td>7.5</td>\n",
       "      <td>311</td>\n",
       "      <td>Boston Celtics</td>\n",
       "      <td>UCF</td>\n",
       "      <td>3</td>\n",
       "    </tr>\n",
       "    <tr>\n",
       "      <th>64</th>\n",
       "      <td>Bruno Fernando</td>\n",
       "      <td>F</td>\n",
       "      <td>23</td>\n",
       "      <td>6.9</td>\n",
       "      <td>240</td>\n",
       "      <td>Boston Celtics</td>\n",
       "      <td>Maryland</td>\n",
       "      <td>5</td>\n",
       "    </tr>\n",
       "    <tr>\n",
       "      <th>69</th>\n",
       "      <td>Al Horford</td>\n",
       "      <td>C</td>\n",
       "      <td>35</td>\n",
       "      <td>6.9</td>\n",
       "      <td>240</td>\n",
       "      <td>Boston Celtics</td>\n",
       "      <td>Florida</td>\n",
       "      <td>78</td>\n",
       "    </tr>\n",
       "  </tbody>\n",
       "</table>\n",
       "</div>"
      ],
      "text/plain": [
       "              Name Position  Age  Height_i  Weight            Team  \\\n",
       "0     Jaylen Brown        G   24       6.6     223  Boston Celtics   \n",
       "39       Kris Dunn        G   27       6.3     205  Boston Celtics   \n",
       "61      Tacko Fall        C   25       7.5     311  Boston Celtics   \n",
       "64  Bruno Fernando        F   23       6.9     240  Boston Celtics   \n",
       "69      Al Horford        C   35       6.9     240  Boston Celtics   \n",
       "\n",
       "       College  Count  \n",
       "0   California     39  \n",
       "39  Providence     22  \n",
       "61         UCF      3  \n",
       "64    Maryland      5  \n",
       "69     Florida     78  "
      ]
     },
     "execution_count": 39,
     "metadata": {},
     "output_type": "execute_result"
    }
   ],
   "source": [
    "df_f = df_f.drop_duplicates(subset=[\"Name\"], keep=\"first\")\n",
    "\n",
    "df_f.drop([\"Salary\"], axis=1, inplace=True)\n",
    "df_f.drop([\"Date\"], axis=1, inplace=True)\n",
    "df_f.drop([\"Notes\"], axis=1, inplace=True)\n",
    "\n",
    "df_f.head()"
   ]
  },
  {
   "cell_type": "code",
   "execution_count": 40,
   "id": "5937ce85",
   "metadata": {
    "execution": {
     "iopub.execute_input": "2021-09-18T07:40:29.931818Z",
     "iopub.status.busy": "2021-09-18T07:40:29.931170Z",
     "iopub.status.idle": "2021-09-18T07:40:30.062603Z",
     "shell.execute_reply": "2021-09-18T07:40:30.062029Z",
     "shell.execute_reply.started": "2021-09-18T06:26:22.868308Z"
    },
    "papermill": {
     "duration": 0.219788,
     "end_time": "2021-09-18T07:40:30.062757",
     "exception": false,
     "start_time": "2021-09-18T07:40:29.842969",
     "status": "completed"
    },
    "tags": []
   },
   "outputs": [],
   "source": [
    "from sklearn.preprocessing import LabelEncoder\n",
    "label = LabelEncoder()\n",
    "\n",
    "df_f[\"Position\"] = df_f[\"Position\"].astype(\"str\")\n",
    "df_f[\"Team\"] = df_f[\"Team\"].astype(\"str\")\n",
    "\n",
    "\n",
    "df_f[\"position_code\"] = label.fit_transform(df_f[\"Position\"])\n",
    "df_f[\"team_code\"] = label.fit_transform(df_f[\"Team\"])\n",
    "\n",
    "\n",
    "df_f.drop([\"Position\"], axis=1, inplace=True)\n",
    "df_f.drop([\"Team\"], axis=1, inplace=True)\n",
    "df_f.drop([\"College\"], axis=1, inplace=True)\n",
    "df_f.drop([\"Name\"], axis=1, inplace=True)\n",
    "\n",
    "\n"
   ]
  },
  {
   "cell_type": "code",
   "execution_count": 41,
   "id": "72096743",
   "metadata": {
    "execution": {
     "iopub.execute_input": "2021-09-18T07:40:30.247892Z",
     "iopub.status.busy": "2021-09-18T07:40:30.247071Z",
     "iopub.status.idle": "2021-09-18T07:40:30.250337Z",
     "shell.execute_reply": "2021-09-18T07:40:30.250815Z",
     "shell.execute_reply.started": "2021-09-18T06:26:23.00864Z"
    },
    "papermill": {
     "duration": 0.101416,
     "end_time": "2021-09-18T07:40:30.250976",
     "exception": false,
     "start_time": "2021-09-18T07:40:30.149560",
     "status": "completed"
    },
    "tags": []
   },
   "outputs": [
    {
     "data": {
      "text/html": [
       "<div>\n",
       "<style scoped>\n",
       "    .dataframe tbody tr th:only-of-type {\n",
       "        vertical-align: middle;\n",
       "    }\n",
       "\n",
       "    .dataframe tbody tr th {\n",
       "        vertical-align: top;\n",
       "    }\n",
       "\n",
       "    .dataframe thead th {\n",
       "        text-align: right;\n",
       "    }\n",
       "</style>\n",
       "<table border=\"1\" class=\"dataframe\">\n",
       "  <thead>\n",
       "    <tr style=\"text-align: right;\">\n",
       "      <th></th>\n",
       "      <th>Age</th>\n",
       "      <th>Height_i</th>\n",
       "      <th>Weight</th>\n",
       "      <th>Count</th>\n",
       "      <th>position_code</th>\n",
       "      <th>team_code</th>\n",
       "    </tr>\n",
       "  </thead>\n",
       "  <tbody>\n",
       "    <tr>\n",
       "      <th>0</th>\n",
       "      <td>24</td>\n",
       "      <td>6.6</td>\n",
       "      <td>223</td>\n",
       "      <td>39</td>\n",
       "      <td>2</td>\n",
       "      <td>1</td>\n",
       "    </tr>\n",
       "    <tr>\n",
       "      <th>39</th>\n",
       "      <td>27</td>\n",
       "      <td>6.3</td>\n",
       "      <td>205</td>\n",
       "      <td>22</td>\n",
       "      <td>2</td>\n",
       "      <td>1</td>\n",
       "    </tr>\n",
       "    <tr>\n",
       "      <th>61</th>\n",
       "      <td>25</td>\n",
       "      <td>7.5</td>\n",
       "      <td>311</td>\n",
       "      <td>3</td>\n",
       "      <td>0</td>\n",
       "      <td>1</td>\n",
       "    </tr>\n",
       "    <tr>\n",
       "      <th>64</th>\n",
       "      <td>23</td>\n",
       "      <td>6.9</td>\n",
       "      <td>240</td>\n",
       "      <td>5</td>\n",
       "      <td>1</td>\n",
       "      <td>1</td>\n",
       "    </tr>\n",
       "    <tr>\n",
       "      <th>69</th>\n",
       "      <td>35</td>\n",
       "      <td>6.9</td>\n",
       "      <td>240</td>\n",
       "      <td>78</td>\n",
       "      <td>0</td>\n",
       "      <td>1</td>\n",
       "    </tr>\n",
       "  </tbody>\n",
       "</table>\n",
       "</div>"
      ],
      "text/plain": [
       "    Age  Height_i  Weight  Count  position_code  team_code\n",
       "0    24       6.6     223     39              2          1\n",
       "39   27       6.3     205     22              2          1\n",
       "61   25       7.5     311      3              0          1\n",
       "64   23       6.9     240      5              1          1\n",
       "69   35       6.9     240     78              0          1"
      ]
     },
     "execution_count": 41,
     "metadata": {},
     "output_type": "execute_result"
    }
   ],
   "source": [
    "df_f.head()"
   ]
  },
  {
   "cell_type": "code",
   "execution_count": 42,
   "id": "30b4614d",
   "metadata": {
    "execution": {
     "iopub.execute_input": "2021-09-18T07:40:30.427053Z",
     "iopub.status.busy": "2021-09-18T07:40:30.426025Z",
     "iopub.status.idle": "2021-09-18T07:40:30.809116Z",
     "shell.execute_reply": "2021-09-18T07:40:30.809769Z",
     "shell.execute_reply.started": "2021-09-18T06:26:23.022594Z"
    },
    "papermill": {
     "duration": 0.472856,
     "end_time": "2021-09-18T07:40:30.809942",
     "exception": false,
     "start_time": "2021-09-18T07:40:30.337086",
     "status": "completed"
    },
    "tags": []
   },
   "outputs": [
    {
     "data": {
      "image/png": "[encoded data removed]",
      "text/plain": [
       "<Figure size 1152x720 with 2 Axes>"
      ]
     },
     "metadata": {},
     "output_type": "display_data"
    }
   ],
   "source": [
    "plt.figure(figsize=(16,10))\n",
    "\n",
    "corr = df_f.corr()\n",
    "ax = sns.heatmap(\n",
    "    corr,\n",
    "    vmin=-1, vmax=1, center=0,\n",
    "    cmap=sns.diverging_palette(20, 220, n=200),\n",
    "    square=True\n",
    ")\n",
    "ax.set_xticklabels(\n",
    "    ax.get_xticklabels(),\n",
    "    rotation=45,\n",
    "    horizontalalignment='right'\n",
    ")\n",
    "\n",
    "plt.show()"
   ]
  },
  {
   "cell_type": "markdown",
   "id": "2558d468",
   "metadata": {
    "papermill": {
     "duration": 0.088847,
     "end_time": "2021-09-18T07:40:31.010485",
     "exception": false,
     "start_time": "2021-09-18T07:40:30.921638",
     "status": "completed"
    },
    "tags": []
   },
   "source": [
    "There is a negative correlation between weight and position since centers are heavier.\n",
    "\n",
    "Age and Count has a correlation as it was explained before."
   ]
  },
  {
   "cell_type": "markdown",
   "id": "03b5c558",
   "metadata": {
    "papermill": {
     "duration": 0.08853,
     "end_time": "2021-09-18T07:40:31.188594",
     "exception": false,
     "start_time": "2021-09-18T07:40:31.100064",
     "status": "completed"
    },
    "tags": []
   },
   "source": [
    "Our target variable y is the Count column since we are going to predict a player's amount of injuries."
   ]
  },
  {
   "cell_type": "code",
   "execution_count": 43,
   "id": "173819ba",
   "metadata": {
    "execution": {
     "iopub.execute_input": "2021-09-18T07:40:31.370942Z",
     "iopub.status.busy": "2021-09-18T07:40:31.369978Z",
     "iopub.status.idle": "2021-09-18T07:40:31.376029Z",
     "shell.execute_reply": "2021-09-18T07:40:31.375526Z",
     "shell.execute_reply.started": "2021-09-18T06:26:23.338137Z"
    },
    "papermill": {
     "duration": 0.098573,
     "end_time": "2021-09-18T07:40:31.376171",
     "exception": false,
     "start_time": "2021-09-18T07:40:31.277598",
     "status": "completed"
    },
    "tags": []
   },
   "outputs": [],
   "source": [
    "y = df_f[\"Count\"]\n",
    "\n",
    "X = df_f.drop([\"Count\"], axis=1)"
   ]
  },
  {
   "cell_type": "code",
   "execution_count": 44,
   "id": "042129fb",
   "metadata": {
    "execution": {
     "iopub.execute_input": "2021-09-18T07:40:31.560328Z",
     "iopub.status.busy": "2021-09-18T07:40:31.559683Z",
     "iopub.status.idle": "2021-09-18T07:40:31.563526Z",
     "shell.execute_reply": "2021-09-18T07:40:31.562887Z",
     "shell.execute_reply.started": "2021-09-18T06:26:23.344251Z"
    },
    "papermill": {
     "duration": 0.0982,
     "end_time": "2021-09-18T07:40:31.563665",
     "exception": false,
     "start_time": "2021-09-18T07:40:31.465465",
     "status": "completed"
    },
    "tags": []
   },
   "outputs": [
    {
     "data": {
      "text/plain": [
       "0    39\n",
       "1    22\n",
       "2     3\n",
       "3     5\n",
       "4    78\n",
       "Name: Count, dtype: int64"
      ]
     },
     "execution_count": 44,
     "metadata": {},
     "output_type": "execute_result"
    }
   ],
   "source": [
    "y.reset_index(drop=True, inplace=True)\n",
    "\n",
    "y.head()"
   ]
  },
  {
   "cell_type": "code",
   "execution_count": 45,
   "id": "6a342ea8",
   "metadata": {
    "execution": {
     "iopub.execute_input": "2021-09-18T07:40:31.750649Z",
     "iopub.status.busy": "2021-09-18T07:40:31.749951Z",
     "iopub.status.idle": "2021-09-18T07:40:31.753931Z",
     "shell.execute_reply": "2021-09-18T07:40:31.753399Z",
     "shell.execute_reply.started": "2021-09-18T06:26:23.361165Z"
    },
    "papermill": {
     "duration": 0.102307,
     "end_time": "2021-09-18T07:40:31.754074",
     "exception": false,
     "start_time": "2021-09-18T07:40:31.651767",
     "status": "completed"
    },
    "tags": []
   },
   "outputs": [
    {
     "data": {
      "text/html": [
       "<div>\n",
       "<style scoped>\n",
       "    .dataframe tbody tr th:only-of-type {\n",
       "        vertical-align: middle;\n",
       "    }\n",
       "\n",
       "    .dataframe tbody tr th {\n",
       "        vertical-align: top;\n",
       "    }\n",
       "\n",
       "    .dataframe thead th {\n",
       "        text-align: right;\n",
       "    }\n",
       "</style>\n",
       "<table border=\"1\" class=\"dataframe\">\n",
       "  <thead>\n",
       "    <tr style=\"text-align: right;\">\n",
       "      <th></th>\n",
       "      <th>Age</th>\n",
       "      <th>Height_i</th>\n",
       "      <th>Weight</th>\n",
       "      <th>position_code</th>\n",
       "      <th>team_code</th>\n",
       "    </tr>\n",
       "  </thead>\n",
       "  <tbody>\n",
       "    <tr>\n",
       "      <th>0</th>\n",
       "      <td>24</td>\n",
       "      <td>6.6</td>\n",
       "      <td>223</td>\n",
       "      <td>2</td>\n",
       "      <td>1</td>\n",
       "    </tr>\n",
       "    <tr>\n",
       "      <th>1</th>\n",
       "      <td>27</td>\n",
       "      <td>6.3</td>\n",
       "      <td>205</td>\n",
       "      <td>2</td>\n",
       "      <td>1</td>\n",
       "    </tr>\n",
       "    <tr>\n",
       "      <th>2</th>\n",
       "      <td>25</td>\n",
       "      <td>7.5</td>\n",
       "      <td>311</td>\n",
       "      <td>0</td>\n",
       "      <td>1</td>\n",
       "    </tr>\n",
       "    <tr>\n",
       "      <th>3</th>\n",
       "      <td>23</td>\n",
       "      <td>6.9</td>\n",
       "      <td>240</td>\n",
       "      <td>1</td>\n",
       "      <td>1</td>\n",
       "    </tr>\n",
       "    <tr>\n",
       "      <th>4</th>\n",
       "      <td>35</td>\n",
       "      <td>6.9</td>\n",
       "      <td>240</td>\n",
       "      <td>0</td>\n",
       "      <td>1</td>\n",
       "    </tr>\n",
       "  </tbody>\n",
       "</table>\n",
       "</div>"
      ],
      "text/plain": [
       "   Age  Height_i  Weight  position_code  team_code\n",
       "0   24       6.6     223              2          1\n",
       "1   27       6.3     205              2          1\n",
       "2   25       7.5     311              0          1\n",
       "3   23       6.9     240              1          1\n",
       "4   35       6.9     240              0          1"
      ]
     },
     "execution_count": 45,
     "metadata": {},
     "output_type": "execute_result"
    }
   ],
   "source": [
    "X.reset_index(drop=True, inplace=True)\n",
    "\n",
    "\n",
    "X.head()"
   ]
  },
  {
   "cell_type": "code",
   "execution_count": 46,
   "id": "e45a7c1e",
   "metadata": {
    "execution": {
     "iopub.execute_input": "2021-09-18T07:40:31.936521Z",
     "iopub.status.busy": "2021-09-18T07:40:31.935867Z",
     "iopub.status.idle": "2021-09-18T07:40:31.940454Z",
     "shell.execute_reply": "2021-09-18T07:40:31.940933Z",
     "shell.execute_reply.started": "2021-09-18T06:26:23.379111Z"
    },
    "papermill": {
     "duration": 0.097732,
     "end_time": "2021-09-18T07:40:31.941107",
     "exception": false,
     "start_time": "2021-09-18T07:40:31.843375",
     "status": "completed"
    },
    "tags": []
   },
   "outputs": [
    {
     "data": {
      "text/plain": [
       "(344,)"
      ]
     },
     "execution_count": 46,
     "metadata": {},
     "output_type": "execute_result"
    }
   ],
   "source": [
    "y.shape"
   ]
  },
  {
   "cell_type": "code",
   "execution_count": 47,
   "id": "0011693b",
   "metadata": {
    "execution": {
     "iopub.execute_input": "2021-09-18T07:40:32.123960Z",
     "iopub.status.busy": "2021-09-18T07:40:32.123243Z",
     "iopub.status.idle": "2021-09-18T07:40:32.127917Z",
     "shell.execute_reply": "2021-09-18T07:40:32.128430Z",
     "shell.execute_reply.started": "2021-09-18T06:26:23.392411Z"
    },
    "papermill": {
     "duration": 0.097347,
     "end_time": "2021-09-18T07:40:32.128609",
     "exception": false,
     "start_time": "2021-09-18T07:40:32.031262",
     "status": "completed"
    },
    "tags": []
   },
   "outputs": [
    {
     "data": {
      "text/plain": [
       "(344, 5)"
      ]
     },
     "execution_count": 47,
     "metadata": {},
     "output_type": "execute_result"
    }
   ],
   "source": [
    "X.shape"
   ]
  },
  {
   "cell_type": "code",
   "execution_count": 48,
   "id": "bdb8d5a2",
   "metadata": {
    "execution": {
     "iopub.execute_input": "2021-09-18T07:40:32.310913Z",
     "iopub.status.busy": "2021-09-18T07:40:32.310262Z",
     "iopub.status.idle": "2021-09-18T07:40:32.366261Z",
     "shell.execute_reply": "2021-09-18T07:40:32.366785Z",
     "shell.execute_reply.started": "2021-09-18T06:26:23.404712Z"
    },
    "papermill": {
     "duration": 0.14829,
     "end_time": "2021-09-18T07:40:32.366981",
     "exception": false,
     "start_time": "2021-09-18T07:40:32.218691",
     "status": "completed"
    },
    "tags": []
   },
   "outputs": [],
   "source": [
    "from sklearn.model_selection import train_test_split\n",
    "X_train, X_test, y_train, y_test = train_test_split(X, y, test_size=0.30, random_state=42)\n"
   ]
  },
  {
   "cell_type": "markdown",
   "id": "9597c75b",
   "metadata": {
    "papermill": {
     "duration": 0.089956,
     "end_time": "2021-09-18T07:40:32.546577",
     "exception": false,
     "start_time": "2021-09-18T07:40:32.456621",
     "status": "completed"
    },
    "tags": []
   },
   "source": [
    "Using linear regression to predict the injury counts"
   ]
  },
  {
   "cell_type": "code",
   "execution_count": 49,
   "id": "688017b8",
   "metadata": {
    "execution": {
     "iopub.execute_input": "2021-09-18T07:40:32.731367Z",
     "iopub.status.busy": "2021-09-18T07:40:32.730429Z",
     "iopub.status.idle": "2021-09-18T07:40:32.984507Z",
     "shell.execute_reply": "2021-09-18T07:40:32.983980Z",
     "shell.execute_reply.started": "2021-09-18T06:26:23.46914Z"
    },
    "papermill": {
     "duration": 0.345878,
     "end_time": "2021-09-18T07:40:32.984667",
     "exception": false,
     "start_time": "2021-09-18T07:40:32.638789",
     "status": "completed"
    },
    "tags": []
   },
   "outputs": [
    {
     "data": {
      "text/plain": [
       "LinearRegression()"
      ]
     },
     "execution_count": 49,
     "metadata": {},
     "output_type": "execute_result"
    }
   ],
   "source": [
    "from sklearn.linear_model import LinearRegression\n",
    "\n",
    "LR = LinearRegression()\n",
    "\n",
    "LR.fit(X_train,y_train)"
   ]
  },
  {
   "cell_type": "code",
   "execution_count": 50,
   "id": "4142f703",
   "metadata": {
    "execution": {
     "iopub.execute_input": "2021-09-18T07:40:33.174941Z",
     "iopub.status.busy": "2021-09-18T07:40:33.174112Z",
     "iopub.status.idle": "2021-09-18T07:40:33.177595Z",
     "shell.execute_reply": "2021-09-18T07:40:33.178068Z",
     "shell.execute_reply.started": "2021-09-18T06:26:23.721006Z"
    },
    "papermill": {
     "duration": 0.103737,
     "end_time": "2021-09-18T07:40:33.178243",
     "exception": false,
     "start_time": "2021-09-18T07:40:33.074506",
     "status": "completed"
    },
    "tags": []
   },
   "outputs": [
    {
     "data": {
      "text/plain": [
       "array([44.72208043, 31.27777924, 24.63173677, 62.59171349, 11.88679374,\n",
       "       29.53340081,  8.47904909, 24.73969768, 27.72118313, 49.39439056,\n",
       "       21.58767403, 17.64792878, 41.46461448, 17.85113047, 13.02803983,\n",
       "       26.69145926, 29.34768935, 24.74939834, 43.56088108, 43.523436  ,\n",
       "       18.24690325, 55.29215193, 10.81716334, 26.36480139, 63.14218248,\n",
       "       64.90853169, 33.07786475, 30.07156301,  0.93271263, 10.22843698,\n",
       "       55.19361627, 22.11744607, 27.93261094, 22.91410369, 22.31858974,\n",
       "       36.71222039, 47.86994873, 40.8370151 , 39.21502715, 10.40883988,\n",
       "       34.95879299, 31.73128626, 29.42252683, 37.96787817, 11.22360274,\n",
       "       23.6480965 , 29.72824293, 13.34277168, 51.73283992, 17.78595762,\n",
       "       26.69434079, 37.01563394, 16.12616233, 27.68374413, 24.9630543 ,\n",
       "       45.465503  , 30.71599644, 12.70776071, 20.80789257, 34.24067725,\n",
       "       27.55682294, 41.84229102,  1.42657171, 26.73314628, 34.85285408,\n",
       "       22.63845551, 10.10460282, 14.66269683, 20.47904257,  6.61852414,\n",
       "       31.52664605,  4.56977968, 27.4517429 , 15.41253229,  5.61266473,\n",
       "       34.07536458,  3.85474713, 80.43950753, 10.62433779, 19.80343051,\n",
       "        4.62240252, 31.98470471, 19.28225159, 33.17273203, 65.71345593,\n",
       "       18.14758695,  9.36731353, 17.85606553, 22.91225116, 41.35329498,\n",
       "       61.67365838,  2.60200691,  4.86595627, 47.09607932, 22.28509281,\n",
       "       42.52046356, 11.27708445, 50.54825935, 19.34149638, 51.36754841,\n",
       "       25.59871322, -0.89764696,  8.68170781, 19.38962903])"
      ]
     },
     "execution_count": 50,
     "metadata": {},
     "output_type": "execute_result"
    }
   ],
   "source": [
    "y_prediction =  LR.predict(X_test)\n",
    "y_prediction"
   ]
  },
  {
   "cell_type": "code",
   "execution_count": 51,
   "id": "25831c0f",
   "metadata": {
    "execution": {
     "iopub.execute_input": "2021-09-18T07:40:33.368705Z",
     "iopub.status.busy": "2021-09-18T07:40:33.367752Z",
     "iopub.status.idle": "2021-09-18T07:40:33.371709Z",
     "shell.execute_reply": "2021-09-18T07:40:33.371057Z",
     "shell.execute_reply.started": "2021-09-18T06:26:23.732863Z"
    },
    "papermill": {
     "duration": 0.101899,
     "end_time": "2021-09-18T07:40:33.371863",
     "exception": false,
     "start_time": "2021-09-18T07:40:33.269964",
     "status": "completed"
    },
    "tags": []
   },
   "outputs": [
    {
     "name": "stdout",
     "output_type": "stream",
     "text": [
      "r2 score is 0.43355838882582187\n",
      "mean_sqrd_error is  373.4642867078523\n",
      "root_mean_squared error of is  19.32522410498394\n"
     ]
    }
   ],
   "source": [
    "from sklearn.metrics import r2_score\n",
    "from sklearn.metrics import mean_squared_error\n",
    "\n",
    "score=r2_score(y_test,y_prediction)\n",
    "print(\"r2 score is\", score)\n",
    "print(\"mean_sqrd_error is \",mean_squared_error(y_test,y_prediction))\n",
    "print(\"root_mean_squared error of is \",np.sqrt(mean_squared_error(y_test,y_prediction)))\n"
   ]
  },
  {
   "cell_type": "code",
   "execution_count": 52,
   "id": "5bc787d5",
   "metadata": {
    "execution": {
     "iopub.execute_input": "2021-09-18T07:40:33.559781Z",
     "iopub.status.busy": "2021-09-18T07:40:33.558882Z",
     "iopub.status.idle": "2021-09-18T07:40:33.563175Z",
     "shell.execute_reply": "2021-09-18T07:40:33.562668Z",
     "shell.execute_reply.started": "2021-09-18T06:26:23.74667Z"
    },
    "papermill": {
     "duration": 0.100855,
     "end_time": "2021-09-18T07:40:33.563329",
     "exception": false,
     "start_time": "2021-09-18T07:40:33.462474",
     "status": "completed"
    },
    "tags": []
   },
   "outputs": [
    {
     "data": {
      "text/plain": [
       "-61.97711589656873"
      ]
     },
     "execution_count": 52,
     "metadata": {},
     "output_type": "execute_result"
    }
   ],
   "source": [
    "LR.intercept_"
   ]
  },
  {
   "cell_type": "code",
   "execution_count": 53,
   "id": "5d9055e4",
   "metadata": {
    "execution": {
     "iopub.execute_input": "2021-09-18T07:40:33.752292Z",
     "iopub.status.busy": "2021-09-18T07:40:33.751367Z",
     "iopub.status.idle": "2021-09-18T07:40:33.755457Z",
     "shell.execute_reply": "2021-09-18T07:40:33.754925Z",
     "shell.execute_reply.started": "2021-09-18T06:26:23.754928Z"
    },
    "papermill": {
     "duration": 0.100423,
     "end_time": "2021-09-18T07:40:33.755604",
     "exception": false,
     "start_time": "2021-09-18T07:40:33.655181",
     "status": "completed"
    },
    "tags": []
   },
   "outputs": [
    {
     "data": {
      "text/plain": [
       "array([ 3.92213599, -5.16729898,  0.07631652,  0.43839587, -0.10840645])"
      ]
     },
     "execution_count": 53,
     "metadata": {},
     "output_type": "execute_result"
    }
   ],
   "source": [
    "LR.coef_"
   ]
  },
  {
   "cell_type": "code",
   "execution_count": 54,
   "id": "12a94a00",
   "metadata": {
    "execution": {
     "iopub.execute_input": "2021-09-18T07:40:33.950866Z",
     "iopub.status.busy": "2021-09-18T07:40:33.950195Z",
     "iopub.status.idle": "2021-09-18T07:40:33.955857Z",
     "shell.execute_reply": "2021-09-18T07:40:33.955369Z",
     "shell.execute_reply.started": "2021-09-18T06:26:23.769493Z"
    },
    "papermill": {
     "duration": 0.107625,
     "end_time": "2021-09-18T07:40:33.955996",
     "exception": false,
     "start_time": "2021-09-18T07:40:33.848371",
     "status": "completed"
    },
    "tags": []
   },
   "outputs": [
    {
     "data": {
      "text/html": [
       "<div>\n",
       "<style scoped>\n",
       "    .dataframe tbody tr th:only-of-type {\n",
       "        vertical-align: middle;\n",
       "    }\n",
       "\n",
       "    .dataframe tbody tr th {\n",
       "        vertical-align: top;\n",
       "    }\n",
       "\n",
       "    .dataframe thead th {\n",
       "        text-align: right;\n",
       "    }\n",
       "</style>\n",
       "<table border=\"1\" class=\"dataframe\">\n",
       "  <thead>\n",
       "    <tr style=\"text-align: right;\">\n",
       "      <th></th>\n",
       "      <th>0</th>\n",
       "      <th>0</th>\n",
       "    </tr>\n",
       "  </thead>\n",
       "  <tbody>\n",
       "    <tr>\n",
       "      <th>0</th>\n",
       "      <td>Age</td>\n",
       "      <td>3.922136</td>\n",
       "    </tr>\n",
       "    <tr>\n",
       "      <th>1</th>\n",
       "      <td>Height_i</td>\n",
       "      <td>-5.167299</td>\n",
       "    </tr>\n",
       "    <tr>\n",
       "      <th>2</th>\n",
       "      <td>Weight</td>\n",
       "      <td>0.076317</td>\n",
       "    </tr>\n",
       "    <tr>\n",
       "      <th>3</th>\n",
       "      <td>position_code</td>\n",
       "      <td>0.438396</td>\n",
       "    </tr>\n",
       "    <tr>\n",
       "      <th>4</th>\n",
       "      <td>team_code</td>\n",
       "      <td>-0.108406</td>\n",
       "    </tr>\n",
       "  </tbody>\n",
       "</table>\n",
       "</div>"
      ],
      "text/plain": [
       "               0         0\n",
       "0            Age  3.922136\n",
       "1       Height_i -5.167299\n",
       "2         Weight  0.076317\n",
       "3  position_code  0.438396\n",
       "4      team_code -0.108406"
      ]
     },
     "execution_count": 54,
     "metadata": {},
     "output_type": "execute_result"
    }
   ],
   "source": [
    "coefficients = pd.concat([pd.DataFrame(X.columns),pd.DataFrame(np.transpose(LR.coef_))], axis = 1)\n",
    "coefficients"
   ]
  },
  {
   "cell_type": "markdown",
   "id": "d41c9d00",
   "metadata": {
    "papermill": {
     "duration": 0.095827,
     "end_time": "2021-09-18T07:40:34.143908",
     "exception": false,
     "start_time": "2021-09-18T07:40:34.048081",
     "status": "completed"
    },
    "tags": []
   },
   "source": [
    "Our multiple linear regression equation is:\n",
    "\n",
    "y = -61.98 + 3.92*age - 5.17*height + 0.07*weight + 0.44*position_code - 0.11*team_code"
   ]
  },
  {
   "cell_type": "code",
   "execution_count": 55,
   "id": "cc8a966f",
   "metadata": {
    "execution": {
     "iopub.execute_input": "2021-09-18T07:40:34.349229Z",
     "iopub.status.busy": "2021-09-18T07:40:34.348593Z",
     "iopub.status.idle": "2021-09-18T07:40:34.568822Z",
     "shell.execute_reply": "2021-09-18T07:40:34.569286Z",
     "shell.execute_reply.started": "2021-09-18T06:26:23.787443Z"
    },
    "papermill": {
     "duration": 0.333634,
     "end_time": "2021-09-18T07:40:34.569474",
     "exception": false,
     "start_time": "2021-09-18T07:40:34.235840",
     "status": "completed"
    },
    "tags": []
   },
   "outputs": [
    {
     "data": {
      "text/plain": [
       "<AxesSubplot:xlabel='Count'>"
      ]
     },
     "execution_count": 55,
     "metadata": {},
     "output_type": "execute_result"
    },
    {
     "data": {
      "image/png": "[encoded data removed]",
      "text/plain": [
       "<Figure size 432x288 with 1 Axes>"
      ]
     },
     "metadata": {},
     "output_type": "display_data"
    }
   ],
   "source": [
    "sns.regplot(x=y_test, y=y_prediction, ci=None, color=\"r\")"
   ]
  },
  {
   "cell_type": "markdown",
   "id": "75f0c3dc",
   "metadata": {
    "papermill": {
     "duration": 0.093524,
     "end_time": "2021-09-18T07:40:34.756283",
     "exception": false,
     "start_time": "2021-09-18T07:40:34.662759",
     "status": "completed"
    },
    "tags": []
   },
   "source": [
    "Checking our predictions vs the actual scores."
   ]
  },
  {
   "cell_type": "code",
   "execution_count": 56,
   "id": "f3426a83",
   "metadata": {
    "execution": {
     "iopub.execute_input": "2021-09-18T07:40:34.956268Z",
     "iopub.status.busy": "2021-09-18T07:40:34.955639Z",
     "iopub.status.idle": "2021-09-18T07:40:34.959662Z",
     "shell.execute_reply": "2021-09-18T07:40:34.960111Z",
     "shell.execute_reply.started": "2021-09-18T06:26:24.048653Z"
    },
    "papermill": {
     "duration": 0.110447,
     "end_time": "2021-09-18T07:40:34.960284",
     "exception": false,
     "start_time": "2021-09-18T07:40:34.849837",
     "status": "completed"
    },
    "tags": []
   },
   "outputs": [
    {
     "data": {
      "text/html": [
       "<div>\n",
       "<style scoped>\n",
       "    .dataframe tbody tr th:only-of-type {\n",
       "        vertical-align: middle;\n",
       "    }\n",
       "\n",
       "    .dataframe tbody tr th {\n",
       "        vertical-align: top;\n",
       "    }\n",
       "\n",
       "    .dataframe thead th {\n",
       "        text-align: right;\n",
       "    }\n",
       "</style>\n",
       "<table border=\"1\" class=\"dataframe\">\n",
       "  <thead>\n",
       "    <tr style=\"text-align: right;\">\n",
       "      <th></th>\n",
       "      <th>actual</th>\n",
       "      <th>pred</th>\n",
       "    </tr>\n",
       "  </thead>\n",
       "  <tbody>\n",
       "    <tr>\n",
       "      <th>194</th>\n",
       "      <td>40</td>\n",
       "      <td>44.722080</td>\n",
       "    </tr>\n",
       "    <tr>\n",
       "      <th>157</th>\n",
       "      <td>65</td>\n",
       "      <td>31.277779</td>\n",
       "    </tr>\n",
       "    <tr>\n",
       "      <th>225</th>\n",
       "      <td>20</td>\n",
       "      <td>24.631737</td>\n",
       "    </tr>\n",
       "    <tr>\n",
       "      <th>208</th>\n",
       "      <td>64</td>\n",
       "      <td>62.591713</td>\n",
       "    </tr>\n",
       "    <tr>\n",
       "      <th>318</th>\n",
       "      <td>12</td>\n",
       "      <td>11.886794</td>\n",
       "    </tr>\n",
       "    <tr>\n",
       "      <th>329</th>\n",
       "      <td>14</td>\n",
       "      <td>29.533401</td>\n",
       "    </tr>\n",
       "    <tr>\n",
       "      <th>319</th>\n",
       "      <td>7</td>\n",
       "      <td>8.479049</td>\n",
       "    </tr>\n",
       "    <tr>\n",
       "      <th>260</th>\n",
       "      <td>28</td>\n",
       "      <td>24.739698</td>\n",
       "    </tr>\n",
       "    <tr>\n",
       "      <th>114</th>\n",
       "      <td>76</td>\n",
       "      <td>27.721183</td>\n",
       "    </tr>\n",
       "    <tr>\n",
       "      <th>220</th>\n",
       "      <td>38</td>\n",
       "      <td>49.394391</td>\n",
       "    </tr>\n",
       "    <tr>\n",
       "      <th>310</th>\n",
       "      <td>10</td>\n",
       "      <td>21.587674</td>\n",
       "    </tr>\n",
       "    <tr>\n",
       "      <th>104</th>\n",
       "      <td>18</td>\n",
       "      <td>17.647929</td>\n",
       "    </tr>\n",
       "    <tr>\n",
       "      <th>42</th>\n",
       "      <td>38</td>\n",
       "      <td>41.464614</td>\n",
       "    </tr>\n",
       "    <tr>\n",
       "      <th>90</th>\n",
       "      <td>6</td>\n",
       "      <td>17.851130</td>\n",
       "    </tr>\n",
       "    <tr>\n",
       "      <th>300</th>\n",
       "      <td>6</td>\n",
       "      <td>13.028040</td>\n",
       "    </tr>\n",
       "  </tbody>\n",
       "</table>\n",
       "</div>"
      ],
      "text/plain": [
       "     actual       pred\n",
       "194      40  44.722080\n",
       "157      65  31.277779\n",
       "225      20  24.631737\n",
       "208      64  62.591713\n",
       "318      12  11.886794\n",
       "329      14  29.533401\n",
       "319       7   8.479049\n",
       "260      28  24.739698\n",
       "114      76  27.721183\n",
       "220      38  49.394391\n",
       "310      10  21.587674\n",
       "104      18  17.647929\n",
       "42       38  41.464614\n",
       "90        6  17.851130\n",
       "300       6  13.028040"
      ]
     },
     "execution_count": 56,
     "metadata": {},
     "output_type": "execute_result"
    }
   ],
   "source": [
    "res = pd.DataFrame()\n",
    "res[\"actual\"] = y_test\n",
    "res[\"pred\"] = y_prediction\n",
    "res.head(15)\n"
   ]
  }
 ],
 "metadata": {
  "kernelspec": {
   "display_name": "Python 3",
   "language": "python",
   "name": "python3"
  },
  "language_info": {
   "codemirror_mode": {
    "name": "ipython",
    "version": 3
   },
   "file_extension": ".py",
   "mimetype": "text/x-python",
   "name": "python",
   "nbconvert_exporter": "python",
   "pygments_lexer": "ipython3",
   "version": "3.7.10"
  },
  "papermill": {
   "default_parameters": {},
   "duration": 30.948917,
   "end_time": "2021-09-18T07:40:36.520053",
   "environment_variables": {},
   "exception": null,
   "input_path": "__notebook__.ipynb",
   "output_path": "__notebook__.ipynb",
   "parameters": {},
   "start_time": "2021-09-18T07:40:05.571136",
   "version": "2.3.3"
  }
 },
 "nbformat": 4,
 "nbformat_minor": 5
}
