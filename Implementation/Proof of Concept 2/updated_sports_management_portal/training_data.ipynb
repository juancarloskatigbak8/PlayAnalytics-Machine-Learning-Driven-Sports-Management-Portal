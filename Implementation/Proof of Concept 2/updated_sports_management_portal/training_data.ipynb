{
 "cells": [
  {
   "cell_type": "code",
   "execution_count": 1,
   "id": "55088584-24e0-44a3-a738-fc0bcbbdef30",
   "metadata": {},
   "outputs": [
    {
     "name": "stdout",
     "output_type": "stream",
     "text": [
      "✅ Model saved as rf_injury_model.joblib\n"
     ]
    }
   ],
   "source": [
    "import pandas as pd\n",
    "from sklearn.ensemble import RandomForestClassifier\n",
    "from sklearn.model_selection import train_test_split\n",
    "from sklearn.preprocessing import LabelEncoder\n",
    "import joblib\n",
    "\n",
    "# Load your enhanced dataset\n",
    "df = pd.read_csv(\"player_data_enhanced.csv\")\n",
    "\n",
    "# Features for model\n",
    "features = [\n",
    "    \"Minutes_per_game\", \"FG_Attempts_per_game\", \"Steals_per_game\", \"Blocks_per_game\",\n",
    "    \"Fouls_per_game\", \"Cumulative_Load\", \"Age\", \"Height_in_Inches\", \"Weight_in_Pounds\", \"Total_Injuries\"\n",
    "]\n",
    "\n",
    "# Ensure all needed columns exist\n",
    "df = df.dropna(subset=features + [\"Risk_Level\"])\n",
    "\n",
    "X = df[features]\n",
    "le = LabelEncoder()\n",
    "y = le.fit_transform(df[\"Risk_Level\"])\n",
    "\n",
    "# Train-test split\n",
    "X_train, X_test, y_train, y_test = train_test_split(X, y, stratify=y, test_size=0.2, random_state=42)\n",
    "\n",
    "# Train model\n",
    "rf_model = RandomForestClassifier(n_estimators=100, random_state=42)\n",
    "rf_model.fit(X_train, y_train)\n",
    "\n",
    "# Save model to file\n",
    "joblib.dump(rf_model, \"rf_injury_model.joblib\")\n",
    "print(\"✅ Model saved as rf_injury_model.joblib\")\n"
   ]
  },
  {
   "cell_type": "code",
   "execution_count": null,
   "id": "1c954f9e-ef44-4fb1-8d69-96564bb4a87e",
   "metadata": {},
   "outputs": [],
   "source": []
  }
 ],
 "metadata": {
  "kernelspec": {
   "display_name": "Python [conda env:base] *",
   "language": "python",
   "name": "conda-base-py"
  },
  "language_info": {
   "codemirror_mode": {
    "name": "ipython",
    "version": 3
   },
   "file_extension": ".py",
   "mimetype": "text/x-python",
   "name": "python",
   "nbconvert_exporter": "python",
   "pygments_lexer": "ipython3",
   "version": "3.12.2"
  }
 },
 "nbformat": 4,
 "nbformat_minor": 5
}
